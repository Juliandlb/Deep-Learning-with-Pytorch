{
 "cells": [
  {
   "cell_type": "markdown",
   "id": "9f3ef7fb",
   "metadata": {
    "id": "IDQ0ZQJoeq6v",
    "papermill": {
     "duration": 0.003787,
     "end_time": "2024-08-08T16:43:17.024953",
     "exception": false,
     "start_time": "2024-08-08T16:43:17.021166",
     "status": "completed"
    },
    "tags": []
   },
   "source": [
    "# Gated recurrent unit\n",
    "\n",
    "Gated recurrent units (GRUs) are a gating mechanism in recurrent neural networks, introduced in 2014 by Kyunghyun Cho et al.\n",
    "\n",
    "The GRU is like a long short-term memory (LSTM) with a gating mechanism to input or forget certain features, but lacks a context vector or output gate, resulting in fewer parameters than LSTM\n",
    "\n",
    "Some documentation\n",
    "- [Wikipedia - GRUs](https://en.wikipedia.org/wiki/Gated_recurrent_unit)\n",
    "\n",
    "\n",
    "# Imports"
   ]
  },
  {
   "cell_type": "code",
   "execution_count": 1,
   "id": "1051cc06",
   "metadata": {
    "execution": {
     "iopub.execute_input": "2024-08-08T16:43:17.033562Z",
     "iopub.status.busy": "2024-08-08T16:43:17.033143Z",
     "iopub.status.idle": "2024-08-08T16:43:22.184163Z",
     "shell.execute_reply": "2024-08-08T16:43:22.183001Z"
    },
    "id": "2rnQ7hvOeNhh",
    "papermill": {
     "duration": 5.158231,
     "end_time": "2024-08-08T16:43:22.186798",
     "exception": false,
     "start_time": "2024-08-08T16:43:17.028567",
     "status": "completed"
    },
    "tags": []
   },
   "outputs": [],
   "source": [
    "import torch\n",
    "import torch.nn as nn\n",
    "import torch.optim as optim\n",
    "import torch.nn.functional as F\n",
    "from torch.utils.data import DataLoader\n",
    "import torchvision.datasets as datasets\n",
    "import torchvision.transforms as transforms\n",
    "\n",
    "# Device\n",
    "device = torch.device('cuda' if torch.cuda.is_available() else 'cpu')"
   ]
  },
  {
   "cell_type": "markdown",
   "id": "340fb169",
   "metadata": {
    "id": "tVIhuFdHevrr",
    "papermill": {
     "duration": 0.003166,
     "end_time": "2024-08-08T16:43:22.193515",
     "exception": false,
     "start_time": "2024-08-08T16:43:22.190349",
     "status": "completed"
    },
    "tags": []
   },
   "source": [
    "# Model\n",
    "In this application the RNN we can view the images from the MNIST dataset (28x28) as 28 time sequences with 28 features. Of course, normally we wouldn use RNN with images, there are way better architectures for this image related tasks."
   ]
  },
  {
   "cell_type": "code",
   "execution_count": 2,
   "id": "d11a9d8e",
   "metadata": {
    "execution": {
     "iopub.execute_input": "2024-08-08T16:43:22.202191Z",
     "iopub.status.busy": "2024-08-08T16:43:22.201191Z",
     "iopub.status.idle": "2024-08-08T16:43:22.209517Z",
     "shell.execute_reply": "2024-08-08T16:43:22.208540Z"
    },
    "id": "De4IB4j9ezAX",
    "outputId": "f5ec245b-3d21-47dd-d37a-0859b37e2273",
    "papermill": {
     "duration": 0.01486,
     "end_time": "2024-08-08T16:43:22.211702",
     "exception": false,
     "start_time": "2024-08-08T16:43:22.196842",
     "status": "completed"
    },
    "tags": []
   },
   "outputs": [],
   "source": [
    "# Hyperparameter\n",
    "input_size = 28\n",
    "sequence_length = 28\n",
    "num_layers = 2\n",
    "hidden_size = 256\n",
    "num_classes = 10\n",
    "learning_rate = 0.001\n",
    "batch_size = 64\n",
    "num_epochs = 2\n",
    "    \n",
    "# Create the model\n",
    "class RNN(nn.Module):\n",
    "    def __init__(self, input_size, hidden_size, num_layers, num_classes):\n",
    "        super(RNN, self).__init__()\n",
    "        self.hidden_size = hidden_size\n",
    "        self.num_layers = num_layers\n",
    "        self.rnn = nn.RNN(input_size, hidden_size, num_layers, batch_first=True)\n",
    "        self.fc = nn.Linear(hidden_size*sequence_length, num_classes)\n",
    "        \n",
    "    def forward(self, x):\n",
    "        # initialization of hidden states\n",
    "        h0 = torch.zeros(self.num_layers, x.size(0), self.hidden_size).to(device) # (num_layers, N_mini_batches, hidden_size)\n",
    "        # forward prop\n",
    "        out, _ = self.rnn(x, h0) # here we dont store the hidden state, because every example has its own hidden state\n",
    "        out = out.reshape(out.shape[0], -1)\n",
    "        out = self.fc(out)\n",
    "        return out"
   ]
  },
  {
   "cell_type": "markdown",
   "id": "abf1bf88",
   "metadata": {
    "id": "NivC79aefIGV",
    "papermill": {
     "duration": 0.002954,
     "end_time": "2024-08-08T16:43:22.217918",
     "exception": false,
     "start_time": "2024-08-08T16:43:22.214964",
     "status": "completed"
    },
    "tags": []
   },
   "source": [
    "# Load Data\n",
    "- MNIST: 28x28 pixels\n",
    "- When we load the dataset, the shape will be (batch_size, 1, 28, 28)"
   ]
  },
  {
   "cell_type": "code",
   "execution_count": 3,
   "id": "55e04d11",
   "metadata": {
    "execution": {
     "iopub.execute_input": "2024-08-08T16:43:22.226045Z",
     "iopub.status.busy": "2024-08-08T16:43:22.225294Z",
     "iopub.status.idle": "2024-08-08T16:43:28.820863Z",
     "shell.execute_reply": "2024-08-08T16:43:28.819687Z"
    },
    "id": "27vHygWwfKiU",
    "outputId": "5cc9f5ad-68e5-484f-dc39-93eb6ea13208",
    "papermill": {
     "duration": 6.602848,
     "end_time": "2024-08-08T16:43:28.823906",
     "exception": false,
     "start_time": "2024-08-08T16:43:22.221058",
     "status": "completed"
    },
    "tags": []
   },
   "outputs": [
    {
     "name": "stdout",
     "output_type": "stream",
     "text": [
      "Downloading http://yann.lecun.com/exdb/mnist/train-images-idx3-ubyte.gz\n",
      "Failed to download (trying next):\n",
      "HTTP Error 403: Forbidden\n",
      "\n",
      "Downloading https://ossci-datasets.s3.amazonaws.com/mnist/train-images-idx3-ubyte.gz\n",
      "Downloading https://ossci-datasets.s3.amazonaws.com/mnist/train-images-idx3-ubyte.gz to dataset/MNIST/raw/train-images-idx3-ubyte.gz\n"
     ]
    },
    {
     "name": "stderr",
     "output_type": "stream",
     "text": [
      "100%|██████████| 9912422/9912422 [00:00<00:00, 11330288.33it/s]\n"
     ]
    },
    {
     "name": "stdout",
     "output_type": "stream",
     "text": [
      "Extracting dataset/MNIST/raw/train-images-idx3-ubyte.gz to dataset/MNIST/raw\n",
      "\n",
      "Downloading http://yann.lecun.com/exdb/mnist/train-labels-idx1-ubyte.gz\n",
      "Failed to download (trying next):\n",
      "HTTP Error 403: Forbidden\n",
      "\n",
      "Downloading https://ossci-datasets.s3.amazonaws.com/mnist/train-labels-idx1-ubyte.gz\n",
      "Downloading https://ossci-datasets.s3.amazonaws.com/mnist/train-labels-idx1-ubyte.gz to dataset/MNIST/raw/train-labels-idx1-ubyte.gz\n"
     ]
    },
    {
     "name": "stderr",
     "output_type": "stream",
     "text": [
      "100%|██████████| 28881/28881 [00:00<00:00, 334052.24it/s]\n"
     ]
    },
    {
     "name": "stdout",
     "output_type": "stream",
     "text": [
      "Extracting dataset/MNIST/raw/train-labels-idx1-ubyte.gz to dataset/MNIST/raw\n",
      "\n",
      "Downloading http://yann.lecun.com/exdb/mnist/t10k-images-idx3-ubyte.gz\n",
      "Failed to download (trying next):\n",
      "HTTP Error 403: Forbidden\n",
      "\n",
      "Downloading https://ossci-datasets.s3.amazonaws.com/mnist/t10k-images-idx3-ubyte.gz\n",
      "Downloading https://ossci-datasets.s3.amazonaws.com/mnist/t10k-images-idx3-ubyte.gz to dataset/MNIST/raw/t10k-images-idx3-ubyte.gz\n"
     ]
    },
    {
     "name": "stderr",
     "output_type": "stream",
     "text": [
      "100%|██████████| 1648877/1648877 [00:00<00:00, 3376382.43it/s]\n"
     ]
    },
    {
     "name": "stdout",
     "output_type": "stream",
     "text": [
      "Extracting dataset/MNIST/raw/t10k-images-idx3-ubyte.gz to dataset/MNIST/raw\n",
      "\n",
      "Downloading http://yann.lecun.com/exdb/mnist/t10k-labels-idx1-ubyte.gz\n",
      "Failed to download (trying next):\n",
      "HTTP Error 403: Forbidden\n",
      "\n",
      "Downloading https://ossci-datasets.s3.amazonaws.com/mnist/t10k-labels-idx1-ubyte.gz\n",
      "Downloading https://ossci-datasets.s3.amazonaws.com/mnist/t10k-labels-idx1-ubyte.gz to dataset/MNIST/raw/t10k-labels-idx1-ubyte.gz\n"
     ]
    },
    {
     "name": "stderr",
     "output_type": "stream",
     "text": [
      "100%|██████████| 4542/4542 [00:00<00:00, 2049766.38it/s]"
     ]
    },
    {
     "name": "stdout",
     "output_type": "stream",
     "text": [
      "Extracting dataset/MNIST/raw/t10k-labels-idx1-ubyte.gz to dataset/MNIST/raw\n",
      "\n"
     ]
    },
    {
     "name": "stderr",
     "output_type": "stream",
     "text": [
      "\n"
     ]
    }
   ],
   "source": [
    "train_dataset = datasets.MNIST(root='dataset/', train=True, transform=transforms.ToTensor(), download=True)\n",
    "train_loader = DataLoader(dataset=train_dataset, batch_size=batch_size, shuffle=True)\n",
    "test_dataset = datasets.MNIST(root='dataset/', train=False, transform=transforms.ToTensor(), download=True)\n",
    "test_loader = DataLoader(dataset=test_dataset, batch_size=batch_size, shuffle=True)"
   ]
  },
  {
   "cell_type": "markdown",
   "id": "62820857",
   "metadata": {
    "id": "PohFFebhe2K7",
    "papermill": {
     "duration": 0.005234,
     "end_time": "2024-08-08T16:43:28.834767",
     "exception": false,
     "start_time": "2024-08-08T16:43:28.829533",
     "status": "completed"
    },
    "tags": []
   },
   "source": [
    "# Training"
   ]
  },
  {
   "cell_type": "code",
   "execution_count": 4,
   "id": "1fa736c3",
   "metadata": {
    "execution": {
     "iopub.execute_input": "2024-08-08T16:43:28.847789Z",
     "iopub.status.busy": "2024-08-08T16:43:28.846834Z",
     "iopub.status.idle": "2024-08-08T16:44:43.940204Z",
     "shell.execute_reply": "2024-08-08T16:44:43.939241Z"
    },
    "id": "Xucyzc8Ge8RH",
    "papermill": {
     "duration": 75.102896,
     "end_time": "2024-08-08T16:44:43.943067",
     "exception": false,
     "start_time": "2024-08-08T16:43:28.840171",
     "status": "completed"
    },
    "tags": []
   },
   "outputs": [],
   "source": [
    "# Intialize NN\n",
    "model = RNN(input_size, hidden_size, num_layers, num_classes).to(device)\n",
    "\n",
    "# Loss and optimizer\n",
    "criterion = nn.CrossEntropyLoss()\n",
    "optimizer = optim.Adam(model.parameters(), lr=learning_rate)\n",
    "\n",
    "# Train the NN\n",
    "for epoch in range(num_epochs):\n",
    "    for batch_idx, (data, targets) in enumerate(train_loader):\n",
    "        # Get data to device\n",
    "        data = data.to(device=device).squeeze(1) #remove the dimention 1 in (Nx1x28x28)\n",
    "        targets = targets.to(device=device)\n",
    "\n",
    "        # Forward propagation\n",
    "        scores = model(data)\n",
    "        loss = criterion(scores, targets)\n",
    "\n",
    "        # Backward propagation\n",
    "        optimizer.zero_grad() # initialize all gradients to zero for each batch\n",
    "        loss.backward()\n",
    "\n",
    "        # Gradient descent or Adam step\n",
    "        optimizer.step()"
   ]
  },
  {
   "cell_type": "markdown",
   "id": "2a67f16b",
   "metadata": {
    "id": "UvS7Go0de-yH",
    "papermill": {
     "duration": 0.005114,
     "end_time": "2024-08-08T16:44:43.953984",
     "exception": false,
     "start_time": "2024-08-08T16:44:43.948870",
     "status": "completed"
    },
    "tags": []
   },
   "source": [
    "# Performance"
   ]
  },
  {
   "cell_type": "code",
   "execution_count": 5,
   "id": "6cbd1c58",
   "metadata": {
    "execution": {
     "iopub.execute_input": "2024-08-08T16:44:43.967564Z",
     "iopub.status.busy": "2024-08-08T16:44:43.967135Z",
     "iopub.status.idle": "2024-08-08T16:44:43.974862Z",
     "shell.execute_reply": "2024-08-08T16:44:43.973802Z"
    },
    "id": "w9ZXp1PCfADg",
    "papermill": {
     "duration": 0.017461,
     "end_time": "2024-08-08T16:44:43.977021",
     "exception": false,
     "start_time": "2024-08-08T16:44:43.959560",
     "status": "completed"
    },
    "tags": []
   },
   "outputs": [],
   "source": [
    "# Check accuracy on training and test sets\n",
    "def check_accuracy(loader, model):\n",
    "    if loader.dataset.train:\n",
    "        print(\"Checking accuracy on training data\")\n",
    "    else:\n",
    "        print(\"Checking accuracy on test data\")\n",
    "    num_correct = 0\n",
    "    num_samples = 0\n",
    "    model.eval()\n",
    "\n",
    "    with torch.no_grad():\n",
    "        for x, y in loader:\n",
    "            x = x.to(device=device).squeeze(1)\n",
    "            y = y.to(device=device)\n",
    "\n",
    "            scores = model(x)\n",
    "            _, predictions = scores.max(1)  # scores is 64x10 and we want to know which one of those the is the maximum value, so in max: dim=1\n",
    "            num_correct += (predictions == y).sum()\n",
    "            num_samples += predictions.size(0)\n",
    "\n",
    "        print(f'got {num_correct} / {num_samples} with accuracy {float(num_correct)/float(num_samples)*100:.2f}')\n",
    "    model.train()"
   ]
  },
  {
   "cell_type": "code",
   "execution_count": 6,
   "id": "5c7b5f37",
   "metadata": {
    "execution": {
     "iopub.execute_input": "2024-08-08T16:44:43.989726Z",
     "iopub.status.busy": "2024-08-08T16:44:43.989333Z",
     "iopub.status.idle": "2024-08-08T16:45:03.810968Z",
     "shell.execute_reply": "2024-08-08T16:45:03.809838Z"
    },
    "id": "hLDIDqEPrWhk",
    "outputId": "94a9d564-477f-43db-88ca-477c4af08078",
    "papermill": {
     "duration": 19.831063,
     "end_time": "2024-08-08T16:45:03.813672",
     "exception": false,
     "start_time": "2024-08-08T16:44:43.982609",
     "status": "completed"
    },
    "tags": []
   },
   "outputs": [
    {
     "name": "stdout",
     "output_type": "stream",
     "text": [
      "Checking accuracy on training data\n",
      "got 57794 / 60000 with accuracy 96.32\n",
      "Checking accuracy on test data\n",
      "got 9620 / 10000 with accuracy 96.20\n"
     ]
    }
   ],
   "source": [
    "check_accuracy(train_loader, model)\n",
    "check_accuracy(test_loader, model)"
   ]
  }
 ],
 "metadata": {
  "accelerator": "GPU",
  "colab": {
   "authorship_tag": "ABX9TyObrvh6X37pU5sz9wyubq+G",
   "gpuType": "T4",
   "include_colab_link": true,
   "provenance": []
  },
  "kaggle": {
   "accelerator": "none",
   "dataSources": [],
   "dockerImageVersionId": 30746,
   "isGpuEnabled": false,
   "isInternetEnabled": true,
   "language": "python",
   "sourceType": "notebook"
  },
  "kernelspec": {
   "display_name": "Python 3",
   "language": "python",
   "name": "python3"
  },
  "language_info": {
   "codemirror_mode": {
    "name": "ipython",
    "version": 3
   },
   "file_extension": ".py",
   "mimetype": "text/x-python",
   "name": "python",
   "nbconvert_exporter": "python",
   "pygments_lexer": "ipython3",
   "version": "3.10.13"
  },
  "papermill": {
   "default_parameters": {},
   "duration": 110.549734,
   "end_time": "2024-08-08T16:45:04.841879",
   "environment_variables": {},
   "exception": null,
   "input_path": "__notebook__.ipynb",
   "output_path": "__notebook__.ipynb",
   "parameters": {},
   "start_time": "2024-08-08T16:43:14.292145",
   "version": "2.5.0"
  }
 },
 "nbformat": 4,
 "nbformat_minor": 5
}
