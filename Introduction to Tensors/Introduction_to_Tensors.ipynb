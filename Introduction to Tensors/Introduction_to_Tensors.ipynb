{
  "nbformat": 4,
  "nbformat_minor": 0,
  "metadata": {
    "colab": {
      "provenance": [],
      "gpuType": "T4",
      "authorship_tag": "ABX9TyOGtED0nYPXMQ5iu6K1Ownc",
      "include_colab_link": true
    },
    "kernelspec": {
      "name": "python3",
      "display_name": "Python 3"
    },
    "language_info": {
      "name": "python"
    },
    "accelerator": "GPU"
  },
  "cells": [
    {
      "cell_type": "markdown",
      "metadata": {
        "id": "view-in-github",
        "colab_type": "text"
      },
      "source": [
        "<a href=\"https://colab.research.google.com/github/Juliandlb/Deep-Learning-with-Pytorch/blob/main/Introduction%20to%20Tensors/Introduction_to_Tensors.ipynb\" target=\"_parent\"><img src=\"https://colab.research.google.com/assets/colab-badge.svg\" alt=\"Open In Colab\"/></a>"
      ]
    },
    {
      "cell_type": "markdown",
      "source": [
        "# Setup\n",
        "Import torch and check if there is a GPU available"
      ],
      "metadata": {
        "id": "uKfDnDv5kfus"
      }
    },
    {
      "cell_type": "code",
      "execution_count": 2,
      "metadata": {
        "colab": {
          "base_uri": "https://localhost:8080/"
        },
        "id": "ngAV5o4Df1-W",
        "outputId": "4d260b49-1788-4d42-de67-a90e8669d4e0"
      },
      "outputs": [
        {
          "output_type": "stream",
          "name": "stdout",
          "text": [
            "2.3.1+cu121\n",
            "GPU is available\n"
          ]
        }
      ],
      "source": [
        "import torch\n",
        "print(torch.__version__)\n",
        "# Check if GPU is available\n",
        "if torch.cuda.is_available():\n",
        "    device = torch.device('cuda')\n",
        "    print(\"GPU is available\")\n",
        "else:\n",
        "    device = torch.device('cpu')\n",
        "    print(\"GPU is not available\")"
      ]
    },
    {
      "cell_type": "markdown",
      "source": [
        "# Tensor Initialization"
      ],
      "metadata": {
        "id": "vxuakNEgknyT"
      }
    },
    {
      "cell_type": "code",
      "source": [
        "# Create a tensor\n",
        "my_tensor = torch.tensor([[1,2,3],[4,5,6]])\n",
        "print(my_tensor)\n",
        "print(my_tensor.dtype)\n",
        "# Specify the type of the tensor\n",
        "my_tensor = torch.tensor([[1,2,3],[4,5,6]], dtype=torch.float32)\n",
        "print(my_tensor.dtype)\n",
        "# Specify the device of the tensor\n",
        "my_tensor = torch.tensor([[1,2,3],[4,5,6]], dtype=torch.float32, device = device)\n",
        "print(my_tensor.device)\n",
        "# Specify if the tensor requires gadient\n",
        "my_tensor = torch.tensor([[1,2,3],[4,5,6]], dtype=torch.float32, device = device, requires_grad=True)"
      ],
      "metadata": {
        "colab": {
          "base_uri": "https://localhost:8080/"
        },
        "id": "tzfoMflWkGVX",
        "outputId": "2a32d64e-53f7-4f3f-9543-693ec4e8650d"
      },
      "execution_count": 3,
      "outputs": [
        {
          "output_type": "stream",
          "name": "stdout",
          "text": [
            "tensor([[1, 2, 3],\n",
            "        [4, 5, 6]])\n",
            "torch.int64\n",
            "torch.float32\n",
            "cuda:0\n"
          ]
        }
      ]
    },
    {
      "cell_type": "code",
      "source": [
        "# Other initialization methods\n",
        "x = torch.empty(size = (3,3)) # The values will be random\n",
        "print(x)\n",
        "x = torch.zeros(size = (3,3))\n",
        "print(x)\n",
        "x = torch.rand(size = (3,3))\n",
        "print(x)\n",
        "x = torch.ones(size = (3,3))\n",
        "print(x)\n",
        "x = torch.eye(3,3) # Identity matrix\n",
        "print(x)\n",
        "x = torch.arange(start=0, end=5, step=1)\n",
        "print(x)\n",
        "x = torch.linspace(start=0.1, end=1, steps=10)\n",
        "print(x)\n",
        "x = torch.empty(size = (1,5)).normal_(mean=0, std=1)\n",
        "print(x)\n",
        "x = torch.empty(size = (1,5)).uniform_(0,1)\n",
        "print(x)\n",
        "x = torch.diag(torch.ones(3)) # This will create a diagonal matrix of 3x3\n",
        "print(x)"
      ],
      "metadata": {
        "colab": {
          "base_uri": "https://localhost:8080/"
        },
        "id": "lwbh1D11l5Dr",
        "outputId": "30933f79-6b1d-4c1d-abf0-22e68b8d6c01"
      },
      "execution_count": 4,
      "outputs": [
        {
          "output_type": "stream",
          "name": "stdout",
          "text": [
            "tensor([[-3.9807e+01,  0.0000e+00,  1.8077e-43],\n",
            "        [ 0.0000e+00, -7.9118e-38,  3.1183e-41],\n",
            "        [-3.9233e-13,  4.4232e-41,  5.1839e-21]])\n",
            "tensor([[0., 0., 0.],\n",
            "        [0., 0., 0.],\n",
            "        [0., 0., 0.]])\n",
            "tensor([[0.6851, 0.0228, 0.9030],\n",
            "        [0.8742, 0.3095, 0.2950],\n",
            "        [0.8248, 0.4667, 0.6026]])\n",
            "tensor([[1., 1., 1.],\n",
            "        [1., 1., 1.],\n",
            "        [1., 1., 1.]])\n",
            "tensor([[1., 0., 0.],\n",
            "        [0., 1., 0.],\n",
            "        [0., 0., 1.]])\n",
            "tensor([0, 1, 2, 3, 4])\n",
            "tensor([0.1000, 0.2000, 0.3000, 0.4000, 0.5000, 0.6000, 0.7000, 0.8000, 0.9000,\n",
            "        1.0000])\n",
            "tensor([[-0.7720,  0.0359, -0.7883, -0.4633,  0.3718]])\n",
            "tensor([[0.7452, 0.7901, 0.8594, 0.1791, 0.9098]])\n",
            "tensor([[1., 0., 0.],\n",
            "        [0., 1., 0.],\n",
            "        [0., 0., 1.]])\n"
          ]
        }
      ]
    },
    {
      "cell_type": "code",
      "source": [
        " # How to initialize and convert tensors to other types (int, float, double)\n",
        "tensor = torch.arange(4)\n",
        "print(tensor)\n",
        "print(tensor.dtype)\n",
        "# Convert it to Bool\n",
        "print(tensor.bool())\n",
        "# Convert it to int16\n",
        "print(tensor.short())\n",
        "# Convert it to int64 **\n",
        "print(tensor.long())\n",
        "# Convert it to float16\n",
        "print(tensor.half())\n",
        "# Convert it to float32 **\n",
        "print(tensor.float())\n",
        "# Convert it to float64\n",
        "print(tensor.double())"
      ],
      "metadata": {
        "colab": {
          "base_uri": "https://localhost:8080/"
        },
        "id": "Vyw7sSY_oc8P",
        "outputId": "84d221b7-f4b9-478b-9f4f-614413318660"
      },
      "execution_count": 5,
      "outputs": [
        {
          "output_type": "stream",
          "name": "stdout",
          "text": [
            "tensor([0, 1, 2, 3])\n",
            "torch.int64\n",
            "tensor([False,  True,  True,  True])\n",
            "tensor([0, 1, 2, 3], dtype=torch.int16)\n",
            "tensor([0, 1, 2, 3])\n",
            "tensor([0., 1., 2., 3.], dtype=torch.float16)\n",
            "tensor([0., 1., 2., 3.])\n",
            "tensor([0., 1., 2., 3.], dtype=torch.float64)\n"
          ]
        }
      ]
    },
    {
      "cell_type": "markdown",
      "source": [
        "# Array-Tensor conversion"
      ],
      "metadata": {
        "id": "Gg_fOUL3tR4s"
      }
    },
    {
      "cell_type": "code",
      "source": [
        "# Array to Tensor conversion\n",
        "import numpy as np\n",
        "np_array = np.zeros((5,5))\n",
        "converted_tensor = torch.from_numpy(np_array)\n",
        "print(converted_tensor)\n",
        "\n",
        "# Tensor to Array conversion\n",
        "converted_np_array = converted_tensor.numpy()\n",
        "print(converted_np_array)"
      ],
      "metadata": {
        "colab": {
          "base_uri": "https://localhost:8080/"
        },
        "id": "Z0l5MXoPq_9b",
        "outputId": "7659b9af-3681-49e7-f942-179d39b3deed"
      },
      "execution_count": 6,
      "outputs": [
        {
          "output_type": "stream",
          "name": "stdout",
          "text": [
            "tensor([[0., 0., 0., 0., 0.],\n",
            "        [0., 0., 0., 0., 0.],\n",
            "        [0., 0., 0., 0., 0.],\n",
            "        [0., 0., 0., 0., 0.],\n",
            "        [0., 0., 0., 0., 0.]], dtype=torch.float64)\n",
            "[[0. 0. 0. 0. 0.]\n",
            " [0. 0. 0. 0. 0.]\n",
            " [0. 0. 0. 0. 0.]\n",
            " [0. 0. 0. 0. 0.]\n",
            " [0. 0. 0. 0. 0.]]\n"
          ]
        }
      ]
    },
    {
      "cell_type": "markdown",
      "source": [
        "# Tensor Math"
      ],
      "metadata": {
        "id": "XcQbKGcWtViC"
      }
    },
    {
      "cell_type": "code",
      "source": [
        "x = torch.tensor([1,2,3])\n",
        "y = torch.tensor([9,8,7])\n",
        "\n",
        "# Addition\n",
        "sum1 = torch.empty(3)\n",
        "torch.add(x, y, out=sum1)\n",
        "print('sum1:', sum1)\n",
        "sum2 = torch.add(x,y)\n",
        "print('sum2:', sum2)\n",
        "sum3 = x + y\n",
        "print('sum3:', sum3)\n",
        "\n",
        "# Subtraction\n",
        "sub = x - y\n",
        "print('sub:', sub)\n",
        "\n",
        "# Division\n",
        "# element-wise\n",
        "div1 = torch.true_divide(x, y)\n",
        "print('div1:', div1)\n",
        "# divide to an integer\n",
        "div2 = torch.true_divide(x, 2)\n",
        "print('div2:', div2)"
      ],
      "metadata": {
        "colab": {
          "base_uri": "https://localhost:8080/"
        },
        "id": "MJRCIEwTsXH8",
        "outputId": "9803441c-67b8-499c-9ce5-7f52c1bb7d4e"
      },
      "execution_count": 7,
      "outputs": [
        {
          "output_type": "stream",
          "name": "stdout",
          "text": [
            "sum1: tensor([10., 10., 10.])\n",
            "sum2: tensor([10, 10, 10])\n",
            "sum3: tensor([10, 10, 10])\n",
            "sub: tensor([-8, -6, -4])\n",
            "div1: tensor([0.1111, 0.2500, 0.4286])\n",
            "div2: tensor([0.5000, 1.0000, 1.5000])\n"
          ]
        }
      ]
    },
    {
      "cell_type": "code",
      "source": [
        "# Inplace Operations\n",
        "t = torch.zeros(3)\n",
        "print(t)\n",
        "t.add_(x) # The \"_\" means that it is done inplace, so you dont need to do a copy of the tensor\n",
        "print(t)\n",
        "t += x\n",
        "print(t)"
      ],
      "metadata": {
        "colab": {
          "base_uri": "https://localhost:8080/"
        },
        "id": "9_2aoLMC46Ji",
        "outputId": "c1693f55-29a8-4cb9-ae2e-592e40126388"
      },
      "execution_count": 19,
      "outputs": [
        {
          "output_type": "stream",
          "name": "stdout",
          "text": [
            "tensor([0., 0., 0.])\n",
            "tensor([1., 2., 3.])\n",
            "tensor([2., 4., 6.])\n"
          ]
        }
      ]
    },
    {
      "cell_type": "code",
      "source": [
        "# Element-wise exponentiation\n",
        "print(x)\n",
        "z = x.pow(2)\n",
        "y = x ** 2\n",
        "print(z)\n",
        "print(y)"
      ],
      "metadata": {
        "colab": {
          "base_uri": "https://localhost:8080/"
        },
        "id": "ZfIkRuZr5jea",
        "outputId": "64bea43b-2ec5-4edc-9c74-4c8323dcff75"
      },
      "execution_count": 44,
      "outputs": [
        {
          "output_type": "stream",
          "name": "stdout",
          "text": [
            "tensor([1, 2, 3])\n",
            "tensor([1, 4, 9])\n",
            "tensor([1, 4, 9])\n"
          ]
        }
      ]
    },
    {
      "cell_type": "code",
      "source": [
        "# Matrix exponentiation\n",
        "matrix_exp = torch.rand((5,5))\n",
        "matrix_exp.matrix_power(2)"
      ],
      "metadata": {
        "colab": {
          "base_uri": "https://localhost:8080/"
        },
        "id": "g8PLtngJ8KaN",
        "outputId": "1ed2cf54-d47c-49a7-b6a5-52fb5f2643c9"
      },
      "execution_count": 45,
      "outputs": [
        {
          "output_type": "execute_result",
          "data": {
            "text/plain": [
              "tensor([[2.0930, 2.1385, 1.3010, 2.5661, 1.4291],\n",
              "        [1.8427, 1.6956, 0.8098, 2.0217, 1.0958],\n",
              "        [2.2011, 1.7429, 0.7727, 1.8268, 0.9833],\n",
              "        [1.3485, 1.4166, 0.9421, 1.4241, 0.4745],\n",
              "        [2.2547, 2.2016, 1.3909, 2.0209, 1.0089]])"
            ]
          },
          "metadata": {},
          "execution_count": 45
        }
      ]
    },
    {
      "cell_type": "code",
      "source": [
        "# Simple Comparison\n",
        "z = x > 0\n",
        "print(z)\n",
        "z = x < 0\n",
        "print(z)"
      ],
      "metadata": {
        "colab": {
          "base_uri": "https://localhost:8080/"
        },
        "id": "imP0MIcr54uT",
        "outputId": "260a450e-12b3-4513-b23b-b44d05bc992c"
      },
      "execution_count": 23,
      "outputs": [
        {
          "output_type": "stream",
          "name": "stdout",
          "text": [
            "tensor([True, True, True])\n",
            "tensor([False, False, False])\n"
          ]
        }
      ]
    },
    {
      "cell_type": "code",
      "source": [
        "# Element-wise multiplication\n",
        "print(x)\n",
        "print(y)\n",
        "z = x * y\n",
        "print(z)"
      ],
      "metadata": {
        "colab": {
          "base_uri": "https://localhost:8080/"
        },
        "id": "G-OjJXJj6P6u",
        "outputId": "7ad5c894-2a7c-41ef-ce15-31b92558fbfc"
      },
      "execution_count": 49,
      "outputs": [
        {
          "output_type": "stream",
          "name": "stdout",
          "text": [
            "tensor([1, 2, 3])\n",
            "tensor([1, 4, 9])\n",
            "tensor([ 1,  8, 27])\n"
          ]
        }
      ]
    },
    {
      "cell_type": "code",
      "source": [
        "# Matrix multiplication\n",
        "x1 = torch.rand((2,5))\n",
        "x2 = torch.rand((5,3))\n",
        "\n",
        "x3 = torch.mm(x1,x2)  # 2x3\n",
        "x4 = x1.mm(x2) # This is common to all pytorch functions\n",
        "print(x3)\n",
        "print(x4)"
      ],
      "metadata": {
        "colab": {
          "base_uri": "https://localhost:8080/"
        },
        "id": "SqGXczar8ODP",
        "outputId": "7b106917-84d5-4fab-f150-df0297c6a3ee"
      },
      "execution_count": 50,
      "outputs": [
        {
          "output_type": "stream",
          "name": "stdout",
          "text": [
            "tensor([[1.1151, 1.6350, 1.2353],\n",
            "        [0.5434, 0.8848, 1.1452]])\n",
            "tensor([[1.1151, 1.6350, 1.2353],\n",
            "        [0.5434, 0.8848, 1.1452]])\n"
          ]
        }
      ]
    },
    {
      "cell_type": "code",
      "source": [
        "# dot product\n",
        "z = torch.dot(x,y)\n",
        "print(z)"
      ],
      "metadata": {
        "colab": {
          "base_uri": "https://localhost:8080/"
        },
        "id": "n3Y0-Yiq6cqY",
        "outputId": "25e916d6-ab1b-4342-cc20-12e9d1df3ecd"
      },
      "execution_count": 51,
      "outputs": [
        {
          "output_type": "stream",
          "name": "stdout",
          "text": [
            "tensor(36)\n"
          ]
        }
      ]
    },
    {
      "cell_type": "code",
      "source": [
        "# Batch matrix multiplication\n",
        "batch = 32\n",
        "n = 10\n",
        "m = 20\n",
        "p = 30\n",
        "tensor1 = torch.rand((batch, n, m))\n",
        "tensor2 = torch.rand((batch, m, p))\n",
        "out_bmm = torch.bmm(tensor1, tensor2) # (batch, n, p)"
      ],
      "metadata": {
        "id": "Luh_n8Oe8EzF"
      },
      "execution_count": 54,
      "outputs": []
    },
    {
      "cell_type": "code",
      "source": [
        "# Example of Broadcasting\n",
        "x1 = torch.rand((5,5))\n",
        "x2 = torch.rand((1,5))  # will be expanded to 5x5\n",
        "z1 = x1 - x2\n",
        "z2 = x1 ** x2"
      ],
      "metadata": {
        "id": "BS9r3KTF8HCr"
      },
      "execution_count": 56,
      "outputs": []
    },
    {
      "cell_type": "markdown",
      "source": [
        "# Useful Tensor Math Operations"
      ],
      "metadata": {
        "id": "swoKNcMQ9vIZ"
      }
    },
    {
      "cell_type": "code",
      "source": [
        "# Sum columns (dim=0) or rows (dim=1)\n",
        "sum_x = torch.sum(x, dim=0)"
      ],
      "metadata": {
        "id": "yCyuDS_f9aGE"
      },
      "execution_count": 68,
      "outputs": []
    },
    {
      "cell_type": "code",
      "source": [
        "# Max and min values\n",
        "values, indices = torch.max(x, dim=0)\n",
        "values, indices = torch.min(x, dim=0)\n",
        "z1 = torch.argmax(x, dim=0) # does the same as torch.max, but only returns the index\n",
        "z2 = torch.argmin(x, dim=0)"
      ],
      "metadata": {
        "id": "AYEiwCCT-C9t"
      },
      "execution_count": 76,
      "outputs": []
    },
    {
      "cell_type": "code",
      "source": [
        "# Absolute value\n",
        "abs_x = torch.abs(x)"
      ],
      "metadata": {
        "id": "NzvmTeUM-SwC"
      },
      "execution_count": 70,
      "outputs": []
    },
    {
      "cell_type": "code",
      "source": [
        "# Mean (the tensor needs to be float)\n",
        "mean = torch.mean(x.float(), dim=0)"
      ],
      "metadata": {
        "id": "7XEPdz8F-YRe"
      },
      "execution_count": 77,
      "outputs": []
    },
    {
      "cell_type": "code",
      "source": [
        "# Element-wise check if they are equal\n",
        "z = torch.eq(x,y)"
      ],
      "metadata": {
        "id": "W-QH_6Pa-dua"
      },
      "execution_count": 81,
      "outputs": []
    },
    {
      "cell_type": "code",
      "source": [
        "# Sort\n",
        "sorted_y, indices = torch.sort(y, dim=0, descending=False)"
      ],
      "metadata": {
        "id": "MT0m8GLXAkPQ"
      },
      "execution_count": 85,
      "outputs": []
    },
    {
      "cell_type": "code",
      "source": [
        "# Limit the values of the tensor [0, 10]\n",
        "z = torch.clamp(x, min=-5, max=5)\n",
        "ReLU = torch.clamp(x, min=0)"
      ],
      "metadata": {
        "id": "DANr34eYBLBR"
      },
      "execution_count": 87,
      "outputs": []
    },
    {
      "cell_type": "code",
      "source": [
        "# Check for True values\n",
        "x = torch.tensor([1,0,1,1,1,0], dtype=bool)\n",
        "z = torch.any(x)  # at least one True\n",
        "print(z)\n",
        "z = torch.all(x)  # all True\n",
        "print(z)"
      ],
      "metadata": {
        "colab": {
          "base_uri": "https://localhost:8080/"
        },
        "id": "c3tbPmQkByCX",
        "outputId": "7760e5d5-cdfa-48bd-9f53-ee8ed78bd44b"
      },
      "execution_count": 92,
      "outputs": [
        {
          "output_type": "stream",
          "name": "stdout",
          "text": [
            "tensor(True)\n",
            "tensor(False)\n"
          ]
        }
      ]
    },
    {
      "cell_type": "markdown",
      "source": [
        "# Tensor Indexing"
      ],
      "metadata": {
        "id": "Yy73PnbeC4Vh"
      }
    },
    {
      "cell_type": "code",
      "source": [],
      "metadata": {
        "id": "g8iO_4V_CJsy"
      },
      "execution_count": null,
      "outputs": []
    }
  ]
}