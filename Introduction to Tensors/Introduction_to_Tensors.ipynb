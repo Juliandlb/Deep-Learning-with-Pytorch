{
  "nbformat": 4,
  "nbformat_minor": 0,
  "metadata": {
    "colab": {
      "provenance": [],
      "authorship_tag": "ABX9TyNlUQRNNFV34EWuphH8l11h",
      "include_colab_link": true
    },
    "kernelspec": {
      "name": "python3",
      "display_name": "Python 3"
    },
    "language_info": {
      "name": "python"
    }
  },
  "cells": [
    {
      "cell_type": "markdown",
      "metadata": {
        "id": "view-in-github",
        "colab_type": "text"
      },
      "source": [
        "<a href=\"https://colab.research.google.com/github/Juliandlb/Deep-Learning-with-Pytorch/blob/main/Introduction%20to%20Tensors/Introduction_to_Tensors.ipynb\" target=\"_parent\"><img src=\"https://colab.research.google.com/assets/colab-badge.svg\" alt=\"Open In Colab\"/></a>"
      ]
    },
    {
      "cell_type": "markdown",
      "source": [
        "# Setup\n",
        "Import torch and check if there is a GPU available"
      ],
      "metadata": {
        "id": "uKfDnDv5kfus"
      }
    },
    {
      "cell_type": "code",
      "execution_count": 5,
      "metadata": {
        "colab": {
          "base_uri": "https://localhost:8080/"
        },
        "id": "ngAV5o4Df1-W",
        "outputId": "2333552c-f135-4540-a2e4-7e8c743bf6bd"
      },
      "outputs": [
        {
          "output_type": "stream",
          "name": "stdout",
          "text": [
            "2.3.1+cu121\n",
            "GPU is not available\n"
          ]
        }
      ],
      "source": [
        "import torch\n",
        "print(torch.__version__)\n",
        "# Check if GPU is available\n",
        "if torch.cuda.is_available():\n",
        "    device = torch.device('cuda')\n",
        "    print(\"GPU is available\")\n",
        "else:\n",
        "    device = torch.device('cpu')\n",
        "    print(\"GPU is not available\")"
      ]
    },
    {
      "cell_type": "markdown",
      "source": [
        "# Tensors"
      ],
      "metadata": {
        "id": "vxuakNEgknyT"
      }
    },
    {
      "cell_type": "code",
      "source": [],
      "metadata": {
        "id": "tzfoMflWkGVX"
      },
      "execution_count": 5,
      "outputs": []
    }
  ]
}