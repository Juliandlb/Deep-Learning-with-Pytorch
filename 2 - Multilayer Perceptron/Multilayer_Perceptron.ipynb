{
 "cells": [
  {
   "cell_type": "markdown",
   "id": "4ed1daa8",
   "metadata": {
    "id": "IDQ0ZQJoeq6v",
    "papermill": {
     "duration": 0.003597,
     "end_time": "2024-08-07T23:32:55.272240",
     "exception": false,
     "start_time": "2024-08-07T23:32:55.268643",
     "status": "completed"
    },
    "tags": []
   },
   "source": [
    "# Imports"
   ]
  },
  {
   "cell_type": "code",
   "execution_count": 1,
   "id": "12811cb0",
   "metadata": {
    "execution": {
     "iopub.execute_input": "2024-08-07T23:32:55.280194Z",
     "iopub.status.busy": "2024-08-07T23:32:55.279873Z",
     "iopub.status.idle": "2024-08-07T23:33:00.399119Z",
     "shell.execute_reply": "2024-08-07T23:33:00.398126Z"
    },
    "id": "2rnQ7hvOeNhh",
    "papermill": {
     "duration": 5.12593,
     "end_time": "2024-08-07T23:33:00.401563",
     "exception": false,
     "start_time": "2024-08-07T23:32:55.275633",
     "status": "completed"
    },
    "tags": []
   },
   "outputs": [],
   "source": [
    "import torch\n",
    "import torch.nn as nn\n",
    "import torch.optim as optim\n",
    "import torch.nn.functional as F\n",
    "from torch.utils.data import DataLoader\n",
    "import torchvision.datasets as datasets\n",
    "import torchvision.transforms as transforms"
   ]
  },
  {
   "cell_type": "markdown",
   "id": "4cd69725",
   "metadata": {
    "id": "tVIhuFdHevrr",
    "papermill": {
     "duration": 0.003185,
     "end_time": "2024-08-07T23:33:00.408290",
     "exception": false,
     "start_time": "2024-08-07T23:33:00.405105",
     "status": "completed"
    },
    "tags": []
   },
   "source": [
    "# Model"
   ]
  },
  {
   "cell_type": "code",
   "execution_count": 2,
   "id": "bcef43fa",
   "metadata": {
    "execution": {
     "iopub.execute_input": "2024-08-07T23:33:00.416144Z",
     "iopub.status.busy": "2024-08-07T23:33:00.415332Z",
     "iopub.status.idle": "2024-08-07T23:33:00.576838Z",
     "shell.execute_reply": "2024-08-07T23:33:00.575769Z"
    },
    "id": "De4IB4j9ezAX",
    "outputId": "6694f5af-f839-417e-b98f-540d441ad6a7",
    "papermill": {
     "duration": 0.168148,
     "end_time": "2024-08-07T23:33:00.579564",
     "exception": false,
     "start_time": "2024-08-07T23:33:00.411416",
     "status": "completed"
    },
    "tags": []
   },
   "outputs": [
    {
     "name": "stdout",
     "output_type": "stream",
     "text": [
      "torch.Size([64, 10])\n",
      "cuda\n"
     ]
    }
   ],
   "source": [
    "# Create the model\n",
    "class NN(nn.Module):  # we inherit our model class from nn.module\n",
    "  def __init__(self, input_size, num_classes):  # 28x28 = 784\n",
    "    super(NN, self).__init__()  # The super calls the initialization method of the parent class\n",
    "    self.fc1 = nn.Linear(input_size, 50)\n",
    "    self.fc2 = nn.Linear(50, num_classes)\n",
    "\n",
    "  def forward(self, x):\n",
    "    x = F.relu(self.fc1(x))\n",
    "    x = self.fc2(x)\n",
    "    return x\n",
    "\n",
    "# Check if it gives the correct shapes for some random data\n",
    "model = NN(784, 10)\n",
    "x = torch.rand((64, 784)) # mini batch size x features\n",
    "print(model(x).shape) # he hope to have the number of examples x the number of classes (64x10)\n",
    "\n",
    "# Device\n",
    "device = torch.device('cuda' if torch.cuda.is_available() else 'cpu')\n",
    "print(device)\n",
    "\n",
    "# Hyperparameter\n",
    "input_size = 784\n",
    "num_classes = 10\n",
    "learning_rate = 0.001\n",
    "batch_size = 64\n",
    "num_epochs = 1 "
   ]
  },
  {
   "cell_type": "markdown",
   "id": "0ec11926",
   "metadata": {
    "id": "NivC79aefIGV",
    "papermill": {
     "duration": 0.003053,
     "end_time": "2024-08-07T23:33:00.586144",
     "exception": false,
     "start_time": "2024-08-07T23:33:00.583091",
     "status": "completed"
    },
    "tags": []
   },
   "source": [
    "# Load Data"
   ]
  },
  {
   "cell_type": "code",
   "execution_count": 3,
   "id": "e0085061",
   "metadata": {
    "execution": {
     "iopub.execute_input": "2024-08-07T23:33:00.593762Z",
     "iopub.status.busy": "2024-08-07T23:33:00.593472Z",
     "iopub.status.idle": "2024-08-07T23:33:07.190117Z",
     "shell.execute_reply": "2024-08-07T23:33:07.189173Z"
    },
    "id": "27vHygWwfKiU",
    "papermill": {
     "duration": 6.603802,
     "end_time": "2024-08-07T23:33:07.193115",
     "exception": false,
     "start_time": "2024-08-07T23:33:00.589313",
     "status": "completed"
    },
    "tags": []
   },
   "outputs": [
    {
     "name": "stdout",
     "output_type": "stream",
     "text": [
      "Downloading http://yann.lecun.com/exdb/mnist/train-images-idx3-ubyte.gz\n",
      "Failed to download (trying next):\n",
      "HTTP Error 403: Forbidden\n",
      "\n",
      "Downloading https://ossci-datasets.s3.amazonaws.com/mnist/train-images-idx3-ubyte.gz\n",
      "Downloading https://ossci-datasets.s3.amazonaws.com/mnist/train-images-idx3-ubyte.gz to dataset/MNIST/raw/train-images-idx3-ubyte.gz\n"
     ]
    },
    {
     "name": "stderr",
     "output_type": "stream",
     "text": [
      "100%|██████████| 9912422/9912422 [00:00<00:00, 11446890.02it/s]\n"
     ]
    },
    {
     "name": "stdout",
     "output_type": "stream",
     "text": [
      "Extracting dataset/MNIST/raw/train-images-idx3-ubyte.gz to dataset/MNIST/raw\n",
      "\n",
      "Downloading http://yann.lecun.com/exdb/mnist/train-labels-idx1-ubyte.gz\n",
      "Failed to download (trying next):\n",
      "HTTP Error 403: Forbidden\n",
      "\n",
      "Downloading https://ossci-datasets.s3.amazonaws.com/mnist/train-labels-idx1-ubyte.gz\n",
      "Downloading https://ossci-datasets.s3.amazonaws.com/mnist/train-labels-idx1-ubyte.gz to dataset/MNIST/raw/train-labels-idx1-ubyte.gz\n"
     ]
    },
    {
     "name": "stderr",
     "output_type": "stream",
     "text": [
      "100%|██████████| 28881/28881 [00:00<00:00, 340122.63it/s]\n"
     ]
    },
    {
     "name": "stdout",
     "output_type": "stream",
     "text": [
      "Extracting dataset/MNIST/raw/train-labels-idx1-ubyte.gz to dataset/MNIST/raw\n",
      "\n",
      "Downloading http://yann.lecun.com/exdb/mnist/t10k-images-idx3-ubyte.gz\n",
      "Failed to download (trying next):\n",
      "HTTP Error 403: Forbidden\n",
      "\n",
      "Downloading https://ossci-datasets.s3.amazonaws.com/mnist/t10k-images-idx3-ubyte.gz\n",
      "Downloading https://ossci-datasets.s3.amazonaws.com/mnist/t10k-images-idx3-ubyte.gz to dataset/MNIST/raw/t10k-images-idx3-ubyte.gz\n"
     ]
    },
    {
     "name": "stderr",
     "output_type": "stream",
     "text": [
      "100%|██████████| 1648877/1648877 [00:00<00:00, 3178930.93it/s]\n"
     ]
    },
    {
     "name": "stdout",
     "output_type": "stream",
     "text": [
      "Extracting dataset/MNIST/raw/t10k-images-idx3-ubyte.gz to dataset/MNIST/raw\n",
      "\n",
      "Downloading http://yann.lecun.com/exdb/mnist/t10k-labels-idx1-ubyte.gz\n",
      "Failed to download (trying next):\n",
      "HTTP Error 403: Forbidden\n",
      "\n",
      "Downloading https://ossci-datasets.s3.amazonaws.com/mnist/t10k-labels-idx1-ubyte.gz\n",
      "Downloading https://ossci-datasets.s3.amazonaws.com/mnist/t10k-labels-idx1-ubyte.gz to dataset/MNIST/raw/t10k-labels-idx1-ubyte.gz\n"
     ]
    },
    {
     "name": "stderr",
     "output_type": "stream",
     "text": [
      "100%|██████████| 4542/4542 [00:00<00:00, 2722281.90it/s]"
     ]
    },
    {
     "name": "stdout",
     "output_type": "stream",
     "text": [
      "Extracting dataset/MNIST/raw/t10k-labels-idx1-ubyte.gz to dataset/MNIST/raw\n",
      "\n"
     ]
    },
    {
     "name": "stderr",
     "output_type": "stream",
     "text": [
      "\n"
     ]
    }
   ],
   "source": [
    "train_dataset = datasets.MNIST(root='dataset/', train=True, transform=transforms.ToTensor(), download=True)\n",
    "train_loader = DataLoader(dataset=train_dataset, batch_size=batch_size, shuffle=True)\n",
    "test_dataset = datasets.MNIST(root='dataset/', train=False, transform=transforms.ToTensor(), download=True)\n",
    "test_loader = DataLoader(dataset=test_dataset, batch_size=batch_size, shuffle=True)"
   ]
  },
  {
   "cell_type": "markdown",
   "id": "5a778f05",
   "metadata": {
    "id": "PohFFebhe2K7",
    "papermill": {
     "duration": 0.005656,
     "end_time": "2024-08-07T23:33:07.204872",
     "exception": false,
     "start_time": "2024-08-07T23:33:07.199216",
     "status": "completed"
    },
    "tags": []
   },
   "source": [
    "# Training"
   ]
  },
  {
   "cell_type": "code",
   "execution_count": 4,
   "id": "5fdf5a94",
   "metadata": {
    "execution": {
     "iopub.execute_input": "2024-08-07T23:33:07.217663Z",
     "iopub.status.busy": "2024-08-07T23:33:07.217364Z",
     "iopub.status.idle": "2024-08-07T23:33:15.270880Z",
     "shell.execute_reply": "2024-08-07T23:33:15.270058Z"
    },
    "id": "Xucyzc8Ge8RH",
    "papermill": {
     "duration": 8.062661,
     "end_time": "2024-08-07T23:33:15.273281",
     "exception": false,
     "start_time": "2024-08-07T23:33:07.210620",
     "status": "completed"
    },
    "tags": []
   },
   "outputs": [],
   "source": [
    "# Intialize NN\n",
    "model = NN(input_size=input_size, num_classes=num_classes).to(device)\n",
    "\n",
    "# Loss and optimizer\n",
    "criterion = nn.CrossEntropyLoss()\n",
    "optimizer = optim.Adam(model.parameters(), lr=learning_rate)\n",
    "\n",
    "# Train the NN\n",
    "for epoch in range(num_epochs):\n",
    "  for batch_idx, (data, targets) in enumerate(train_loader):\n",
    "    # Get data to device\n",
    "    data = data.to(device=device)\n",
    "    targets = targets.to(device=device)\n",
    "    # Correct the shape\n",
    "    data = data.reshape(data.shape[0], -1)\n",
    "\n",
    "    # Forward propagation\n",
    "    scores = model(data)\n",
    "    loss = criterion(scores, targets)\n",
    "\n",
    "    # Backward propagation\n",
    "    optimizer.zero_grad() # initialize all gradients to zero for each batch\n",
    "    loss.backward()\n",
    "\n",
    "    # Gradient descent or Adam step\n",
    "    optimizer.step()"
   ]
  },
  {
   "cell_type": "markdown",
   "id": "317bb7a1",
   "metadata": {
    "id": "UvS7Go0de-yH",
    "papermill": {
     "duration": 0.005759,
     "end_time": "2024-08-07T23:33:15.285736",
     "exception": false,
     "start_time": "2024-08-07T23:33:15.279977",
     "status": "completed"
    },
    "tags": []
   },
   "source": [
    "# Performance"
   ]
  },
  {
   "cell_type": "code",
   "execution_count": 5,
   "id": "7a352d64",
   "metadata": {
    "execution": {
     "iopub.execute_input": "2024-08-07T23:33:15.299077Z",
     "iopub.status.busy": "2024-08-07T23:33:15.298547Z",
     "iopub.status.idle": "2024-08-07T23:33:15.307329Z",
     "shell.execute_reply": "2024-08-07T23:33:15.306426Z"
    },
    "id": "w9ZXp1PCfADg",
    "papermill": {
     "duration": 0.017662,
     "end_time": "2024-08-07T23:33:15.309205",
     "exception": false,
     "start_time": "2024-08-07T23:33:15.291543",
     "status": "completed"
    },
    "tags": []
   },
   "outputs": [],
   "source": [
    "# Check accuracy on training and test sets\n",
    "def check_accuracy(loader, model):\n",
    "  if loader.dataset.train:\n",
    "    print(\"Checking accuracy on training data\")\n",
    "  else:\n",
    "    print(\"Checking accuracy on test data\")\n",
    "  num_correct = 0\n",
    "  num_samples = 0\n",
    "  model.eval()\n",
    "\n",
    "  with torch.no_grad():\n",
    "    for x, y in loader:\n",
    "      x = x.to(device=device)\n",
    "      y = y.to(device=device)\n",
    "      x = x.reshape(x.shape[0], -1)\n",
    "\n",
    "      scores = model(x)\n",
    "      _, predictions = scores.max(1)  # scores is 64x10 and we want to know which one of those the is the maximum value, so in max: dim=1\n",
    "      num_correct += (predictions == y).sum()\n",
    "      num_samples += predictions.size(0)\n",
    "\n",
    "    print(f'got {num_correct} / {num_samples} with accuracy {float(num_correct)/float(num_samples)*100:.2f}')\n",
    "\n",
    "  model.train()"
   ]
  },
  {
   "cell_type": "code",
   "execution_count": 6,
   "id": "715df451",
   "metadata": {
    "execution": {
     "iopub.execute_input": "2024-08-07T23:33:15.322370Z",
     "iopub.status.busy": "2024-08-07T23:33:15.321860Z",
     "iopub.status.idle": "2024-08-07T23:33:23.074075Z",
     "shell.execute_reply": "2024-08-07T23:33:23.073017Z"
    },
    "id": "hLDIDqEPrWhk",
    "outputId": "beff3fb7-62f5-4b9b-ee22-4db0a00ef465",
    "papermill": {
     "duration": 7.760986,
     "end_time": "2024-08-07T23:33:23.076207",
     "exception": false,
     "start_time": "2024-08-07T23:33:15.315221",
     "status": "completed"
    },
    "tags": []
   },
   "outputs": [
    {
     "name": "stdout",
     "output_type": "stream",
     "text": [
      "Checking accuracy on training data\n",
      "got 56044 / 60000 with accuracy 93.41\n",
      "Checking accuracy on test data\n",
      "got 9347 / 10000 with accuracy 93.47\n"
     ]
    }
   ],
   "source": [
    "check_accuracy(train_loader, model)\n",
    "check_accuracy(test_loader, model)"
   ]
  }
 ],
 "metadata": {
  "accelerator": "GPU",
  "colab": {
   "authorship_tag": "ABX9TyOnIP8xmn7sS2CVpet4uP60",
   "gpuType": "T4",
   "include_colab_link": true,
   "provenance": []
  },
  "kaggle": {
   "accelerator": "none",
   "dataSources": [],
   "isGpuEnabled": false,
   "isInternetEnabled": true,
   "language": "python",
   "sourceType": "notebook"
  },
  "kernelspec": {
   "display_name": "Python 3",
   "name": "python3"
  },
  "language_info": {
   "codemirror_mode": {
    "name": "ipython",
    "version": 3
   },
   "file_extension": ".py",
   "mimetype": "text/x-python",
   "name": "python",
   "nbconvert_exporter": "python",
   "pygments_lexer": "ipython3",
   "version": "3.10.13"
  },
  "papermill": {
   "default_parameters": {},
   "duration": 31.816004,
   "end_time": "2024-08-07T23:33:24.303395",
   "environment_variables": {},
   "exception": null,
   "input_path": "__notebook__.ipynb",
   "output_path": "__notebook__.ipynb",
   "parameters": {},
   "start_time": "2024-08-07T23:32:52.487391",
   "version": "2.5.0"
  }
 },
 "nbformat": 4,
 "nbformat_minor": 5
}
