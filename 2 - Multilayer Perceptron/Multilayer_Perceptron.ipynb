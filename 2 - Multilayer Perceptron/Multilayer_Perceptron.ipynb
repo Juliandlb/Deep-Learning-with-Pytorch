{
 "cells": [
  {
   "cell_type": "markdown",
   "id": "00608115",
   "metadata": {
    "id": "IDQ0ZQJoeq6v",
    "papermill": {
     "duration": 0.004008,
     "end_time": "2024-08-07T23:59:01.443742",
     "exception": false,
     "start_time": "2024-08-07T23:59:01.439734",
     "status": "completed"
    },
    "tags": []
   },
   "source": [
    "# Imports"
   ]
  },
  {
   "cell_type": "code",
   "execution_count": 1,
   "id": "c17e0809",
   "metadata": {
    "execution": {
     "iopub.execute_input": "2024-08-07T23:59:01.452894Z",
     "iopub.status.busy": "2024-08-07T23:59:01.452463Z",
     "iopub.status.idle": "2024-08-07T23:59:06.337881Z",
     "shell.execute_reply": "2024-08-07T23:59:06.336902Z"
    },
    "id": "2rnQ7hvOeNhh",
    "papermill": {
     "duration": 4.892903,
     "end_time": "2024-08-07T23:59:06.340509",
     "exception": false,
     "start_time": "2024-08-07T23:59:01.447606",
     "status": "completed"
    },
    "tags": []
   },
   "outputs": [],
   "source": [
    "import torch\n",
    "import torch.nn as nn\n",
    "import torch.optim as optim\n",
    "import torch.nn.functional as F\n",
    "from torch.utils.data import DataLoader\n",
    "import torchvision.datasets as datasets\n",
    "import torchvision.transforms as transforms\n",
    "import matplotlib.pyplot as plt"
   ]
  },
  {
   "cell_type": "markdown",
   "id": "78cbf6d1",
   "metadata": {
    "id": "tVIhuFdHevrr",
    "papermill": {
     "duration": 0.003046,
     "end_time": "2024-08-07T23:59:06.347072",
     "exception": false,
     "start_time": "2024-08-07T23:59:06.344026",
     "status": "completed"
    },
    "tags": []
   },
   "source": [
    "# Model"
   ]
  },
  {
   "cell_type": "code",
   "execution_count": 2,
   "id": "41e5b25f",
   "metadata": {
    "execution": {
     "iopub.execute_input": "2024-08-07T23:59:06.355765Z",
     "iopub.status.busy": "2024-08-07T23:59:06.354890Z",
     "iopub.status.idle": "2024-08-07T23:59:06.431530Z",
     "shell.execute_reply": "2024-08-07T23:59:06.430480Z"
    },
    "id": "De4IB4j9ezAX",
    "outputId": "6694f5af-f839-417e-b98f-540d441ad6a7",
    "papermill": {
     "duration": 0.083566,
     "end_time": "2024-08-07T23:59:06.433961",
     "exception": false,
     "start_time": "2024-08-07T23:59:06.350395",
     "status": "completed"
    },
    "tags": []
   },
   "outputs": [
    {
     "name": "stdout",
     "output_type": "stream",
     "text": [
      "torch.Size([64, 10])\n",
      "cpu\n"
     ]
    }
   ],
   "source": [
    "# Create the model\n",
    "class NN(nn.Module):  # we inherit our model class from nn.module\n",
    "  def __init__(self, input_size, num_classes):  # 28x28 = 784\n",
    "    super(NN, self).__init__()  # The super calls the initialization method of the parent class\n",
    "    self.fc1 = nn.Linear(input_size, 50)\n",
    "    self.fc2 = nn.Linear(50, num_classes)\n",
    "\n",
    "  def forward(self, x):\n",
    "    x = F.relu(self.fc1(x))\n",
    "    x = self.fc2(x)\n",
    "    return x\n",
    "\n",
    "# Check if it gives the correct shapes for some random data\n",
    "model = NN(784, 10)\n",
    "x = torch.rand((64, 784)) # mini batch size x features\n",
    "print(model(x).shape) # he hope to have the number of examples x the number of classes (64x10)\n",
    "\n",
    "# Device\n",
    "device = torch.device('cuda' if torch.cuda.is_available() else 'cpu')\n",
    "print(device)\n",
    "\n",
    "# Hyperparameter\n",
    "input_size = 784\n",
    "num_classes = 10\n",
    "learning_rate = 0.001\n",
    "batch_size = 64\n",
    "num_epochs = 1 "
   ]
  },
  {
   "cell_type": "markdown",
   "id": "b9c1a3b5",
   "metadata": {
    "id": "NivC79aefIGV",
    "papermill": {
     "duration": 0.00326,
     "end_time": "2024-08-07T23:59:06.440789",
     "exception": false,
     "start_time": "2024-08-07T23:59:06.437529",
     "status": "completed"
    },
    "tags": []
   },
   "source": [
    "# Load Data"
   ]
  },
  {
   "cell_type": "code",
   "execution_count": 3,
   "id": "d5c19cd3",
   "metadata": {
    "execution": {
     "iopub.execute_input": "2024-08-07T23:59:06.450071Z",
     "iopub.status.busy": "2024-08-07T23:59:06.449294Z",
     "iopub.status.idle": "2024-08-07T23:59:16.683822Z",
     "shell.execute_reply": "2024-08-07T23:59:16.682576Z"
    },
    "id": "27vHygWwfKiU",
    "papermill": {
     "duration": 10.242013,
     "end_time": "2024-08-07T23:59:16.686409",
     "exception": false,
     "start_time": "2024-08-07T23:59:06.444396",
     "status": "completed"
    },
    "tags": []
   },
   "outputs": [
    {
     "name": "stdout",
     "output_type": "stream",
     "text": [
      "Downloading http://yann.lecun.com/exdb/mnist/train-images-idx3-ubyte.gz\n",
      "Failed to download (trying next):\n",
      "HTTP Error 403: Forbidden\n",
      "\n",
      "Downloading https://ossci-datasets.s3.amazonaws.com/mnist/train-images-idx3-ubyte.gz\n",
      "Downloading https://ossci-datasets.s3.amazonaws.com/mnist/train-images-idx3-ubyte.gz to dataset/MNIST/raw/train-images-idx3-ubyte.gz\n"
     ]
    },
    {
     "name": "stderr",
     "output_type": "stream",
     "text": [
      "100%|██████████| 9912422/9912422 [00:00<00:00, 11527604.29it/s]\n"
     ]
    },
    {
     "name": "stdout",
     "output_type": "stream",
     "text": [
      "Extracting dataset/MNIST/raw/train-images-idx3-ubyte.gz to dataset/MNIST/raw\n",
      "\n",
      "Downloading http://yann.lecun.com/exdb/mnist/train-labels-idx1-ubyte.gz\n",
      "Failed to download (trying next):\n",
      "HTTP Error 403: Forbidden\n",
      "\n",
      "Downloading https://ossci-datasets.s3.amazonaws.com/mnist/train-labels-idx1-ubyte.gz\n",
      "Downloading https://ossci-datasets.s3.amazonaws.com/mnist/train-labels-idx1-ubyte.gz to dataset/MNIST/raw/train-labels-idx1-ubyte.gz\n"
     ]
    },
    {
     "name": "stderr",
     "output_type": "stream",
     "text": [
      "100%|██████████| 28881/28881 [00:00<00:00, 339456.40it/s]\n"
     ]
    },
    {
     "name": "stdout",
     "output_type": "stream",
     "text": [
      "Extracting dataset/MNIST/raw/train-labels-idx1-ubyte.gz to dataset/MNIST/raw\n",
      "\n",
      "Downloading http://yann.lecun.com/exdb/mnist/t10k-images-idx3-ubyte.gz\n",
      "Failed to download (trying next):\n",
      "HTTP Error 403: Forbidden\n",
      "\n",
      "Downloading https://ossci-datasets.s3.amazonaws.com/mnist/t10k-images-idx3-ubyte.gz\n",
      "Downloading https://ossci-datasets.s3.amazonaws.com/mnist/t10k-images-idx3-ubyte.gz to dataset/MNIST/raw/t10k-images-idx3-ubyte.gz\n"
     ]
    },
    {
     "name": "stderr",
     "output_type": "stream",
     "text": [
      "100%|██████████| 1648877/1648877 [00:03<00:00, 432139.42it/s]\n"
     ]
    },
    {
     "name": "stdout",
     "output_type": "stream",
     "text": [
      "Extracting dataset/MNIST/raw/t10k-images-idx3-ubyte.gz to dataset/MNIST/raw\n",
      "\n",
      "Downloading http://yann.lecun.com/exdb/mnist/t10k-labels-idx1-ubyte.gz\n",
      "Failed to download (trying next):\n",
      "HTTP Error 403: Forbidden\n",
      "\n",
      "Downloading https://ossci-datasets.s3.amazonaws.com/mnist/t10k-labels-idx1-ubyte.gz\n",
      "Downloading https://ossci-datasets.s3.amazonaws.com/mnist/t10k-labels-idx1-ubyte.gz to dataset/MNIST/raw/t10k-labels-idx1-ubyte.gz\n"
     ]
    },
    {
     "name": "stderr",
     "output_type": "stream",
     "text": [
      "100%|██████████| 4542/4542 [00:00<00:00, 2741083.28it/s]"
     ]
    },
    {
     "name": "stdout",
     "output_type": "stream",
     "text": [
      "Extracting dataset/MNIST/raw/t10k-labels-idx1-ubyte.gz to dataset/MNIST/raw\n",
      "\n",
      "Training dataset size: 60000\n",
      "Test dataset size: 10000\n"
     ]
    },
    {
     "name": "stderr",
     "output_type": "stream",
     "text": [
      "\n"
     ]
    }
   ],
   "source": [
    "train_dataset = datasets.MNIST(root='dataset/', train=True, transform=transforms.ToTensor(), download=True)\n",
    "train_loader = DataLoader(dataset=train_dataset, batch_size=batch_size, shuffle=True)\n",
    "test_dataset = datasets.MNIST(root='dataset/', train=False, transform=transforms.ToTensor(), download=True)\n",
    "test_loader = DataLoader(dataset=test_dataset, batch_size=batch_size, shuffle=True)\n",
    "\n",
    "print(f'Training dataset size: {len(train_dataset)}')\n",
    "print(f'Test dataset size: {len(test_dataset)}')"
   ]
  },
  {
   "cell_type": "code",
   "execution_count": 4,
   "id": "d20f0d7a",
   "metadata": {
    "execution": {
     "iopub.execute_input": "2024-08-07T23:59:16.701923Z",
     "iopub.status.busy": "2024-08-07T23:59:16.701540Z",
     "iopub.status.idle": "2024-08-07T23:59:17.011157Z",
     "shell.execute_reply": "2024-08-07T23:59:17.009830Z"
    },
    "papermill": {
     "duration": 0.320118,
     "end_time": "2024-08-07T23:59:17.013504",
     "exception": false,
     "start_time": "2024-08-07T23:59:16.693386",
     "status": "completed"
    },
    "tags": []
   },
   "outputs": [
    {
     "data": {
      "image/png": "[encoded data removed]",
      "text/plain": [
       "<Figure size 640x480 with 1 Axes>"
      ]
     },
     "metadata": {},
     "output_type": "display_data"
    }
   ],
   "source": [
    "# Assuming you already have train_loader from your code\n",
    "# Get one batch of images and labels\n",
    "data_iter = iter(train_loader)\n",
    "images, labels = next(data_iter)\n",
    "\n",
    "# Get the first image and its label\n",
    "image = images[0]\n",
    "label = labels[0]\n",
    "\n",
    "# Convert the tensor image to a numpy array\n",
    "image = image.numpy().squeeze()\n",
    "\n",
    "# Display the image\n",
    "plt.imshow(image, cmap='gray')\n",
    "plt.title(f'Label: {label.item()}')\n",
    "plt.show()"
   ]
  },
  {
   "cell_type": "markdown",
   "id": "c9363a45",
   "metadata": {
    "id": "PohFFebhe2K7",
    "papermill": {
     "duration": 0.006803,
     "end_time": "2024-08-07T23:59:17.027772",
     "exception": false,
     "start_time": "2024-08-07T23:59:17.020969",
     "status": "completed"
    },
    "tags": []
   },
   "source": [
    "# Training"
   ]
  },
  {
   "cell_type": "code",
   "execution_count": 5,
   "id": "a578dc97",
   "metadata": {
    "execution": {
     "iopub.execute_input": "2024-08-07T23:59:17.043508Z",
     "iopub.status.busy": "2024-08-07T23:59:17.043087Z",
     "iopub.status.idle": "2024-08-07T23:59:25.007245Z",
     "shell.execute_reply": "2024-08-07T23:59:25.006175Z"
    },
    "id": "Xucyzc8Ge8RH",
    "papermill": {
     "duration": 7.975407,
     "end_time": "2024-08-07T23:59:25.010172",
     "exception": false,
     "start_time": "2024-08-07T23:59:17.034765",
     "status": "completed"
    },
    "tags": []
   },
   "outputs": [],
   "source": [
    "# Intialize NN\n",
    "model = NN(input_size=input_size, num_classes=num_classes).to(device)\n",
    "\n",
    "# Loss and optimizer\n",
    "criterion = nn.CrossEntropyLoss()\n",
    "optimizer = optim.Adam(model.parameters(), lr=learning_rate)\n",
    "\n",
    "# Train the NN\n",
    "for epoch in range(num_epochs):\n",
    "  for batch_idx, (data, targets) in enumerate(train_loader):\n",
    "    # Get data to device\n",
    "    data = data.to(device=device)\n",
    "    targets = targets.to(device=device)\n",
    "    # Correct the shape\n",
    "    data = data.reshape(data.shape[0], -1)\n",
    "\n",
    "    # Forward propagation\n",
    "    scores = model(data)\n",
    "    loss = criterion(scores, targets)\n",
    "\n",
    "    # Backward propagation\n",
    "    optimizer.zero_grad() # initialize all gradients to zero for each batch\n",
    "    loss.backward()\n",
    "\n",
    "    # Gradient descent or Adam step\n",
    "    optimizer.step()"
   ]
  },
  {
   "cell_type": "markdown",
   "id": "4f682ed1",
   "metadata": {
    "id": "UvS7Go0de-yH",
    "papermill": {
     "duration": 0.006865,
     "end_time": "2024-08-07T23:59:25.024788",
     "exception": false,
     "start_time": "2024-08-07T23:59:25.017923",
     "status": "completed"
    },
    "tags": []
   },
   "source": [
    "# Performance"
   ]
  },
  {
   "cell_type": "code",
   "execution_count": 6,
   "id": "0a64763a",
   "metadata": {
    "execution": {
     "iopub.execute_input": "2024-08-07T23:59:25.040720Z",
     "iopub.status.busy": "2024-08-07T23:59:25.040313Z",
     "iopub.status.idle": "2024-08-07T23:59:25.047958Z",
     "shell.execute_reply": "2024-08-07T23:59:25.046838Z"
    },
    "id": "w9ZXp1PCfADg",
    "papermill": {
     "duration": 0.018308,
     "end_time": "2024-08-07T23:59:25.050294",
     "exception": false,
     "start_time": "2024-08-07T23:59:25.031986",
     "status": "completed"
    },
    "tags": []
   },
   "outputs": [],
   "source": [
    "# Check accuracy on training and test sets\n",
    "def check_accuracy(loader, model):\n",
    "  if loader.dataset.train:\n",
    "    print(\"Checking accuracy on training data\")\n",
    "  else:\n",
    "    print(\"Checking accuracy on test data\")\n",
    "  num_correct = 0\n",
    "  num_samples = 0\n",
    "  model.eval()\n",
    "\n",
    "  with torch.no_grad():\n",
    "    for x, y in loader:\n",
    "      x = x.to(device=device)\n",
    "      y = y.to(device=device)\n",
    "      x = x.reshape(x.shape[0], -1)\n",
    "\n",
    "      scores = model(x)\n",
    "      _, predictions = scores.max(1)  # scores is 64x10 and we want to know which one of those the is the maximum value, so in max: dim=1\n",
    "      num_correct += (predictions == y).sum()\n",
    "      num_samples += predictions.size(0)\n",
    "\n",
    "    print(f'got {num_correct} / {num_samples} with accuracy {float(num_correct)/float(num_samples)*100:.2f}')\n",
    "\n",
    "  model.train()"
   ]
  },
  {
   "cell_type": "code",
   "execution_count": 7,
   "id": "474107ba",
   "metadata": {
    "execution": {
     "iopub.execute_input": "2024-08-07T23:59:25.066162Z",
     "iopub.status.busy": "2024-08-07T23:59:25.065778Z",
     "iopub.status.idle": "2024-08-07T23:59:33.363189Z",
     "shell.execute_reply": "2024-08-07T23:59:33.361930Z"
    },
    "id": "hLDIDqEPrWhk",
    "outputId": "beff3fb7-62f5-4b9b-ee22-4db0a00ef465",
    "papermill": {
     "duration": 8.308307,
     "end_time": "2024-08-07T23:59:33.365769",
     "exception": false,
     "start_time": "2024-08-07T23:59:25.057462",
     "status": "completed"
    },
    "tags": []
   },
   "outputs": [
    {
     "name": "stdout",
     "output_type": "stream",
     "text": [
      "Checking accuracy on training data\n",
      "got 56057 / 60000 with accuracy 93.43\n",
      "Checking accuracy on test data\n",
      "got 9340 / 10000 with accuracy 93.40\n"
     ]
    }
   ],
   "source": [
    "check_accuracy(train_loader, model)\n",
    "check_accuracy(test_loader, model)"
   ]
  }
 ],
 "metadata": {
  "accelerator": "GPU",
  "colab": {
   "authorship_tag": "ABX9TyOnIP8xmn7sS2CVpet4uP60",
   "gpuType": "T4",
   "include_colab_link": true,
   "provenance": []
  },
  "kaggle": {
   "accelerator": "none",
   "dataSources": [],
   "dockerImageVersionId": 30746,
   "isGpuEnabled": false,
   "isInternetEnabled": true,
   "language": "python",
   "sourceType": "notebook"
  },
  "kernelspec": {
   "display_name": "Python 3",
   "language": "python",
   "name": "python3"
  },
  "language_info": {
   "codemirror_mode": {
    "name": "ipython",
    "version": 3
   },
   "file_extension": ".py",
   "mimetype": "text/x-python",
   "name": "python",
   "nbconvert_exporter": "python",
   "pygments_lexer": "ipython3",
   "version": "3.10.13"
  },
  "papermill": {
   "default_parameters": {},
   "duration": 35.688493,
   "end_time": "2024-08-07T23:59:34.396102",
   "environment_variables": {},
   "exception": null,
   "input_path": "__notebook__.ipynb",
   "output_path": "__notebook__.ipynb",
   "parameters": {},
   "start_time": "2024-08-07T23:58:58.707609",
   "version": "2.5.0"
  }
 },
 "nbformat": 4,
 "nbformat_minor": 5
}
