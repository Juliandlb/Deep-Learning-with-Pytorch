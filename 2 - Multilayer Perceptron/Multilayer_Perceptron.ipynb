{
 "cells": [
  {
   "cell_type": "markdown",
   "id": "b64c082b",
   "metadata": {
    "id": "IDQ0ZQJoeq6v",
    "papermill": {
     "duration": 0.003245,
     "end_time": "2024-08-07T23:30:56.867390",
     "exception": false,
     "start_time": "2024-08-07T23:30:56.864145",
     "status": "completed"
    },
    "tags": []
   },
   "source": [
    "# Imports"
   ]
  },
  {
   "cell_type": "code",
   "execution_count": 1,
   "id": "4f5df7a3",
   "metadata": {
    "execution": {
     "iopub.execute_input": "2024-08-07T23:30:56.875063Z",
     "iopub.status.busy": "2024-08-07T23:30:56.874639Z",
     "iopub.status.idle": "2024-08-07T23:31:01.818197Z",
     "shell.execute_reply": "2024-08-07T23:31:01.817214Z"
    },
    "id": "2rnQ7hvOeNhh",
    "papermill": {
     "duration": 4.950484,
     "end_time": "2024-08-07T23:31:01.820851",
     "exception": false,
     "start_time": "2024-08-07T23:30:56.870367",
     "status": "completed"
    },
    "tags": []
   },
   "outputs": [],
   "source": [
    "import torch\n",
    "import torch.nn as nn\n",
    "import torch.optim as optim\n",
    "import torch.nn.functional as F\n",
    "from torch.utils.data import DataLoader\n",
    "import torchvision.datasets as datasets\n",
    "import torchvision.transforms as transforms"
   ]
  },
  {
   "cell_type": "markdown",
   "id": "04a8a420",
   "metadata": {
    "id": "tVIhuFdHevrr",
    "papermill": {
     "duration": 0.002633,
     "end_time": "2024-08-07T23:31:01.826585",
     "exception": false,
     "start_time": "2024-08-07T23:31:01.823952",
     "status": "completed"
    },
    "tags": []
   },
   "source": [
    "# Model"
   ]
  },
  {
   "cell_type": "code",
   "execution_count": 2,
   "id": "ebf79811",
   "metadata": {
    "execution": {
     "iopub.execute_input": "2024-08-07T23:31:01.834363Z",
     "iopub.status.busy": "2024-08-07T23:31:01.833477Z",
     "iopub.status.idle": "2024-08-07T23:31:01.917146Z",
     "shell.execute_reply": "2024-08-07T23:31:01.915911Z"
    },
    "id": "De4IB4j9ezAX",
    "outputId": "6694f5af-f839-417e-b98f-540d441ad6a7",
    "papermill": {
     "duration": 0.090208,
     "end_time": "2024-08-07T23:31:01.919586",
     "exception": false,
     "start_time": "2024-08-07T23:31:01.829378",
     "status": "completed"
    },
    "tags": []
   },
   "outputs": [
    {
     "name": "stdout",
     "output_type": "stream",
     "text": [
      "torch.Size([64, 10])\n",
      "cpu\n"
     ]
    }
   ],
   "source": [
    "# Create the model\n",
    "class NN(nn.Module):  # we inherit our model class from nn.module\n",
    "  def __init__(self, input_size, num_classes):  # 28x28 = 784\n",
    "    super(NN, self).__init__()  # The super calls the initialization method of the parent class\n",
    "    self.fc1 = nn.Linear(input_size, 50)\n",
    "    self.fc2 = nn.Linear(50, num_classes)\n",
    "\n",
    "  def forward(self, x):\n",
    "    x = F.relu(self.fc1(x))\n",
    "    x = self.fc2(x)\n",
    "    return x\n",
    "\n",
    "# Check if it gives the correct shapes for some random data\n",
    "model = NN(784, 10)\n",
    "x = torch.rand((64, 784)) # mini batch size x features\n",
    "print(model(x).shape) # he hope to have the number of examples x the number of classes (64x10)\n",
    "\n",
    "# Device\n",
    "device = torch.device('cuda' if torch.cuda.is_available() else 'cpu')\n",
    "print(device)\n",
    "\n",
    "# Hyperparameter\n",
    "input_size = 784\n",
    "num_classes = 10\n",
    "learning_rate = 0.001\n",
    "batch_size = 64\n",
    "num_epochs = 1"
   ]
  },
  {
   "cell_type": "markdown",
   "id": "e89d8a05",
   "metadata": {
    "id": "NivC79aefIGV",
    "papermill": {
     "duration": 0.002795,
     "end_time": "2024-08-07T23:31:01.925814",
     "exception": false,
     "start_time": "2024-08-07T23:31:01.923019",
     "status": "completed"
    },
    "tags": []
   },
   "source": [
    "# Load Data"
   ]
  },
  {
   "cell_type": "code",
   "execution_count": 3,
   "id": "d46cbff1",
   "metadata": {
    "execution": {
     "iopub.execute_input": "2024-08-07T23:31:01.933379Z",
     "iopub.status.busy": "2024-08-07T23:31:01.932998Z",
     "iopub.status.idle": "2024-08-07T23:31:14.957899Z",
     "shell.execute_reply": "2024-08-07T23:31:14.956843Z"
    },
    "id": "27vHygWwfKiU",
    "papermill": {
     "duration": 13.031735,
     "end_time": "2024-08-07T23:31:14.960549",
     "exception": false,
     "start_time": "2024-08-07T23:31:01.928814",
     "status": "completed"
    },
    "tags": []
   },
   "outputs": [
    {
     "name": "stdout",
     "output_type": "stream",
     "text": [
      "Downloading http://yann.lecun.com/exdb/mnist/train-images-idx3-ubyte.gz\n",
      "Failed to download (trying next):\n",
      "HTTP Error 403: Forbidden\n",
      "\n",
      "Downloading https://ossci-datasets.s3.amazonaws.com/mnist/train-images-idx3-ubyte.gz\n",
      "Downloading https://ossci-datasets.s3.amazonaws.com/mnist/train-images-idx3-ubyte.gz to dataset/MNIST/raw/train-images-idx3-ubyte.gz\n"
     ]
    },
    {
     "name": "stderr",
     "output_type": "stream",
     "text": [
      "100%|██████████| 9912422/9912422 [00:01<00:00, 6025013.09it/s]\n"
     ]
    },
    {
     "name": "stdout",
     "output_type": "stream",
     "text": [
      "Extracting dataset/MNIST/raw/train-images-idx3-ubyte.gz to dataset/MNIST/raw\n",
      "\n",
      "Downloading http://yann.lecun.com/exdb/mnist/train-labels-idx1-ubyte.gz\n",
      "Failed to download (trying next):\n",
      "HTTP Error 403: Forbidden\n",
      "\n",
      "Downloading https://ossci-datasets.s3.amazonaws.com/mnist/train-labels-idx1-ubyte.gz\n",
      "Downloading https://ossci-datasets.s3.amazonaws.com/mnist/train-labels-idx1-ubyte.gz to dataset/MNIST/raw/train-labels-idx1-ubyte.gz\n"
     ]
    },
    {
     "name": "stderr",
     "output_type": "stream",
     "text": [
      "100%|██████████| 28881/28881 [00:00<00:00, 158724.72it/s]\n"
     ]
    },
    {
     "name": "stdout",
     "output_type": "stream",
     "text": [
      "Extracting dataset/MNIST/raw/train-labels-idx1-ubyte.gz to dataset/MNIST/raw\n",
      "\n",
      "Downloading http://yann.lecun.com/exdb/mnist/t10k-images-idx3-ubyte.gz\n",
      "Failed to download (trying next):\n",
      "HTTP Error 403: Forbidden\n",
      "\n",
      "Downloading https://ossci-datasets.s3.amazonaws.com/mnist/t10k-images-idx3-ubyte.gz\n",
      "Downloading https://ossci-datasets.s3.amazonaws.com/mnist/t10k-images-idx3-ubyte.gz to dataset/MNIST/raw/t10k-images-idx3-ubyte.gz\n"
     ]
    },
    {
     "name": "stderr",
     "output_type": "stream",
     "text": [
      "100%|██████████| 1648877/1648877 [00:01<00:00, 1500909.31it/s]\n"
     ]
    },
    {
     "name": "stdout",
     "output_type": "stream",
     "text": [
      "Extracting dataset/MNIST/raw/t10k-images-idx3-ubyte.gz to dataset/MNIST/raw\n",
      "\n",
      "Downloading http://yann.lecun.com/exdb/mnist/t10k-labels-idx1-ubyte.gz\n",
      "Failed to download (trying next):\n",
      "HTTP Error 403: Forbidden\n",
      "\n",
      "Downloading https://ossci-datasets.s3.amazonaws.com/mnist/t10k-labels-idx1-ubyte.gz\n",
      "Downloading https://ossci-datasets.s3.amazonaws.com/mnist/t10k-labels-idx1-ubyte.gz to dataset/MNIST/raw/t10k-labels-idx1-ubyte.gz\n"
     ]
    },
    {
     "name": "stderr",
     "output_type": "stream",
     "text": [
      "100%|██████████| 4542/4542 [00:00<00:00, 2723060.14it/s]"
     ]
    },
    {
     "name": "stdout",
     "output_type": "stream",
     "text": [
      "Extracting dataset/MNIST/raw/t10k-labels-idx1-ubyte.gz to dataset/MNIST/raw\n",
      "\n"
     ]
    },
    {
     "name": "stderr",
     "output_type": "stream",
     "text": [
      "\n"
     ]
    }
   ],
   "source": [
    "train_dataset = datasets.MNIST(root='dataset/', train=True, transform=transforms.ToTensor(), download=True)\n",
    "train_loader = DataLoader(dataset=train_dataset, batch_size=batch_size, shuffle=True)\n",
    "test_dataset = datasets.MNIST(root='dataset/', train=False, transform=transforms.ToTensor(), download=True)\n",
    "test_loader = DataLoader(dataset=test_dataset, batch_size=batch_size, shuffle=True)"
   ]
  },
  {
   "cell_type": "markdown",
   "id": "058125c5",
   "metadata": {
    "id": "PohFFebhe2K7",
    "papermill": {
     "duration": 0.005655,
     "end_time": "2024-08-07T23:31:14.972075",
     "exception": false,
     "start_time": "2024-08-07T23:31:14.966420",
     "status": "completed"
    },
    "tags": []
   },
   "source": [
    "# Training"
   ]
  },
  {
   "cell_type": "code",
   "execution_count": 4,
   "id": "619a06b0",
   "metadata": {
    "execution": {
     "iopub.execute_input": "2024-08-07T23:31:14.985335Z",
     "iopub.status.busy": "2024-08-07T23:31:14.984931Z",
     "iopub.status.idle": "2024-08-07T23:31:22.956013Z",
     "shell.execute_reply": "2024-08-07T23:31:22.955010Z"
    },
    "id": "Xucyzc8Ge8RH",
    "papermill": {
     "duration": 7.980749,
     "end_time": "2024-08-07T23:31:22.958617",
     "exception": false,
     "start_time": "2024-08-07T23:31:14.977868",
     "status": "completed"
    },
    "tags": []
   },
   "outputs": [],
   "source": [
    "# Intialize NN\n",
    "model = NN(input_size=input_size, num_classes=num_classes).to(device)\n",
    "\n",
    "# Loss and optimizer\n",
    "criterion = nn.CrossEntropyLoss()\n",
    "optimizer = optim.Adam(model.parameters(), lr=learning_rate)\n",
    "\n",
    "# Train the NN\n",
    "for epoch in range(num_epochs):\n",
    "  for batch_idx, (data, targets) in enumerate(train_loader):\n",
    "    # Get data to device\n",
    "    data = data.to(device=device)\n",
    "    targets = targets.to(device=device)\n",
    "    # Correct the shape\n",
    "    data = data.reshape(data.shape[0], -1)\n",
    "\n",
    "    # Forward propagation\n",
    "    scores = model(data)\n",
    "    loss = criterion(scores, targets)\n",
    "\n",
    "    # Backward propagation\n",
    "    optimizer.zero_grad() # initialize all gradients to zero for each batch\n",
    "    loss.backward()\n",
    "\n",
    "    # Gradient descent or Adam step\n",
    "    optimizer.step()"
   ]
  },
  {
   "cell_type": "markdown",
   "id": "5c231752",
   "metadata": {
    "id": "UvS7Go0de-yH",
    "papermill": {
     "duration": 0.00558,
     "end_time": "2024-08-07T23:31:22.970356",
     "exception": false,
     "start_time": "2024-08-07T23:31:22.964776",
     "status": "completed"
    },
    "tags": []
   },
   "source": [
    "# Performance"
   ]
  },
  {
   "cell_type": "code",
   "execution_count": 5,
   "id": "dada15a9",
   "metadata": {
    "execution": {
     "iopub.execute_input": "2024-08-07T23:31:22.984064Z",
     "iopub.status.busy": "2024-08-07T23:31:22.983112Z",
     "iopub.status.idle": "2024-08-07T23:31:22.990733Z",
     "shell.execute_reply": "2024-08-07T23:31:22.989625Z"
    },
    "id": "w9ZXp1PCfADg",
    "papermill": {
     "duration": 0.016834,
     "end_time": "2024-08-07T23:31:22.992930",
     "exception": false,
     "start_time": "2024-08-07T23:31:22.976096",
     "status": "completed"
    },
    "tags": []
   },
   "outputs": [],
   "source": [
    "# Check accuracy on training and test sets\n",
    "def check_accuracy(loader, model):\n",
    "  if loader.dataset.train:\n",
    "    print(\"Checking accuracy on training data\")\n",
    "  else:\n",
    "    print(\"Checking accuracy on test data\")\n",
    "  num_correct = 0\n",
    "  num_samples = 0\n",
    "  model.eval()\n",
    "\n",
    "  with torch.no_grad():\n",
    "    for x, y in loader:\n",
    "      x = x.to(device=device)\n",
    "      y = y.to(device=device)\n",
    "      x = x.reshape(x.shape[0], -1)\n",
    "\n",
    "      scores = model(x)\n",
    "      _, predictions = scores.max(1)  # scores is 64x10 and we want to know which one of those the is the maximum value, so in max: dim=1\n",
    "      num_correct += (predictions == y).sum()\n",
    "      num_samples += predictions.size(0)\n",
    "\n",
    "    print(f'got {num_correct} / {num_samples} with accuracy {float(num_correct)/float(num_samples)*100:.2f}')\n",
    "\n",
    "  model.train()"
   ]
  },
  {
   "cell_type": "code",
   "execution_count": 6,
   "id": "a4aaa817",
   "metadata": {
    "execution": {
     "iopub.execute_input": "2024-08-07T23:31:23.006361Z",
     "iopub.status.busy": "2024-08-07T23:31:23.005988Z",
     "iopub.status.idle": "2024-08-07T23:31:30.932762Z",
     "shell.execute_reply": "2024-08-07T23:31:30.931275Z"
    },
    "id": "hLDIDqEPrWhk",
    "outputId": "beff3fb7-62f5-4b9b-ee22-4db0a00ef465",
    "papermill": {
     "duration": 7.936079,
     "end_time": "2024-08-07T23:31:30.935021",
     "exception": false,
     "start_time": "2024-08-07T23:31:22.998942",
     "status": "completed"
    },
    "tags": []
   },
   "outputs": [
    {
     "name": "stdout",
     "output_type": "stream",
     "text": [
      "Checking accuracy on training data\n",
      "got 55902 / 60000 with accuracy 93.17\n",
      "Checking accuracy on test data\n",
      "got 9290 / 10000 with accuracy 92.90\n"
     ]
    }
   ],
   "source": [
    "check_accuracy(train_loader, model)\n",
    "check_accuracy(test_loader, model)"
   ]
  }
 ],
 "metadata": {
  "accelerator": "GPU",
  "colab": {
   "authorship_tag": "ABX9TyOnIP8xmn7sS2CVpet4uP60",
   "gpuType": "T4",
   "include_colab_link": true,
   "provenance": []
  },
  "kaggle": {
   "accelerator": "none",
   "dataSources": [],
   "isGpuEnabled": false,
   "isInternetEnabled": true,
   "language": "python",
   "sourceType": "notebook"
  },
  "kernelspec": {
   "display_name": "Python 3",
   "name": "python3"
  },
  "language_info": {
   "codemirror_mode": {
    "name": "ipython",
    "version": 3
   },
   "file_extension": ".py",
   "mimetype": "text/x-python",
   "name": "python",
   "nbconvert_exporter": "python",
   "pygments_lexer": "ipython3",
   "version": "3.10.13"
  },
  "papermill": {
   "default_parameters": {},
   "duration": 37.860541,
   "end_time": "2024-08-07T23:31:31.963230",
   "environment_variables": {},
   "exception": null,
   "input_path": "__notebook__.ipynb",
   "output_path": "__notebook__.ipynb",
   "parameters": {},
   "start_time": "2024-08-07T23:30:54.102689",
   "version": "2.5.0"
  }
 },
 "nbformat": 4,
 "nbformat_minor": 5
}
