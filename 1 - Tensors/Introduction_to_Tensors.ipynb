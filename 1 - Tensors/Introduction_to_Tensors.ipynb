{
 "cells": [
  {
   "cell_type": "markdown",
   "id": "754d626b",
   "metadata": {
    "id": "uKfDnDv5kfus",
    "papermill": {
     "duration": 0.01208,
     "end_time": "2024-08-07T23:19:18.358951",
     "exception": false,
     "start_time": "2024-08-07T23:19:18.346871",
     "status": "completed"
    },
    "tags": []
   },
   "source": [
    "# Setup\n",
    "Import torch and check if there is a GPU available"
   ]
  },
  {
   "cell_type": "code",
   "execution_count": 1,
   "id": "a4c7fed5",
   "metadata": {
    "execution": {
     "iopub.execute_input": "2024-08-07T23:19:18.383845Z",
     "iopub.status.busy": "2024-08-07T23:19:18.383509Z",
     "iopub.status.idle": "2024-08-07T23:19:22.226622Z",
     "shell.execute_reply": "2024-08-07T23:19:22.225714Z"
    },
    "id": "ngAV5o4Df1-W",
    "outputId": "4d260b49-1788-4d42-de67-a90e8669d4e0",
    "papermill": {
     "duration": 3.858581,
     "end_time": "2024-08-07T23:19:22.229616",
     "exception": false,
     "start_time": "2024-08-07T23:19:18.371035",
     "status": "completed"
    },
    "tags": []
   },
   "outputs": [
    {
     "name": "stdout",
     "output_type": "stream",
     "text": [
      "2.1.2\n",
      "GPU is available\n"
     ]
    }
   ],
   "source": [
    "import torch\n",
    "print(torch.__version__)\n",
    "# Check if GPU is available\n",
    "if torch.cuda.is_available():\n",
    "    device = torch.device('cuda')\n",
    "    print(\"GPU is available\")\n",
    "else:\n",
    "    device = torch.device('cpu')\n",
    "    print(\"GPU is not available\")"
   ]
  },
  {
   "cell_type": "markdown",
   "id": "6da97693",
   "metadata": {
    "id": "vxuakNEgknyT",
    "papermill": {
     "duration": 0.011608,
     "end_time": "2024-08-07T23:19:22.253332",
     "exception": false,
     "start_time": "2024-08-07T23:19:22.241724",
     "status": "completed"
    },
    "tags": []
   },
   "source": [
    "# Tensor Initialization"
   ]
  },
  {
   "cell_type": "code",
   "execution_count": 2,
   "id": "9ba1be7c",
   "metadata": {
    "execution": {
     "iopub.execute_input": "2024-08-07T23:19:22.278900Z",
     "iopub.status.busy": "2024-08-07T23:19:22.278504Z",
     "iopub.status.idle": "2024-08-07T23:19:22.509054Z",
     "shell.execute_reply": "2024-08-07T23:19:22.507901Z"
    },
    "id": "tzfoMflWkGVX",
    "outputId": "2a32d64e-53f7-4f3f-9543-693ec4e8650d",
    "papermill": {
     "duration": 0.24776,
     "end_time": "2024-08-07T23:19:22.512650",
     "exception": false,
     "start_time": "2024-08-07T23:19:22.264890",
     "status": "completed"
    },
    "tags": []
   },
   "outputs": [
    {
     "name": "stdout",
     "output_type": "stream",
     "text": [
      "tensor([[1, 2, 3],\n",
      "        [4, 5, 6]])\n",
      "torch.int64\n",
      "torch.float32\n",
      "cuda:0\n"
     ]
    }
   ],
   "source": [
    "# Create a tensor\n",
    "my_tensor = torch.tensor([[1,2,3],[4,5,6]])\n",
    "print(my_tensor)\n",
    "print(my_tensor.dtype)\n",
    "# Specify the type of the tensor\n",
    "my_tensor = torch.tensor([[1,2,3],[4,5,6]], dtype=torch.float32)\n",
    "print(my_tensor.dtype)\n",
    "# Specify the device of the tensor\n",
    "my_tensor = torch.tensor([[1,2,3],[4,5,6]], dtype=torch.float32, device = device)\n",
    "print(my_tensor.device)\n",
    "# Specify if the tensor requires gadient\n",
    "my_tensor = torch.tensor([[1,2,3],[4,5,6]], dtype=torch.float32, device = device, requires_grad=True)"
   ]
  },
  {
   "cell_type": "code",
   "execution_count": 3,
   "id": "849bf1cf",
   "metadata": {
    "execution": {
     "iopub.execute_input": "2024-08-07T23:19:22.540404Z",
     "iopub.status.busy": "2024-08-07T23:19:22.540080Z",
     "iopub.status.idle": "2024-08-07T23:19:22.623051Z",
     "shell.execute_reply": "2024-08-07T23:19:22.621985Z"
    },
    "id": "lwbh1D11l5Dr",
    "outputId": "30933f79-6b1d-4c1d-abf0-22e68b8d6c01",
    "papermill": {
     "duration": 0.098509,
     "end_time": "2024-08-07T23:19:22.625685",
     "exception": false,
     "start_time": "2024-08-07T23:19:22.527176",
     "status": "completed"
    },
    "tags": []
   },
   "outputs": [
    {
     "name": "stdout",
     "output_type": "stream",
     "text": [
      "tensor([[2.7554e+23, 2.7523e+23, 2.0319e-43],\n",
      "        [0.0000e+00, 5.0932e+14, 4.4142e-41],\n",
      "        [5.0932e+14, 4.4142e-41, 7.5551e+31]])\n",
      "tensor([[0., 0., 0.],\n",
      "        [0., 0., 0.],\n",
      "        [0., 0., 0.]])\n",
      "tensor([[0.5277, 0.3463, 0.3044],\n",
      "        [0.6769, 0.9901, 0.5956],\n",
      "        [0.2512, 0.8622, 0.8920]])\n",
      "tensor([[1., 1., 1.],\n",
      "        [1., 1., 1.],\n",
      "        [1., 1., 1.]])\n",
      "tensor([[1., 0., 0.],\n",
      "        [0., 1., 0.],\n",
      "        [0., 0., 1.]])\n",
      "tensor([0, 1, 2, 3, 4])\n",
      "tensor([0.1000, 0.2000, 0.3000, 0.4000, 0.5000, 0.6000, 0.7000, 0.8000, 0.9000,\n",
      "        1.0000])\n",
      "tensor([[-0.7974, -1.0475,  0.0801, -0.4518, -0.3537]])\n",
      "tensor([[0.7613, 0.3044, 0.0398, 0.8131, 0.2974]])\n",
      "tensor([[1., 0., 0.],\n",
      "        [0., 1., 0.],\n",
      "        [0., 0., 1.]])\n"
     ]
    }
   ],
   "source": [
    "# Other initialization methods\n",
    "x = torch.empty(size = (3,3)) # The values will be random\n",
    "print(x)\n",
    "x = torch.zeros(size = (3,3))\n",
    "print(x)\n",
    "x = torch.rand(size = (3,3))\n",
    "print(x)\n",
    "x = torch.ones(size = (3,3))\n",
    "print(x)\n",
    "x = torch.eye(3,3) # Identity matrix\n",
    "print(x)\n",
    "x = torch.arange(start=0, end=5, step=1)\n",
    "print(x)\n",
    "x = torch.linspace(start=0.1, end=1, steps=10)\n",
    "print(x)\n",
    "x = torch.empty(size = (1,5)).normal_(mean=0, std=1)\n",
    "print(x)\n",
    "x = torch.empty(size = (1,5)).uniform_(0,1)\n",
    "print(x)\n",
    "x = torch.diag(torch.ones(3)) # This will create a diagonal matrix of 3x3\n",
    "print(x)"
   ]
  },
  {
   "cell_type": "code",
   "execution_count": 4,
   "id": "86c88f33",
   "metadata": {
    "execution": {
     "iopub.execute_input": "2024-08-07T23:19:22.662156Z",
     "iopub.status.busy": "2024-08-07T23:19:22.661402Z",
     "iopub.status.idle": "2024-08-07T23:19:22.677109Z",
     "shell.execute_reply": "2024-08-07T23:19:22.676173Z"
    },
    "id": "Vyw7sSY_oc8P",
    "outputId": "84d221b7-f4b9-478b-9f4f-614413318660",
    "papermill": {
     "duration": 0.037223,
     "end_time": "2024-08-07T23:19:22.679698",
     "exception": false,
     "start_time": "2024-08-07T23:19:22.642475",
     "status": "completed"
    },
    "tags": []
   },
   "outputs": [
    {
     "name": "stdout",
     "output_type": "stream",
     "text": [
      "tensor([0, 1, 2, 3])\n",
      "torch.int64\n",
      "tensor([False,  True,  True,  True])\n",
      "tensor([0, 1, 2, 3], dtype=torch.int16)\n",
      "tensor([0, 1, 2, 3])\n",
      "tensor([0., 1., 2., 3.], dtype=torch.float16)\n",
      "tensor([0., 1., 2., 3.])\n",
      "tensor([0., 1., 2., 3.], dtype=torch.float64)\n"
     ]
    }
   ],
   "source": [
    " # How to initialize and convert tensors to other types (int, float, double)\n",
    "tensor = torch.arange(4)\n",
    "print(tensor)\n",
    "print(tensor.dtype)\n",
    "# Convert it to Bool\n",
    "print(tensor.bool())\n",
    "# Convert it to int16\n",
    "print(tensor.short())\n",
    "# Convert it to int64 **\n",
    "print(tensor.long())\n",
    "# Convert it to float16\n",
    "print(tensor.half())\n",
    "# Convert it to float32 **\n",
    "print(tensor.float())\n",
    "# Convert it to float64\n",
    "print(tensor.double())"
   ]
  },
  {
   "cell_type": "markdown",
   "id": "963aae6b",
   "metadata": {
    "id": "Gg_fOUL3tR4s",
    "papermill": {
     "duration": 0.012896,
     "end_time": "2024-08-07T23:19:22.711877",
     "exception": false,
     "start_time": "2024-08-07T23:19:22.698981",
     "status": "completed"
    },
    "tags": []
   },
   "source": [
    "# Array-Tensor conversion"
   ]
  },
  {
   "cell_type": "code",
   "execution_count": 5,
   "id": "f8c3bc94",
   "metadata": {
    "execution": {
     "iopub.execute_input": "2024-08-07T23:19:22.738002Z",
     "iopub.status.busy": "2024-08-07T23:19:22.737699Z",
     "iopub.status.idle": "2024-08-07T23:19:22.744742Z",
     "shell.execute_reply": "2024-08-07T23:19:22.743716Z"
    },
    "id": "Z0l5MXoPq_9b",
    "outputId": "7659b9af-3681-49e7-f942-179d39b3deed",
    "papermill": {
     "duration": 0.02248,
     "end_time": "2024-08-07T23:19:22.746875",
     "exception": false,
     "start_time": "2024-08-07T23:19:22.724395",
     "status": "completed"
    },
    "tags": []
   },
   "outputs": [
    {
     "name": "stdout",
     "output_type": "stream",
     "text": [
      "tensor([[0., 0., 0., 0., 0.],\n",
      "        [0., 0., 0., 0., 0.],\n",
      "        [0., 0., 0., 0., 0.],\n",
      "        [0., 0., 0., 0., 0.],\n",
      "        [0., 0., 0., 0., 0.]], dtype=torch.float64)\n",
      "[[0. 0. 0. 0. 0.]\n",
      " [0. 0. 0. 0. 0.]\n",
      " [0. 0. 0. 0. 0.]\n",
      " [0. 0. 0. 0. 0.]\n",
      " [0. 0. 0. 0. 0.]]\n"
     ]
    }
   ],
   "source": [
    "# Array to Tensor conversion\n",
    "import numpy as np\n",
    "np_array = np.zeros((5,5))\n",
    "converted_tensor = torch.from_numpy(np_array)\n",
    "print(converted_tensor)\n",
    "\n",
    "# Tensor to Array conversion\n",
    "converted_np_array = converted_tensor.numpy()\n",
    "print(converted_np_array)"
   ]
  },
  {
   "cell_type": "markdown",
   "id": "140a4cd2",
   "metadata": {
    "id": "XcQbKGcWtViC",
    "papermill": {
     "duration": 0.012211,
     "end_time": "2024-08-07T23:19:22.771896",
     "exception": false,
     "start_time": "2024-08-07T23:19:22.759685",
     "status": "completed"
    },
    "tags": []
   },
   "source": [
    "# Tensor Math"
   ]
  },
  {
   "cell_type": "code",
   "execution_count": 6,
   "id": "905bb4fd",
   "metadata": {
    "execution": {
     "iopub.execute_input": "2024-08-07T23:19:22.801367Z",
     "iopub.status.busy": "2024-08-07T23:19:22.800520Z",
     "iopub.status.idle": "2024-08-07T23:19:22.819209Z",
     "shell.execute_reply": "2024-08-07T23:19:22.818134Z"
    },
    "id": "MJRCIEwTsXH8",
    "outputId": "9803441c-67b8-499c-9ce5-7f52c1bb7d4e",
    "papermill": {
     "duration": 0.034995,
     "end_time": "2024-08-07T23:19:22.821349",
     "exception": false,
     "start_time": "2024-08-07T23:19:22.786354",
     "status": "completed"
    },
    "tags": []
   },
   "outputs": [
    {
     "name": "stdout",
     "output_type": "stream",
     "text": [
      "sum1: tensor([10., 10., 10.])\n",
      "sum2: tensor([10, 10, 10])\n",
      "sum3: tensor([10, 10, 10])\n",
      "sub: tensor([-8, -6, -4])\n",
      "div1: tensor([0.1111, 0.2500, 0.4286])\n",
      "div2: tensor([0.5000, 1.0000, 1.5000])\n"
     ]
    }
   ],
   "source": [
    "x = torch.tensor([1,2,3])\n",
    "y = torch.tensor([9,8,7])\n",
    "\n",
    "# Addition\n",
    "sum1 = torch.empty(3)\n",
    "torch.add(x, y, out=sum1)\n",
    "print('sum1:', sum1)\n",
    "sum2 = torch.add(x,y)\n",
    "print('sum2:', sum2)\n",
    "sum3 = x + y\n",
    "print('sum3:', sum3)\n",
    "\n",
    "# Subtraction\n",
    "sub = x - y\n",
    "print('sub:', sub)\n",
    "\n",
    "# Division\n",
    "# element-wise\n",
    "div1 = torch.true_divide(x, y)\n",
    "print('div1:', div1)\n",
    "# divide to an integer\n",
    "div2 = torch.true_divide(x, 2)\n",
    "print('div2:', div2)"
   ]
  },
  {
   "cell_type": "code",
   "execution_count": 7,
   "id": "37bd4ced",
   "metadata": {
    "execution": {
     "iopub.execute_input": "2024-08-07T23:19:22.847593Z",
     "iopub.status.busy": "2024-08-07T23:19:22.847273Z",
     "iopub.status.idle": "2024-08-07T23:19:22.855642Z",
     "shell.execute_reply": "2024-08-07T23:19:22.854705Z"
    },
    "id": "9_2aoLMC46Ji",
    "outputId": "c1693f55-29a8-4cb9-ae2e-592e40126388",
    "papermill": {
     "duration": 0.023245,
     "end_time": "2024-08-07T23:19:22.857549",
     "exception": false,
     "start_time": "2024-08-07T23:19:22.834304",
     "status": "completed"
    },
    "tags": []
   },
   "outputs": [
    {
     "name": "stdout",
     "output_type": "stream",
     "text": [
      "tensor([0., 0., 0.])\n",
      "tensor([1., 2., 3.])\n",
      "tensor([2., 4., 6.])\n"
     ]
    }
   ],
   "source": [
    "# Inplace Operations\n",
    "t = torch.zeros(3)\n",
    "print(t)\n",
    "t.add_(x) # The \"_\" means that it is done inplace, so you dont need to do a copy of the tensor\n",
    "print(t)\n",
    "t += x\n",
    "print(t)"
   ]
  },
  {
   "cell_type": "code",
   "execution_count": 8,
   "id": "bf527197",
   "metadata": {
    "execution": {
     "iopub.execute_input": "2024-08-07T23:19:22.883120Z",
     "iopub.status.busy": "2024-08-07T23:19:22.882853Z",
     "iopub.status.idle": "2024-08-07T23:19:22.889136Z",
     "shell.execute_reply": "2024-08-07T23:19:22.887963Z"
    },
    "id": "ZfIkRuZr5jea",
    "outputId": "64bea43b-2ec5-4edc-9c74-4c8323dcff75",
    "papermill": {
     "duration": 0.021249,
     "end_time": "2024-08-07T23:19:22.891274",
     "exception": false,
     "start_time": "2024-08-07T23:19:22.870025",
     "status": "completed"
    },
    "tags": []
   },
   "outputs": [
    {
     "name": "stdout",
     "output_type": "stream",
     "text": [
      "tensor([1, 2, 3])\n",
      "tensor([1, 4, 9])\n",
      "tensor([1, 4, 9])\n"
     ]
    }
   ],
   "source": [
    "# Element-wise exponentiation\n",
    "print(x)\n",
    "z = x.pow(2)\n",
    "y = x ** 2\n",
    "print(z)\n",
    "print(y)"
   ]
  },
  {
   "cell_type": "code",
   "execution_count": 9,
   "id": "ac8d6722",
   "metadata": {
    "execution": {
     "iopub.execute_input": "2024-08-07T23:19:22.924891Z",
     "iopub.status.busy": "2024-08-07T23:19:22.924510Z",
     "iopub.status.idle": "2024-08-07T23:19:22.972780Z",
     "shell.execute_reply": "2024-08-07T23:19:22.971810Z"
    },
    "id": "g8PLtngJ8KaN",
    "outputId": "1ed2cf54-d47c-49a7-b6a5-52fb5f2643c9",
    "papermill": {
     "duration": 0.069747,
     "end_time": "2024-08-07T23:19:22.974743",
     "exception": false,
     "start_time": "2024-08-07T23:19:22.904996",
     "status": "completed"
    },
    "tags": []
   },
   "outputs": [
    {
     "data": {
      "text/plain": [
       "tensor([[2.2288, 1.6781, 0.9315, 0.8727, 1.2683],\n",
       "        [0.9671, 0.9370, 0.4855, 0.4906, 0.3887],\n",
       "        [2.2041, 1.3339, 0.9488, 1.3817, 1.3416],\n",
       "        [1.5571, 0.7693, 0.5542, 0.9183, 0.8736],\n",
       "        [1.7653, 1.6380, 0.8403, 1.2146, 1.5484]])"
      ]
     },
     "execution_count": 9,
     "metadata": {},
     "output_type": "execute_result"
    }
   ],
   "source": [
    "# Matrix exponentiation\n",
    "matrix_exp = torch.rand((5,5))\n",
    "matrix_exp.matrix_power(2)"
   ]
  },
  {
   "cell_type": "code",
   "execution_count": 10,
   "id": "24aa964c",
   "metadata": {
    "execution": {
     "iopub.execute_input": "2024-08-07T23:19:23.000801Z",
     "iopub.status.busy": "2024-08-07T23:19:23.000432Z",
     "iopub.status.idle": "2024-08-07T23:19:23.006283Z",
     "shell.execute_reply": "2024-08-07T23:19:23.005280Z"
    },
    "id": "imP0MIcr54uT",
    "outputId": "260a450e-12b3-4513-b23b-b44d05bc992c",
    "papermill": {
     "duration": 0.021082,
     "end_time": "2024-08-07T23:19:23.008339",
     "exception": false,
     "start_time": "2024-08-07T23:19:22.987257",
     "status": "completed"
    },
    "tags": []
   },
   "outputs": [
    {
     "name": "stdout",
     "output_type": "stream",
     "text": [
      "tensor([True, True, True])\n",
      "tensor([False, False, False])\n"
     ]
    }
   ],
   "source": [
    "# Simple Comparison\n",
    "z = x > 0\n",
    "print(z)\n",
    "z = x < 0\n",
    "print(z)"
   ]
  },
  {
   "cell_type": "code",
   "execution_count": 11,
   "id": "f6a352ea",
   "metadata": {
    "execution": {
     "iopub.execute_input": "2024-08-07T23:19:23.034384Z",
     "iopub.status.busy": "2024-08-07T23:19:23.034122Z",
     "iopub.status.idle": "2024-08-07T23:19:23.041221Z",
     "shell.execute_reply": "2024-08-07T23:19:23.040317Z"
    },
    "id": "G-OjJXJj6P6u",
    "outputId": "7ad5c894-2a7c-41ef-ce15-31b92558fbfc",
    "papermill": {
     "duration": 0.022206,
     "end_time": "2024-08-07T23:19:23.043222",
     "exception": false,
     "start_time": "2024-08-07T23:19:23.021016",
     "status": "completed"
    },
    "tags": []
   },
   "outputs": [
    {
     "name": "stdout",
     "output_type": "stream",
     "text": [
      "tensor([1, 2, 3])\n",
      "tensor([1, 4, 9])\n",
      "tensor([ 1,  8, 27])\n"
     ]
    }
   ],
   "source": [
    "# Element-wise multiplication\n",
    "print(x)\n",
    "print(y)\n",
    "z = x * y\n",
    "print(z)"
   ]
  },
  {
   "cell_type": "code",
   "execution_count": 12,
   "id": "5b8d7a71",
   "metadata": {
    "execution": {
     "iopub.execute_input": "2024-08-07T23:19:23.069109Z",
     "iopub.status.busy": "2024-08-07T23:19:23.068833Z",
     "iopub.status.idle": "2024-08-07T23:19:23.077317Z",
     "shell.execute_reply": "2024-08-07T23:19:23.076371Z"
    },
    "id": "SqGXczar8ODP",
    "outputId": "7b106917-84d5-4fab-f150-df0297c6a3ee",
    "papermill": {
     "duration": 0.023419,
     "end_time": "2024-08-07T23:19:23.079278",
     "exception": false,
     "start_time": "2024-08-07T23:19:23.055859",
     "status": "completed"
    },
    "tags": []
   },
   "outputs": [
    {
     "name": "stdout",
     "output_type": "stream",
     "text": [
      "tensor([[1.0315, 0.9953, 0.9317],\n",
      "        [1.3012, 1.0666, 0.9917]])\n",
      "tensor([[1.0315, 0.9953, 0.9317],\n",
      "        [1.3012, 1.0666, 0.9917]])\n"
     ]
    }
   ],
   "source": [
    "# Matrix multiplication\n",
    "x1 = torch.rand((2,5))\n",
    "x2 = torch.rand((5,3))\n",
    "\n",
    "x3 = torch.mm(x1,x2)  # 2x3\n",
    "x4 = x1.mm(x2) # This is common to all pytorch functions\n",
    "print(x3)\n",
    "print(x4)"
   ]
  },
  {
   "cell_type": "code",
   "execution_count": 13,
   "id": "e02bdbb4",
   "metadata": {
    "execution": {
     "iopub.execute_input": "2024-08-07T23:19:23.105991Z",
     "iopub.status.busy": "2024-08-07T23:19:23.105735Z",
     "iopub.status.idle": "2024-08-07T23:19:23.111030Z",
     "shell.execute_reply": "2024-08-07T23:19:23.110117Z"
    },
    "id": "n3Y0-Yiq6cqY",
    "outputId": "25e916d6-ab1b-4342-cc20-12e9d1df3ecd",
    "papermill": {
     "duration": 0.020708,
     "end_time": "2024-08-07T23:19:23.112845",
     "exception": false,
     "start_time": "2024-08-07T23:19:23.092137",
     "status": "completed"
    },
    "tags": []
   },
   "outputs": [
    {
     "name": "stdout",
     "output_type": "stream",
     "text": [
      "tensor(36)\n"
     ]
    }
   ],
   "source": [
    "# dot product\n",
    "z = torch.dot(x,y)\n",
    "print(z)"
   ]
  },
  {
   "cell_type": "code",
   "execution_count": 14,
   "id": "eb567a08",
   "metadata": {
    "execution": {
     "iopub.execute_input": "2024-08-07T23:19:23.139191Z",
     "iopub.status.busy": "2024-08-07T23:19:23.138936Z",
     "iopub.status.idle": "2024-08-07T23:19:23.147026Z",
     "shell.execute_reply": "2024-08-07T23:19:23.146283Z"
    },
    "id": "Luh_n8Oe8EzF",
    "papermill": {
     "duration": 0.023921,
     "end_time": "2024-08-07T23:19:23.149247",
     "exception": false,
     "start_time": "2024-08-07T23:19:23.125326",
     "status": "completed"
    },
    "tags": []
   },
   "outputs": [],
   "source": [
    "# Batch matrix multiplication\n",
    "batch = 32\n",
    "n = 10\n",
    "m = 20\n",
    "p = 30\n",
    "tensor1 = torch.rand((batch, n, m))\n",
    "tensor2 = torch.rand((batch, m, p))\n",
    "out_bmm = torch.bmm(tensor1, tensor2) # (batch, n, p)"
   ]
  },
  {
   "cell_type": "code",
   "execution_count": 15,
   "id": "e46d3983",
   "metadata": {
    "execution": {
     "iopub.execute_input": "2024-08-07T23:19:23.177873Z",
     "iopub.status.busy": "2024-08-07T23:19:23.177584Z",
     "iopub.status.idle": "2024-08-07T23:19:23.182416Z",
     "shell.execute_reply": "2024-08-07T23:19:23.181685Z"
    },
    "id": "BS9r3KTF8HCr",
    "papermill": {
     "duration": 0.020683,
     "end_time": "2024-08-07T23:19:23.184415",
     "exception": false,
     "start_time": "2024-08-07T23:19:23.163732",
     "status": "completed"
    },
    "tags": []
   },
   "outputs": [],
   "source": [
    "# Example of Broadcasting\n",
    "x1 = torch.rand((5,5))\n",
    "x2 = torch.rand((1,5))  # will be expanded to 5x5\n",
    "z1 = x1 - x2\n",
    "z2 = x1 ** x2"
   ]
  },
  {
   "cell_type": "markdown",
   "id": "fbe73fb1",
   "metadata": {
    "id": "swoKNcMQ9vIZ",
    "papermill": {
     "duration": 0.012624,
     "end_time": "2024-08-07T23:19:23.210089",
     "exception": false,
     "start_time": "2024-08-07T23:19:23.197465",
     "status": "completed"
    },
    "tags": []
   },
   "source": [
    "# Useful Tensor Math Operations"
   ]
  },
  {
   "cell_type": "code",
   "execution_count": 16,
   "id": "2649c9ea",
   "metadata": {
    "execution": {
     "iopub.execute_input": "2024-08-07T23:19:23.236624Z",
     "iopub.status.busy": "2024-08-07T23:19:23.236316Z",
     "iopub.status.idle": "2024-08-07T23:19:23.240376Z",
     "shell.execute_reply": "2024-08-07T23:19:23.239581Z"
    },
    "id": "yCyuDS_f9aGE",
    "papermill": {
     "duration": 0.019405,
     "end_time": "2024-08-07T23:19:23.242271",
     "exception": false,
     "start_time": "2024-08-07T23:19:23.222866",
     "status": "completed"
    },
    "tags": []
   },
   "outputs": [],
   "source": [
    "# Sum columns (dim=0) or rows (dim=1)\n",
    "sum_x = torch.sum(x, dim=0)"
   ]
  },
  {
   "cell_type": "code",
   "execution_count": 17,
   "id": "a12c735e",
   "metadata": {
    "execution": {
     "iopub.execute_input": "2024-08-07T23:19:23.268350Z",
     "iopub.status.busy": "2024-08-07T23:19:23.268077Z",
     "iopub.status.idle": "2024-08-07T23:19:23.278425Z",
     "shell.execute_reply": "2024-08-07T23:19:23.277786Z"
    },
    "id": "AYEiwCCT-C9t",
    "papermill": {
     "duration": 0.025353,
     "end_time": "2024-08-07T23:19:23.280325",
     "exception": false,
     "start_time": "2024-08-07T23:19:23.254972",
     "status": "completed"
    },
    "tags": []
   },
   "outputs": [],
   "source": [
    "# Max and min values\n",
    "values, indices = torch.max(x, dim=0)\n",
    "values, indices = torch.min(x, dim=0)\n",
    "z1 = torch.argmax(x, dim=0) # does the same as torch.max, but only returns the index\n",
    "z2 = torch.argmin(x, dim=0)"
   ]
  },
  {
   "cell_type": "code",
   "execution_count": 18,
   "id": "dfe3338c",
   "metadata": {
    "execution": {
     "iopub.execute_input": "2024-08-07T23:19:23.306518Z",
     "iopub.status.busy": "2024-08-07T23:19:23.306228Z",
     "iopub.status.idle": "2024-08-07T23:19:23.309986Z",
     "shell.execute_reply": "2024-08-07T23:19:23.309229Z"
    },
    "id": "NzvmTeUM-SwC",
    "papermill": {
     "duration": 0.01865,
     "end_time": "2024-08-07T23:19:23.311804",
     "exception": false,
     "start_time": "2024-08-07T23:19:23.293154",
     "status": "completed"
    },
    "tags": []
   },
   "outputs": [],
   "source": [
    "# Absolute value\n",
    "abs_x = torch.abs(x)"
   ]
  },
  {
   "cell_type": "code",
   "execution_count": 19,
   "id": "4c04b49a",
   "metadata": {
    "execution": {
     "iopub.execute_input": "2024-08-07T23:19:23.337645Z",
     "iopub.status.busy": "2024-08-07T23:19:23.337355Z",
     "iopub.status.idle": "2024-08-07T23:19:23.342210Z",
     "shell.execute_reply": "2024-08-07T23:19:23.341508Z"
    },
    "id": "7XEPdz8F-YRe",
    "papermill": {
     "duration": 0.019888,
     "end_time": "2024-08-07T23:19:23.344127",
     "exception": false,
     "start_time": "2024-08-07T23:19:23.324239",
     "status": "completed"
    },
    "tags": []
   },
   "outputs": [],
   "source": [
    "# Mean (the tensor needs to be float)\n",
    "mean = torch.mean(x.float(), dim=0)"
   ]
  },
  {
   "cell_type": "code",
   "execution_count": 20,
   "id": "95cf2f68",
   "metadata": {
    "execution": {
     "iopub.execute_input": "2024-08-07T23:19:23.371051Z",
     "iopub.status.busy": "2024-08-07T23:19:23.370776Z",
     "iopub.status.idle": "2024-08-07T23:19:23.374739Z",
     "shell.execute_reply": "2024-08-07T23:19:23.373807Z"
    },
    "id": "W-QH_6Pa-dua",
    "papermill": {
     "duration": 0.019711,
     "end_time": "2024-08-07T23:19:23.376524",
     "exception": false,
     "start_time": "2024-08-07T23:19:23.356813",
     "status": "completed"
    },
    "tags": []
   },
   "outputs": [],
   "source": [
    "# Element-wise check if they are equal\n",
    "z = torch.eq(x,y)"
   ]
  },
  {
   "cell_type": "code",
   "execution_count": 21,
   "id": "6a9669a9",
   "metadata": {
    "execution": {
     "iopub.execute_input": "2024-08-07T23:19:23.403361Z",
     "iopub.status.busy": "2024-08-07T23:19:23.403106Z",
     "iopub.status.idle": "2024-08-07T23:19:23.409210Z",
     "shell.execute_reply": "2024-08-07T23:19:23.408502Z"
    },
    "id": "MT0m8GLXAkPQ",
    "papermill": {
     "duration": 0.021263,
     "end_time": "2024-08-07T23:19:23.411116",
     "exception": false,
     "start_time": "2024-08-07T23:19:23.389853",
     "status": "completed"
    },
    "tags": []
   },
   "outputs": [],
   "source": [
    "# Sort\n",
    "sorted_y, indices = torch.sort(y, dim=0, descending=False)"
   ]
  },
  {
   "cell_type": "code",
   "execution_count": 22,
   "id": "c31b97c5",
   "metadata": {
    "execution": {
     "iopub.execute_input": "2024-08-07T23:19:23.437553Z",
     "iopub.status.busy": "2024-08-07T23:19:23.437262Z",
     "iopub.status.idle": "2024-08-07T23:19:23.442586Z",
     "shell.execute_reply": "2024-08-07T23:19:23.441889Z"
    },
    "id": "DANr34eYBLBR",
    "papermill": {
     "duration": 0.020358,
     "end_time": "2024-08-07T23:19:23.444336",
     "exception": false,
     "start_time": "2024-08-07T23:19:23.423978",
     "status": "completed"
    },
    "tags": []
   },
   "outputs": [],
   "source": [
    "# Limit the values of the tensor [0, 10]\n",
    "z = torch.clamp(x, min=-5, max=5)\n",
    "ReLU = torch.clamp(x, min=0)"
   ]
  },
  {
   "cell_type": "code",
   "execution_count": 23,
   "id": "af88a0e1",
   "metadata": {
    "execution": {
     "iopub.execute_input": "2024-08-07T23:19:23.470456Z",
     "iopub.status.busy": "2024-08-07T23:19:23.470165Z",
     "iopub.status.idle": "2024-08-07T23:19:23.477544Z",
     "shell.execute_reply": "2024-08-07T23:19:23.476507Z"
    },
    "id": "c3tbPmQkByCX",
    "outputId": "7760e5d5-cdfa-48bd-9f53-ee8ed78bd44b",
    "papermill": {
     "duration": 0.02245,
     "end_time": "2024-08-07T23:19:23.479367",
     "exception": false,
     "start_time": "2024-08-07T23:19:23.456917",
     "status": "completed"
    },
    "tags": []
   },
   "outputs": [
    {
     "name": "stdout",
     "output_type": "stream",
     "text": [
      "tensor(True)\n",
      "tensor(False)\n"
     ]
    }
   ],
   "source": [
    "# Check for True values\n",
    "x = torch.tensor([1,0,1,1,1,0], dtype=bool)\n",
    "z = torch.any(x)  # at least one True\n",
    "print(z)\n",
    "z = torch.all(x)  # all True\n",
    "print(z)"
   ]
  },
  {
   "cell_type": "markdown",
   "id": "e8985e49",
   "metadata": {
    "id": "Yy73PnbeC4Vh",
    "papermill": {
     "duration": 0.012356,
     "end_time": "2024-08-07T23:19:23.504432",
     "exception": false,
     "start_time": "2024-08-07T23:19:23.492076",
     "status": "completed"
    },
    "tags": []
   },
   "source": [
    "# Tensor Indexing"
   ]
  },
  {
   "cell_type": "code",
   "execution_count": 24,
   "id": "c76abefa",
   "metadata": {
    "execution": {
     "iopub.execute_input": "2024-08-07T23:19:23.532338Z",
     "iopub.status.busy": "2024-08-07T23:19:23.532085Z",
     "iopub.status.idle": "2024-08-07T23:19:23.539669Z",
     "shell.execute_reply": "2024-08-07T23:19:23.538795Z"
    },
    "id": "g8iO_4V_CJsy",
    "outputId": "2550c7d6-c39f-4c69-c7cb-35d4dbbc0236",
    "papermill": {
     "duration": 0.023262,
     "end_time": "2024-08-07T23:19:23.541659",
     "exception": false,
     "start_time": "2024-08-07T23:19:23.518397",
     "status": "completed"
    },
    "tags": []
   },
   "outputs": [
    {
     "name": "stdout",
     "output_type": "stream",
     "text": [
      "torch.Size([25])\n",
      "torch.Size([10])\n",
      "torch.Size([8])\n"
     ]
    }
   ],
   "source": [
    "batch_size = 10 # number of examples in a batch\n",
    "features = 25\n",
    "x = torch.rand((batch_size, features))\n",
    "\n",
    "# Get the features of the first example\n",
    "print(x[0].shape) #x[0] is equivalent to x[0,:]\n",
    "\n",
    "# Get the first features of all of the example\n",
    "print(x[:,0].shape)\n",
    "\n",
    "# Get the first eight features of the third example in the batch\n",
    "print(x[2, 0:8].shape)"
   ]
  },
  {
   "cell_type": "code",
   "execution_count": 25,
   "id": "dee7152f",
   "metadata": {
    "execution": {
     "iopub.execute_input": "2024-08-07T23:19:23.568308Z",
     "iopub.status.busy": "2024-08-07T23:19:23.568036Z",
     "iopub.status.idle": "2024-08-07T23:19:23.574953Z",
     "shell.execute_reply": "2024-08-07T23:19:23.574075Z"
    },
    "id": "6AJMh6hLIAHS",
    "outputId": "19042cb6-22c7-4fd3-cee6-6e799e9e2876",
    "papermill": {
     "duration": 0.022085,
     "end_time": "2024-08-07T23:19:23.576850",
     "exception": false,
     "start_time": "2024-08-07T23:19:23.554765",
     "status": "completed"
    },
    "tags": []
   },
   "outputs": [
    {
     "name": "stdout",
     "output_type": "stream",
     "text": [
      "tensor([0, 1, 2, 3, 4, 5, 6, 7, 8, 9])\n",
      "tensor([2, 5, 8])\n"
     ]
    }
   ],
   "source": [
    "# Select values in a one-dimensional tensor\n",
    "x = torch.arange(10)\n",
    "indices = [2, 5, 8]\n",
    "print(x)\n",
    "print(x[indices])"
   ]
  },
  {
   "cell_type": "code",
   "execution_count": 26,
   "id": "5c3ec93f",
   "metadata": {
    "execution": {
     "iopub.execute_input": "2024-08-07T23:19:23.604075Z",
     "iopub.status.busy": "2024-08-07T23:19:23.603279Z",
     "iopub.status.idle": "2024-08-07T23:19:23.610207Z",
     "shell.execute_reply": "2024-08-07T23:19:23.609319Z"
    },
    "id": "s2avpFEOJ-UO",
    "outputId": "7dc7d5e0-59ba-4821-d373-cfddd225e87e",
    "papermill": {
     "duration": 0.022214,
     "end_time": "2024-08-07T23:19:23.612094",
     "exception": false,
     "start_time": "2024-08-07T23:19:23.589880",
     "status": "completed"
    },
    "tags": []
   },
   "outputs": [
    {
     "name": "stdout",
     "output_type": "stream",
     "text": [
      "tensor([[0.5118, 0.4904, 0.3635, 0.2764, 0.0479],\n",
      "        [0.8256, 0.0689, 0.4049, 0.5070, 0.5606],\n",
      "        [0.1545, 0.1587, 0.9935, 0.7983, 0.7989]])\n",
      "tensor([0.5606, 0.5118])\n"
     ]
    }
   ],
   "source": [
    "# Select values in a two-dimensional tensor\n",
    "x = torch.rand((3,5))\n",
    "rows = torch.tensor([1,0])\n",
    "cols = torch.tensor([4,0])\n",
    "\n",
    "print(x)\n",
    "print(x[rows, cols])  # This picks the second row and the fifth column, and then the first row and first colum"
   ]
  },
  {
   "cell_type": "code",
   "execution_count": 27,
   "id": "9b1b4ea2",
   "metadata": {
    "execution": {
     "iopub.execute_input": "2024-08-07T23:19:23.638904Z",
     "iopub.status.busy": "2024-08-07T23:19:23.638646Z",
     "iopub.status.idle": "2024-08-07T23:19:23.647098Z",
     "shell.execute_reply": "2024-08-07T23:19:23.646125Z"
    },
    "id": "VGBA4HZtKmww",
    "outputId": "828ea597-acc8-4d31-c2f5-1143e3860442",
    "papermill": {
     "duration": 0.024099,
     "end_time": "2024-08-07T23:19:23.649078",
     "exception": false,
     "start_time": "2024-08-07T23:19:23.624979",
     "status": "completed"
    },
    "tags": []
   },
   "outputs": [
    {
     "name": "stdout",
     "output_type": "stream",
     "text": [
      "tensor([0, 1, 2, 3, 4, 5, 6, 7, 8, 9])\n",
      "tensor([0, 1, 9])\n",
      "tensor([4, 5])\n",
      "tensor([0, 2, 4, 6, 8])\n"
     ]
    }
   ],
   "source": [
    "# Conditional indexing\n",
    "x = torch.arange(10)\n",
    "print(x)\n",
    "\n",
    "print(x[(x<2)|(x>8)])\n",
    "print(x[(x<6)&(x>3)])\n",
    "\n",
    "print(x[x.remainder(2) == 0]) # Even numbers"
   ]
  },
  {
   "cell_type": "markdown",
   "id": "3c6b9aa0",
   "metadata": {
    "id": "jTxA4mAnOCVn",
    "papermill": {
     "duration": 0.013812,
     "end_time": "2024-08-07T23:19:23.716233",
     "exception": false,
     "start_time": "2024-08-07T23:19:23.702421",
     "status": "completed"
    },
    "tags": []
   },
   "source": [
    "## Useful Operations"
   ]
  },
  {
   "cell_type": "code",
   "execution_count": 28,
   "id": "c47eecfe",
   "metadata": {
    "execution": {
     "iopub.execute_input": "2024-08-07T23:19:23.745830Z",
     "iopub.status.busy": "2024-08-07T23:19:23.745467Z",
     "iopub.status.idle": "2024-08-07T23:19:23.752433Z",
     "shell.execute_reply": "2024-08-07T23:19:23.751498Z"
    },
    "id": "wZLGVfFJL1C2",
    "outputId": "a11126b0-2e41-4e36-c240-36b6e3c03410",
    "papermill": {
     "duration": 0.02369,
     "end_time": "2024-08-07T23:19:23.754501",
     "exception": false,
     "start_time": "2024-08-07T23:19:23.730811",
     "status": "completed"
    },
    "tags": []
   },
   "outputs": [
    {
     "name": "stdout",
     "output_type": "stream",
     "text": [
      "tensor([0, 0, 0, 0, 0, 0, 6, 7, 8, 9])\n"
     ]
    }
   ],
   "source": [
    "# Change the values of the tensor\n",
    "print(torch.where(x > 5, x*1, x*0)) # when x > 5 -> x, when x =< 5 -> 0"
   ]
  },
  {
   "cell_type": "code",
   "execution_count": 29,
   "id": "032a0dc1",
   "metadata": {
    "execution": {
     "iopub.execute_input": "2024-08-07T23:19:23.782981Z",
     "iopub.status.busy": "2024-08-07T23:19:23.782702Z",
     "iopub.status.idle": "2024-08-07T23:19:23.790745Z",
     "shell.execute_reply": "2024-08-07T23:19:23.789674Z"
    },
    "id": "HpZqb8sMM_p0",
    "outputId": "03054efc-2648-47d9-d131-5fe5d18b6754",
    "papermill": {
     "duration": 0.024775,
     "end_time": "2024-08-07T23:19:23.792877",
     "exception": false,
     "start_time": "2024-08-07T23:19:23.768102",
     "status": "completed"
    },
    "tags": []
   },
   "outputs": [
    {
     "name": "stdout",
     "output_type": "stream",
     "text": [
      "tensor([0, 1, 2, 3, 4])\n"
     ]
    }
   ],
   "source": [
    "# Check for unique values\n",
    "x = torch.tensor([0,0,1,2,2,3,4])\n",
    "print(x.unique())"
   ]
  },
  {
   "cell_type": "code",
   "execution_count": 30,
   "id": "9f32d43c",
   "metadata": {
    "execution": {
     "iopub.execute_input": "2024-08-07T23:19:23.822467Z",
     "iopub.status.busy": "2024-08-07T23:19:23.822173Z",
     "iopub.status.idle": "2024-08-07T23:19:23.828398Z",
     "shell.execute_reply": "2024-08-07T23:19:23.827529Z"
    },
    "id": "C-W0Si6KN0pu",
    "outputId": "e6324d07-8377-4b2f-81fc-49b44e918bf2",
    "papermill": {
     "duration": 0.023928,
     "end_time": "2024-08-07T23:19:23.830730",
     "exception": false,
     "start_time": "2024-08-07T23:19:23.806802",
     "status": "completed"
    },
    "tags": []
   },
   "outputs": [
    {
     "name": "stdout",
     "output_type": "stream",
     "text": [
      "1\n",
      "2\n",
      "3\n"
     ]
    }
   ],
   "source": [
    "# Number of dimentions of a tensor\n",
    "x1 = torch.tensor([0,0,0])\n",
    "x2 = torch.tensor([[0,0,0],[0,0,0]])\n",
    "x3 = torch.tensor([[[0,0,0],[0,0,0],[0,0,0]]])\n",
    "print(x1.ndimension())\n",
    "print(x2.ndimension())\n",
    "print(x3.ndimension())"
   ]
  },
  {
   "cell_type": "code",
   "execution_count": 31,
   "id": "a79ae31a",
   "metadata": {
    "execution": {
     "iopub.execute_input": "2024-08-07T23:19:23.860157Z",
     "iopub.status.busy": "2024-08-07T23:19:23.859893Z",
     "iopub.status.idle": "2024-08-07T23:19:23.864768Z",
     "shell.execute_reply": "2024-08-07T23:19:23.863860Z"
    },
    "id": "j8B_0tyNOIiv",
    "outputId": "793591ed-1ac1-4bef-e62d-465cecce3080",
    "papermill": {
     "duration": 0.022196,
     "end_time": "2024-08-07T23:19:23.866959",
     "exception": false,
     "start_time": "2024-08-07T23:19:23.844763",
     "status": "completed"
    },
    "tags": []
   },
   "outputs": [
    {
     "name": "stdout",
     "output_type": "stream",
     "text": [
      "3\n",
      "6\n",
      "9\n"
     ]
    }
   ],
   "source": [
    "# Count the number of elements in a tensor\n",
    "print(x1.numel())\n",
    "print(x2.numel())\n",
    "print(x3.numel())"
   ]
  },
  {
   "cell_type": "markdown",
   "id": "f8e728b1",
   "metadata": {
    "id": "qMpq3xb-OswX",
    "papermill": {
     "duration": 0.01374,
     "end_time": "2024-08-07T23:19:23.894677",
     "exception": false,
     "start_time": "2024-08-07T23:19:23.880937",
     "status": "completed"
    },
    "tags": []
   },
   "source": [
    "# Tensor Reshaping Dimensions"
   ]
  },
  {
   "cell_type": "code",
   "execution_count": 32,
   "id": "2374b63c",
   "metadata": {
    "execution": {
     "iopub.execute_input": "2024-08-07T23:19:23.923425Z",
     "iopub.status.busy": "2024-08-07T23:19:23.923158Z",
     "iopub.status.idle": "2024-08-07T23:19:23.928733Z",
     "shell.execute_reply": "2024-08-07T23:19:23.927769Z"
    },
    "id": "jx_d_nDDOh_b",
    "outputId": "0432c9b8-678a-44c0-9137-ca8ffbd9ac88",
    "papermill": {
     "duration": 0.022411,
     "end_time": "2024-08-07T23:19:23.931281",
     "exception": false,
     "start_time": "2024-08-07T23:19:23.908870",
     "status": "completed"
    },
    "tags": []
   },
   "outputs": [
    {
     "name": "stdout",
     "output_type": "stream",
     "text": [
      "torch.Size([9])\n",
      "torch.Size([3, 3])\n",
      "torch.Size([3, 3])\n"
     ]
    }
   ],
   "source": [
    "# Change a 9 element vector to a 3x3 matrix\n",
    "x = torch.arange(9)\n",
    "print(x.shape)\n",
    "\n",
    "x_3x3_1 = x.view(3,3)\n",
    "x_3x3_2 = x.reshape(3,3)  # Reshape is the prefered choice\n",
    "\n",
    "print(x_3x3_1.shape)\n",
    "print(x_3x3_2.shape)"
   ]
  },
  {
   "cell_type": "code",
   "execution_count": 33,
   "id": "475d9f80",
   "metadata": {
    "execution": {
     "iopub.execute_input": "2024-08-07T23:19:23.959168Z",
     "iopub.status.busy": "2024-08-07T23:19:23.958933Z",
     "iopub.status.idle": "2024-08-07T23:19:23.965542Z",
     "shell.execute_reply": "2024-08-07T23:19:23.964623Z"
    },
    "id": "I7TLECOjOyT2",
    "outputId": "da015913-6b23-4eeb-9b85-97d6410d5bed",
    "papermill": {
     "duration": 0.022696,
     "end_time": "2024-08-07T23:19:23.967416",
     "exception": false,
     "start_time": "2024-08-07T23:19:23.944720",
     "status": "completed"
    },
    "tags": []
   },
   "outputs": [
    {
     "name": "stdout",
     "output_type": "stream",
     "text": [
      "torch.Size([4, 5])\n"
     ]
    }
   ],
   "source": [
    "# Concatenate tensors\n",
    "x1 = torch.rand((2,5))\n",
    "x2 = torch.rand((2,5))\n",
    "z = torch.cat((x1,x2), dim=0)\n",
    "print(z.shape)"
   ]
  },
  {
   "cell_type": "code",
   "execution_count": 34,
   "id": "bfaa3deb",
   "metadata": {
    "execution": {
     "iopub.execute_input": "2024-08-07T23:19:23.995813Z",
     "iopub.status.busy": "2024-08-07T23:19:23.995558Z",
     "iopub.status.idle": "2024-08-07T23:19:24.000448Z",
     "shell.execute_reply": "2024-08-07T23:19:23.999632Z"
    },
    "id": "-2gdXVEMQHli",
    "outputId": "1c8f71de-be19-41cd-ee41-cbe12fe8279d",
    "papermill": {
     "duration": 0.021586,
     "end_time": "2024-08-07T23:19:24.002678",
     "exception": false,
     "start_time": "2024-08-07T23:19:23.981092",
     "status": "completed"
    },
    "tags": []
   },
   "outputs": [
    {
     "name": "stdout",
     "output_type": "stream",
     "text": [
      "torch.Size([10])\n",
      "torch.Size([10])\n"
     ]
    }
   ],
   "source": [
    "# Matrix to vector\n",
    "z = x1.view(-1)\n",
    "print(z.shape)\n",
    "z = x1.reshape(-1)\n",
    "print(z.shape)"
   ]
  },
  {
   "cell_type": "code",
   "execution_count": 35,
   "id": "607c4234",
   "metadata": {
    "execution": {
     "iopub.execute_input": "2024-08-07T23:19:24.031368Z",
     "iopub.status.busy": "2024-08-07T23:19:24.031112Z",
     "iopub.status.idle": "2024-08-07T23:19:24.037369Z",
     "shell.execute_reply": "2024-08-07T23:19:24.036205Z"
    },
    "id": "uaUi5GlWRNTJ",
    "outputId": "ae32fe04-5c7a-4097-b58b-10794c4777a0",
    "papermill": {
     "duration": 0.023004,
     "end_time": "2024-08-07T23:19:24.039374",
     "exception": false,
     "start_time": "2024-08-07T23:19:24.016370",
     "status": "completed"
    },
    "tags": []
   },
   "outputs": [
    {
     "name": "stdout",
     "output_type": "stream",
     "text": [
      "tensor([[0, 1, 2],\n",
      "        [3, 4, 5],\n",
      "        [6, 7, 8]])\n",
      "tensor([[0, 3, 6],\n",
      "        [1, 4, 7],\n",
      "        [2, 5, 8]])\n"
     ]
    }
   ],
   "source": [
    "# Transpose\n",
    "x = torch.arange(9)\n",
    "x = x.reshape((3,3))\n",
    "print(x)\n",
    "print(x.t())"
   ]
  },
  {
   "cell_type": "code",
   "execution_count": 36,
   "id": "88badf1c",
   "metadata": {
    "execution": {
     "iopub.execute_input": "2024-08-07T23:19:24.067873Z",
     "iopub.status.busy": "2024-08-07T23:19:24.067593Z",
     "iopub.status.idle": "2024-08-07T23:19:24.073535Z",
     "shell.execute_reply": "2024-08-07T23:19:24.072738Z"
    },
    "id": "znMOB7HIRpdK",
    "outputId": "b37745eb-ee09-465b-bc04-44c880ee83fa",
    "papermill": {
     "duration": 0.022222,
     "end_time": "2024-08-07T23:19:24.075542",
     "exception": false,
     "start_time": "2024-08-07T23:19:24.053320",
     "status": "completed"
    },
    "tags": []
   },
   "outputs": [
    {
     "name": "stdout",
     "output_type": "stream",
     "text": [
      "torch.Size([64, 2, 5])\n",
      "torch.Size([64, 10])\n",
      "torch.Size([64, 5, 2])\n"
     ]
    }
   ],
   "source": [
    "# Permute (Similar to transpose, but used for more dimensions)\n",
    "batch = 64\n",
    "x = torch.rand((batch, 2, 5))\n",
    "print(x.shape)\n",
    "\n",
    "z1 = x.view(batch, -1) # adjust automatically the rest of the dimentions\n",
    "print(z1.shape)\n",
    "\n",
    "z2 = x.permute(0, 2, 1) # the ordering of the dimentions is (first, third, second), so batch stays the same\n",
    "print(z2.shape)"
   ]
  },
  {
   "cell_type": "code",
   "execution_count": 37,
   "id": "6a921caf",
   "metadata": {
    "execution": {
     "iopub.execute_input": "2024-08-07T23:19:24.104628Z",
     "iopub.status.busy": "2024-08-07T23:19:24.104336Z",
     "iopub.status.idle": "2024-08-07T23:19:24.110507Z",
     "shell.execute_reply": "2024-08-07T23:19:24.109621Z"
    },
    "id": "GvsmJ0bJSkdp",
    "outputId": "ede87830-c319-4397-95f9-2ddbd0d92312",
    "papermill": {
     "duration": 0.023711,
     "end_time": "2024-08-07T23:19:24.112979",
     "exception": false,
     "start_time": "2024-08-07T23:19:24.089268",
     "status": "completed"
    },
    "tags": []
   },
   "outputs": [
    {
     "name": "stdout",
     "output_type": "stream",
     "text": [
      "torch.Size([10])\n",
      "torch.Size([1, 10])\n",
      "torch.Size([10, 1])\n",
      "torch.Size([1, 1, 10])\n"
     ]
    }
   ],
   "source": [
    "# Row-Column vector transformation\n",
    "x = torch.arange(10)\n",
    "print(x.shape)\n",
    "\n",
    "row = x.unsqueeze(0)\n",
    "print(row.shape)\n",
    "\n",
    "col = x.unsqueeze(1)\n",
    "print(col.shape)\n",
    "\n",
    "z = x.unsqueeze(0).unsqueeze(1)\n",
    "print(z.shape)"
   ]
  }
 ],
 "metadata": {
  "accelerator": "GPU",
  "colab": {
   "authorship_tag": "ABX9TyNPFsfoC+s/QP5VUYOEE44f",
   "gpuType": "T4",
   "include_colab_link": true,
   "provenance": [],
   "toc_visible": true
  },
  "kaggle": {
   "accelerator": "nvidiaTeslaT4",
   "dataSources": [],
   "dockerImageVersionId": 30747,
   "isGpuEnabled": true,
   "isInternetEnabled": true,
   "language": "python",
   "sourceType": "notebook"
  },
  "kernelspec": {
   "display_name": "Python 3",
   "language": "python",
   "name": "python3"
  },
  "language_info": {
   "codemirror_mode": {
    "name": "ipython",
    "version": 3
   },
   "file_extension": ".py",
   "mimetype": "text/x-python",
   "name": "python",
   "nbconvert_exporter": "python",
   "pygments_lexer": "ipython3",
   "version": "3.10.13"
  },
  "papermill": {
   "default_parameters": {},
   "duration": 9.702156,
   "end_time": "2024-08-07T23:19:25.248617",
   "environment_variables": {},
   "exception": null,
   "input_path": "__notebook__.ipynb",
   "output_path": "__notebook__.ipynb",
   "parameters": {},
   "start_time": "2024-08-07T23:19:15.546461",
   "version": "2.5.0"
  }
 },
 "nbformat": 4,
 "nbformat_minor": 5
}
