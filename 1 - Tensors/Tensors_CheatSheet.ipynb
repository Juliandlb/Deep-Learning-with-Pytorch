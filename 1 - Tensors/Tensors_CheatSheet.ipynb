{
 "cells": [
  {
   "cell_type": "markdown",
   "id": "6d008196",
   "metadata": {
    "id": "uKfDnDv5kfus",
    "papermill": {
     "duration": 0.01169,
     "end_time": "2024-08-07T23:27:10.240967",
     "exception": false,
     "start_time": "2024-08-07T23:27:10.229277",
     "status": "completed"
    },
    "tags": []
   },
   "source": [
    "# Setup\n",
    "Import torch and check if there is a GPU available"
   ]
  },
  {
   "cell_type": "code",
   "execution_count": 1,
   "id": "830dfdfb",
   "metadata": {
    "execution": {
     "iopub.execute_input": "2024-08-07T23:27:10.265079Z",
     "iopub.status.busy": "2024-08-07T23:27:10.264674Z",
     "iopub.status.idle": "2024-08-07T23:27:14.801790Z",
     "shell.execute_reply": "2024-08-07T23:27:14.800872Z"
    },
    "id": "ngAV5o4Df1-W",
    "outputId": "4d260b49-1788-4d42-de67-a90e8669d4e0",
    "papermill": {
     "duration": 4.551669,
     "end_time": "2024-08-07T23:27:14.804067",
     "exception": false,
     "start_time": "2024-08-07T23:27:10.252398",
     "status": "completed"
    },
    "tags": []
   },
   "outputs": [
    {
     "name": "stdout",
     "output_type": "stream",
     "text": [
      "2.1.2\n",
      "GPU is available\n"
     ]
    }
   ],
   "source": [
    "import torch\n",
    "print(torch.__version__)\n",
    "# Check if GPU is available\n",
    "if torch.cuda.is_available():\n",
    "    device = torch.device('cuda')\n",
    "    print(\"GPU is available\")\n",
    "else:\n",
    "    device = torch.device('cpu')\n",
    "    print(\"GPU is not available\")"
   ]
  },
  {
   "cell_type": "markdown",
   "id": "9b50b8f4",
   "metadata": {
    "id": "vxuakNEgknyT",
    "papermill": {
     "duration": 0.01106,
     "end_time": "2024-08-07T23:27:14.826470",
     "exception": false,
     "start_time": "2024-08-07T23:27:14.815410",
     "status": "completed"
    },
    "tags": []
   },
   "source": [
    "# Tensor Initialization"
   ]
  },
  {
   "cell_type": "code",
   "execution_count": 2,
   "id": "9cc160e6",
   "metadata": {
    "execution": {
     "iopub.execute_input": "2024-08-07T23:27:14.851860Z",
     "iopub.status.busy": "2024-08-07T23:27:14.851229Z",
     "iopub.status.idle": "2024-08-07T23:27:15.087866Z",
     "shell.execute_reply": "2024-08-07T23:27:15.086791Z"
    },
    "id": "tzfoMflWkGVX",
    "outputId": "2a32d64e-53f7-4f3f-9543-693ec4e8650d",
    "papermill": {
     "duration": 0.251113,
     "end_time": "2024-08-07T23:27:15.090182",
     "exception": false,
     "start_time": "2024-08-07T23:27:14.839069",
     "status": "completed"
    },
    "tags": []
   },
   "outputs": [
    {
     "name": "stdout",
     "output_type": "stream",
     "text": [
      "tensor([[1, 2, 3],\n",
      "        [4, 5, 6]])\n",
      "torch.int64\n",
      "torch.float32\n",
      "cuda:0\n"
     ]
    }
   ],
   "source": [
    "# Create a tensor\n",
    "my_tensor = torch.tensor([[1,2,3],[4,5,6]])\n",
    "print(my_tensor)\n",
    "print(my_tensor.dtype)\n",
    "# Specify the type of the tensor\n",
    "my_tensor = torch.tensor([[1,2,3],[4,5,6]], dtype=torch.float32)\n",
    "print(my_tensor.dtype)\n",
    "# Specify the device of the tensor\n",
    "my_tensor = torch.tensor([[1,2,3],[4,5,6]], dtype=torch.float32, device = device)\n",
    "print(my_tensor.device)\n",
    "# Specify if the tensor requires gadient\n",
    "my_tensor = torch.tensor([[1,2,3],[4,5,6]], dtype=torch.float32, device = device, requires_grad=True)"
   ]
  },
  {
   "cell_type": "code",
   "execution_count": 3,
   "id": "544b75d3",
   "metadata": {
    "execution": {
     "iopub.execute_input": "2024-08-07T23:27:15.115289Z",
     "iopub.status.busy": "2024-08-07T23:27:15.114973Z",
     "iopub.status.idle": "2024-08-07T23:27:15.202393Z",
     "shell.execute_reply": "2024-08-07T23:27:15.201129Z"
    },
    "id": "lwbh1D11l5Dr",
    "outputId": "30933f79-6b1d-4c1d-abf0-22e68b8d6c01",
    "papermill": {
     "duration": 0.102314,
     "end_time": "2024-08-07T23:27:15.204611",
     "exception": false,
     "start_time": "2024-08-07T23:27:15.102297",
     "status": "completed"
    },
    "tags": []
   },
   "outputs": [
    {
     "name": "stdout",
     "output_type": "stream",
     "text": [
      "tensor([[-2.5457e+09,  4.3397e-41, -2.5457e+09],\n",
      "        [ 4.3397e-41,  2.8026e-45,  0.0000e+00],\n",
      "        [-1.2784e+37,  4.3395e-41,  1.4013e-45]])\n",
      "tensor([[0., 0., 0.],\n",
      "        [0., 0., 0.],\n",
      "        [0., 0., 0.]])\n",
      "tensor([[0.8850, 0.5855, 0.0628],\n",
      "        [0.8113, 0.7744, 0.1410],\n",
      "        [0.3004, 0.3791, 0.6880]])\n",
      "tensor([[1., 1., 1.],\n",
      "        [1., 1., 1.],\n",
      "        [1., 1., 1.]])\n",
      "tensor([[1., 0., 0.],\n",
      "        [0., 1., 0.],\n",
      "        [0., 0., 1.]])\n",
      "tensor([0, 1, 2, 3, 4])\n",
      "tensor([0.1000, 0.2000, 0.3000, 0.4000, 0.5000, 0.6000, 0.7000, 0.8000, 0.9000,\n",
      "        1.0000])\n",
      "tensor([[ 1.3457, -1.2310, -0.9138,  0.7395,  0.6281]])\n",
      "tensor([[0.9337, 0.9028, 0.1468, 0.2565, 0.8357]])\n",
      "tensor([[1., 0., 0.],\n",
      "        [0., 1., 0.],\n",
      "        [0., 0., 1.]])\n"
     ]
    }
   ],
   "source": [
    "# Other initialization methods\n",
    "x = torch.empty(size = (3,3)) # The values will be random\n",
    "print(x)\n",
    "x = torch.zeros(size = (3,3))\n",
    "print(x)\n",
    "x = torch.rand(size = (3,3))\n",
    "print(x)\n",
    "x = torch.ones(size = (3,3))\n",
    "print(x)\n",
    "x = torch.eye(3,3) # Identity matrix\n",
    "print(x)\n",
    "x = torch.arange(start=0, end=5, step=1)\n",
    "print(x)\n",
    "x = torch.linspace(start=0.1, end=1, steps=10)\n",
    "print(x)\n",
    "x = torch.empty(size = (1,5)).normal_(mean=0, std=1)\n",
    "print(x)\n",
    "x = torch.empty(size = (1,5)).uniform_(0,1)\n",
    "print(x)\n",
    "x = torch.diag(torch.ones(3)) # This will create a diagonal matrix of 3x3\n",
    "print(x)"
   ]
  },
  {
   "cell_type": "code",
   "execution_count": 4,
   "id": "46c63b54",
   "metadata": {
    "execution": {
     "iopub.execute_input": "2024-08-07T23:27:15.231089Z",
     "iopub.status.busy": "2024-08-07T23:27:15.230311Z",
     "iopub.status.idle": "2024-08-07T23:27:15.245625Z",
     "shell.execute_reply": "2024-08-07T23:27:15.244569Z"
    },
    "id": "Vyw7sSY_oc8P",
    "outputId": "84d221b7-f4b9-478b-9f4f-614413318660",
    "papermill": {
     "duration": 0.030401,
     "end_time": "2024-08-07T23:27:15.247642",
     "exception": false,
     "start_time": "2024-08-07T23:27:15.217241",
     "status": "completed"
    },
    "tags": []
   },
   "outputs": [
    {
     "name": "stdout",
     "output_type": "stream",
     "text": [
      "tensor([0, 1, 2, 3])\n",
      "torch.int64\n",
      "tensor([False,  True,  True,  True])\n",
      "tensor([0, 1, 2, 3], dtype=torch.int16)\n",
      "tensor([0, 1, 2, 3])\n",
      "tensor([0., 1., 2., 3.], dtype=torch.float16)\n",
      "tensor([0., 1., 2., 3.])\n",
      "tensor([0., 1., 2., 3.], dtype=torch.float64)\n"
     ]
    }
   ],
   "source": [
    " # How to initialize and convert tensors to other types (int, float, double)\n",
    "tensor = torch.arange(4)\n",
    "print(tensor)\n",
    "print(tensor.dtype)\n",
    "# Convert it to Bool\n",
    "print(tensor.bool())\n",
    "# Convert it to int16\n",
    "print(tensor.short())\n",
    "# Convert it to int64 **\n",
    "print(tensor.long())\n",
    "# Convert it to float16\n",
    "print(tensor.half())\n",
    "# Convert it to float32 **\n",
    "print(tensor.float())\n",
    "# Convert it to float64\n",
    "print(tensor.double())"
   ]
  },
  {
   "cell_type": "markdown",
   "id": "bee7388a",
   "metadata": {
    "id": "Gg_fOUL3tR4s",
    "papermill": {
     "duration": 0.012198,
     "end_time": "2024-08-07T23:27:15.272308",
     "exception": false,
     "start_time": "2024-08-07T23:27:15.260110",
     "status": "completed"
    },
    "tags": []
   },
   "source": [
    "# Array-Tensor conversion"
   ]
  },
  {
   "cell_type": "code",
   "execution_count": 5,
   "id": "05cfe099",
   "metadata": {
    "execution": {
     "iopub.execute_input": "2024-08-07T23:27:15.299273Z",
     "iopub.status.busy": "2024-08-07T23:27:15.299006Z",
     "iopub.status.idle": "2024-08-07T23:27:15.305782Z",
     "shell.execute_reply": "2024-08-07T23:27:15.304843Z"
    },
    "id": "Z0l5MXoPq_9b",
    "outputId": "7659b9af-3681-49e7-f942-179d39b3deed",
    "papermill": {
     "duration": 0.022204,
     "end_time": "2024-08-07T23:27:15.307709",
     "exception": false,
     "start_time": "2024-08-07T23:27:15.285505",
     "status": "completed"
    },
    "tags": []
   },
   "outputs": [
    {
     "name": "stdout",
     "output_type": "stream",
     "text": [
      "tensor([[0., 0., 0., 0., 0.],\n",
      "        [0., 0., 0., 0., 0.],\n",
      "        [0., 0., 0., 0., 0.],\n",
      "        [0., 0., 0., 0., 0.],\n",
      "        [0., 0., 0., 0., 0.]], dtype=torch.float64)\n",
      "[[0. 0. 0. 0. 0.]\n",
      " [0. 0. 0. 0. 0.]\n",
      " [0. 0. 0. 0. 0.]\n",
      " [0. 0. 0. 0. 0.]\n",
      " [0. 0. 0. 0. 0.]]\n"
     ]
    }
   ],
   "source": [
    "# Array to Tensor conversion\n",
    "import numpy as np\n",
    "np_array = np.zeros((5,5))\n",
    "converted_tensor = torch.from_numpy(np_array)\n",
    "print(converted_tensor)\n",
    "\n",
    "# Tensor to Array conversion\n",
    "converted_np_array = converted_tensor.numpy()\n",
    "print(converted_np_array)"
   ]
  },
  {
   "cell_type": "markdown",
   "id": "77a748eb",
   "metadata": {
    "id": "XcQbKGcWtViC",
    "papermill": {
     "duration": 0.011432,
     "end_time": "2024-08-07T23:27:15.331250",
     "exception": false,
     "start_time": "2024-08-07T23:27:15.319818",
     "status": "completed"
    },
    "tags": []
   },
   "source": [
    "# Tensor Math"
   ]
  },
  {
   "cell_type": "code",
   "execution_count": 6,
   "id": "d8188f1e",
   "metadata": {
    "execution": {
     "iopub.execute_input": "2024-08-07T23:27:15.355895Z",
     "iopub.status.busy": "2024-08-07T23:27:15.355573Z",
     "iopub.status.idle": "2024-08-07T23:27:15.371789Z",
     "shell.execute_reply": "2024-08-07T23:27:15.370869Z"
    },
    "id": "MJRCIEwTsXH8",
    "outputId": "9803441c-67b8-499c-9ce5-7f52c1bb7d4e",
    "papermill": {
     "duration": 0.03098,
     "end_time": "2024-08-07T23:27:15.373825",
     "exception": false,
     "start_time": "2024-08-07T23:27:15.342845",
     "status": "completed"
    },
    "tags": []
   },
   "outputs": [
    {
     "name": "stdout",
     "output_type": "stream",
     "text": [
      "sum1: tensor([10., 10., 10.])\n",
      "sum2: tensor([10, 10, 10])\n",
      "sum3: tensor([10, 10, 10])\n",
      "sub: tensor([-8, -6, -4])\n",
      "div1: tensor([0.1111, 0.2500, 0.4286])\n",
      "div2: tensor([0.5000, 1.0000, 1.5000])\n"
     ]
    }
   ],
   "source": [
    "x = torch.tensor([1,2,3])\n",
    "y = torch.tensor([9,8,7])\n",
    "\n",
    "# Addition\n",
    "sum1 = torch.empty(3)\n",
    "torch.add(x, y, out=sum1)\n",
    "print('sum1:', sum1)\n",
    "sum2 = torch.add(x,y)\n",
    "print('sum2:', sum2)\n",
    "sum3 = x + y\n",
    "print('sum3:', sum3)\n",
    "\n",
    "# Subtraction\n",
    "sub = x - y\n",
    "print('sub:', sub)\n",
    "\n",
    "# Division\n",
    "# element-wise\n",
    "div1 = torch.true_divide(x, y)\n",
    "print('div1:', div1)\n",
    "# divide to an integer\n",
    "div2 = torch.true_divide(x, 2)\n",
    "print('div2:', div2)"
   ]
  },
  {
   "cell_type": "code",
   "execution_count": 7,
   "id": "ba66c97d",
   "metadata": {
    "execution": {
     "iopub.execute_input": "2024-08-07T23:27:15.400274Z",
     "iopub.status.busy": "2024-08-07T23:27:15.399413Z",
     "iopub.status.idle": "2024-08-07T23:27:15.408111Z",
     "shell.execute_reply": "2024-08-07T23:27:15.407120Z"
    },
    "id": "9_2aoLMC46Ji",
    "outputId": "c1693f55-29a8-4cb9-ae2e-592e40126388",
    "papermill": {
     "duration": 0.02391,
     "end_time": "2024-08-07T23:27:15.410100",
     "exception": false,
     "start_time": "2024-08-07T23:27:15.386190",
     "status": "completed"
    },
    "tags": []
   },
   "outputs": [
    {
     "name": "stdout",
     "output_type": "stream",
     "text": [
      "tensor([0., 0., 0.])\n",
      "tensor([1., 2., 3.])\n",
      "tensor([2., 4., 6.])\n"
     ]
    }
   ],
   "source": [
    "# Inplace Operations\n",
    "t = torch.zeros(3)\n",
    "print(t)\n",
    "t.add_(x) # The \"_\" means that it is done inplace, so you dont need to do a copy of the tensor\n",
    "print(t)\n",
    "t += x\n",
    "print(t)"
   ]
  },
  {
   "cell_type": "code",
   "execution_count": 8,
   "id": "aba171a3",
   "metadata": {
    "execution": {
     "iopub.execute_input": "2024-08-07T23:27:15.436526Z",
     "iopub.status.busy": "2024-08-07T23:27:15.436269Z",
     "iopub.status.idle": "2024-08-07T23:27:15.442935Z",
     "shell.execute_reply": "2024-08-07T23:27:15.441864Z"
    },
    "id": "ZfIkRuZr5jea",
    "outputId": "64bea43b-2ec5-4edc-9c74-4c8323dcff75",
    "papermill": {
     "duration": 0.022286,
     "end_time": "2024-08-07T23:27:15.445215",
     "exception": false,
     "start_time": "2024-08-07T23:27:15.422929",
     "status": "completed"
    },
    "tags": []
   },
   "outputs": [
    {
     "name": "stdout",
     "output_type": "stream",
     "text": [
      "tensor([1, 2, 3])\n",
      "tensor([1, 4, 9])\n",
      "tensor([1, 4, 9])\n"
     ]
    }
   ],
   "source": [
    "# Element-wise exponentiation\n",
    "print(x)\n",
    "z = x.pow(2)\n",
    "y = x ** 2\n",
    "print(z)\n",
    "print(y)"
   ]
  },
  {
   "cell_type": "code",
   "execution_count": 9,
   "id": "a9ba5b09",
   "metadata": {
    "execution": {
     "iopub.execute_input": "2024-08-07T23:27:15.471731Z",
     "iopub.status.busy": "2024-08-07T23:27:15.471453Z",
     "iopub.status.idle": "2024-08-07T23:27:15.539760Z",
     "shell.execute_reply": "2024-08-07T23:27:15.538836Z"
    },
    "id": "g8PLtngJ8KaN",
    "outputId": "1ed2cf54-d47c-49a7-b6a5-52fb5f2643c9",
    "papermill": {
     "duration": 0.083958,
     "end_time": "2024-08-07T23:27:15.541792",
     "exception": false,
     "start_time": "2024-08-07T23:27:15.457834",
     "status": "completed"
    },
    "tags": []
   },
   "outputs": [
    {
     "data": {
      "text/plain": [
       "tensor([[1.7703, 0.6272, 1.2984, 1.5871, 1.3076],\n",
       "        [1.2932, 1.0604, 1.3624, 1.4315, 0.8042],\n",
       "        [1.2407, 0.5730, 1.4086, 1.3427, 1.1577],\n",
       "        [0.4922, 0.5026, 0.5256, 0.5706, 0.3371],\n",
       "        [0.6053, 0.3111, 0.6935, 0.6080, 0.4993]])"
      ]
     },
     "execution_count": 9,
     "metadata": {},
     "output_type": "execute_result"
    }
   ],
   "source": [
    "# Matrix exponentiation\n",
    "matrix_exp = torch.rand((5,5))\n",
    "matrix_exp.matrix_power(2)"
   ]
  },
  {
   "cell_type": "code",
   "execution_count": 10,
   "id": "a302abe0",
   "metadata": {
    "execution": {
     "iopub.execute_input": "2024-08-07T23:27:15.568858Z",
     "iopub.status.busy": "2024-08-07T23:27:15.568307Z",
     "iopub.status.idle": "2024-08-07T23:27:15.573951Z",
     "shell.execute_reply": "2024-08-07T23:27:15.573031Z"
    },
    "id": "imP0MIcr54uT",
    "outputId": "260a450e-12b3-4513-b23b-b44d05bc992c",
    "papermill": {
     "duration": 0.021338,
     "end_time": "2024-08-07T23:27:15.575942",
     "exception": false,
     "start_time": "2024-08-07T23:27:15.554604",
     "status": "completed"
    },
    "tags": []
   },
   "outputs": [
    {
     "name": "stdout",
     "output_type": "stream",
     "text": [
      "tensor([True, True, True])\n",
      "tensor([False, False, False])\n"
     ]
    }
   ],
   "source": [
    "# Simple Comparison\n",
    "z = x > 0\n",
    "print(z)\n",
    "z = x < 0\n",
    "print(z)"
   ]
  },
  {
   "cell_type": "code",
   "execution_count": 11,
   "id": "40e4b7e9",
   "metadata": {
    "execution": {
     "iopub.execute_input": "2024-08-07T23:27:15.602884Z",
     "iopub.status.busy": "2024-08-07T23:27:15.602109Z",
     "iopub.status.idle": "2024-08-07T23:27:15.609179Z",
     "shell.execute_reply": "2024-08-07T23:27:15.608334Z"
    },
    "id": "G-OjJXJj6P6u",
    "outputId": "7ad5c894-2a7c-41ef-ce15-31b92558fbfc",
    "papermill": {
     "duration": 0.022445,
     "end_time": "2024-08-07T23:27:15.611166",
     "exception": false,
     "start_time": "2024-08-07T23:27:15.588721",
     "status": "completed"
    },
    "tags": []
   },
   "outputs": [
    {
     "name": "stdout",
     "output_type": "stream",
     "text": [
      "tensor([1, 2, 3])\n",
      "tensor([1, 4, 9])\n",
      "tensor([ 1,  8, 27])\n"
     ]
    }
   ],
   "source": [
    "# Element-wise multiplication\n",
    "print(x)\n",
    "print(y)\n",
    "z = x * y\n",
    "print(z)"
   ]
  },
  {
   "cell_type": "code",
   "execution_count": 12,
   "id": "e7325985",
   "metadata": {
    "execution": {
     "iopub.execute_input": "2024-08-07T23:27:15.637726Z",
     "iopub.status.busy": "2024-08-07T23:27:15.637033Z",
     "iopub.status.idle": "2024-08-07T23:27:15.645524Z",
     "shell.execute_reply": "2024-08-07T23:27:15.644648Z"
    },
    "id": "SqGXczar8ODP",
    "outputId": "7b106917-84d5-4fab-f150-df0297c6a3ee",
    "papermill": {
     "duration": 0.023427,
     "end_time": "2024-08-07T23:27:15.647407",
     "exception": false,
     "start_time": "2024-08-07T23:27:15.623980",
     "status": "completed"
    },
    "tags": []
   },
   "outputs": [
    {
     "name": "stdout",
     "output_type": "stream",
     "text": [
      "tensor([[0.6175, 0.7199, 1.0227],\n",
      "        [0.3053, 1.1929, 0.8872]])\n",
      "tensor([[0.6175, 0.7199, 1.0227],\n",
      "        [0.3053, 1.1929, 0.8872]])\n"
     ]
    }
   ],
   "source": [
    "# Matrix multiplication\n",
    "x1 = torch.rand((2,5))\n",
    "x2 = torch.rand((5,3))\n",
    "\n",
    "x3 = torch.mm(x1,x2)  # 2x3\n",
    "x4 = x1.mm(x2) # This is common to all pytorch functions\n",
    "print(x3)\n",
    "print(x4)"
   ]
  },
  {
   "cell_type": "code",
   "execution_count": 13,
   "id": "568ac252",
   "metadata": {
    "execution": {
     "iopub.execute_input": "2024-08-07T23:27:15.673519Z",
     "iopub.status.busy": "2024-08-07T23:27:15.672908Z",
     "iopub.status.idle": "2024-08-07T23:27:15.679193Z",
     "shell.execute_reply": "2024-08-07T23:27:15.678161Z"
    },
    "id": "n3Y0-Yiq6cqY",
    "outputId": "25e916d6-ab1b-4342-cc20-12e9d1df3ecd",
    "papermill": {
     "duration": 0.021622,
     "end_time": "2024-08-07T23:27:15.681348",
     "exception": false,
     "start_time": "2024-08-07T23:27:15.659726",
     "status": "completed"
    },
    "tags": []
   },
   "outputs": [
    {
     "name": "stdout",
     "output_type": "stream",
     "text": [
      "tensor(36)\n"
     ]
    }
   ],
   "source": [
    "# dot product\n",
    "z = torch.dot(x,y)\n",
    "print(z)"
   ]
  },
  {
   "cell_type": "code",
   "execution_count": 14,
   "id": "a3dd8abc",
   "metadata": {
    "execution": {
     "iopub.execute_input": "2024-08-07T23:27:15.707304Z",
     "iopub.status.busy": "2024-08-07T23:27:15.707031Z",
     "iopub.status.idle": "2024-08-07T23:27:15.716287Z",
     "shell.execute_reply": "2024-08-07T23:27:15.715371Z"
    },
    "id": "Luh_n8Oe8EzF",
    "papermill": {
     "duration": 0.024585,
     "end_time": "2024-08-07T23:27:15.718281",
     "exception": false,
     "start_time": "2024-08-07T23:27:15.693696",
     "status": "completed"
    },
    "tags": []
   },
   "outputs": [],
   "source": [
    "# Batch matrix multiplication\n",
    "batch = 32\n",
    "n = 10\n",
    "m = 20\n",
    "p = 30\n",
    "tensor1 = torch.rand((batch, n, m))\n",
    "tensor2 = torch.rand((batch, m, p))\n",
    "out_bmm = torch.bmm(tensor1, tensor2) # (batch, n, p)"
   ]
  },
  {
   "cell_type": "code",
   "execution_count": 15,
   "id": "347ada91",
   "metadata": {
    "execution": {
     "iopub.execute_input": "2024-08-07T23:27:15.746035Z",
     "iopub.status.busy": "2024-08-07T23:27:15.745738Z",
     "iopub.status.idle": "2024-08-07T23:27:15.750203Z",
     "shell.execute_reply": "2024-08-07T23:27:15.749494Z"
    },
    "id": "BS9r3KTF8HCr",
    "papermill": {
     "duration": 0.019603,
     "end_time": "2024-08-07T23:27:15.751968",
     "exception": false,
     "start_time": "2024-08-07T23:27:15.732365",
     "status": "completed"
    },
    "tags": []
   },
   "outputs": [],
   "source": [
    "# Example of Broadcasting\n",
    "x1 = torch.rand((5,5))\n",
    "x2 = torch.rand((1,5))  # will be expanded to 5x5\n",
    "z1 = x1 - x2\n",
    "z2 = x1 ** x2"
   ]
  },
  {
   "cell_type": "markdown",
   "id": "f4092fc9",
   "metadata": {
    "id": "swoKNcMQ9vIZ",
    "papermill": {
     "duration": 0.012596,
     "end_time": "2024-08-07T23:27:15.777358",
     "exception": false,
     "start_time": "2024-08-07T23:27:15.764762",
     "status": "completed"
    },
    "tags": []
   },
   "source": [
    "# Useful Tensor Math Operations"
   ]
  },
  {
   "cell_type": "code",
   "execution_count": 16,
   "id": "6ab6c09c",
   "metadata": {
    "execution": {
     "iopub.execute_input": "2024-08-07T23:27:15.803628Z",
     "iopub.status.busy": "2024-08-07T23:27:15.803356Z",
     "iopub.status.idle": "2024-08-07T23:27:15.807313Z",
     "shell.execute_reply": "2024-08-07T23:27:15.806598Z"
    },
    "id": "yCyuDS_f9aGE",
    "papermill": {
     "duration": 0.019172,
     "end_time": "2024-08-07T23:27:15.809159",
     "exception": false,
     "start_time": "2024-08-07T23:27:15.789987",
     "status": "completed"
    },
    "tags": []
   },
   "outputs": [],
   "source": [
    "# Sum columns (dim=0) or rows (dim=1)\n",
    "sum_x = torch.sum(x, dim=0)"
   ]
  },
  {
   "cell_type": "code",
   "execution_count": 17,
   "id": "dd6cec94",
   "metadata": {
    "execution": {
     "iopub.execute_input": "2024-08-07T23:27:15.835123Z",
     "iopub.status.busy": "2024-08-07T23:27:15.834831Z",
     "iopub.status.idle": "2024-08-07T23:27:15.847433Z",
     "shell.execute_reply": "2024-08-07T23:27:15.846591Z"
    },
    "id": "AYEiwCCT-C9t",
    "papermill": {
     "duration": 0.027874,
     "end_time": "2024-08-07T23:27:15.849357",
     "exception": false,
     "start_time": "2024-08-07T23:27:15.821483",
     "status": "completed"
    },
    "tags": []
   },
   "outputs": [],
   "source": [
    "# Max and min values\n",
    "values, indices = torch.max(x, dim=0)\n",
    "values, indices = torch.min(x, dim=0)\n",
    "z1 = torch.argmax(x, dim=0) # does the same as torch.max, but only returns the index\n",
    "z2 = torch.argmin(x, dim=0)"
   ]
  },
  {
   "cell_type": "code",
   "execution_count": 18,
   "id": "e6ff5d4a",
   "metadata": {
    "execution": {
     "iopub.execute_input": "2024-08-07T23:27:15.875839Z",
     "iopub.status.busy": "2024-08-07T23:27:15.875326Z",
     "iopub.status.idle": "2024-08-07T23:27:15.879240Z",
     "shell.execute_reply": "2024-08-07T23:27:15.878430Z"
    },
    "id": "NzvmTeUM-SwC",
    "papermill": {
     "duration": 0.018934,
     "end_time": "2024-08-07T23:27:15.881084",
     "exception": false,
     "start_time": "2024-08-07T23:27:15.862150",
     "status": "completed"
    },
    "tags": []
   },
   "outputs": [],
   "source": [
    "# Absolute value\n",
    "abs_x = torch.abs(x)"
   ]
  },
  {
   "cell_type": "code",
   "execution_count": 19,
   "id": "33f54fd6",
   "metadata": {
    "execution": {
     "iopub.execute_input": "2024-08-07T23:27:15.907195Z",
     "iopub.status.busy": "2024-08-07T23:27:15.906460Z",
     "iopub.status.idle": "2024-08-07T23:27:15.911844Z",
     "shell.execute_reply": "2024-08-07T23:27:15.911036Z"
    },
    "id": "7XEPdz8F-YRe",
    "papermill": {
     "duration": 0.020119,
     "end_time": "2024-08-07T23:27:15.913769",
     "exception": false,
     "start_time": "2024-08-07T23:27:15.893650",
     "status": "completed"
    },
    "tags": []
   },
   "outputs": [],
   "source": [
    "# Mean (the tensor needs to be float)\n",
    "mean = torch.mean(x.float(), dim=0)"
   ]
  },
  {
   "cell_type": "code",
   "execution_count": 20,
   "id": "6730ec90",
   "metadata": {
    "execution": {
     "iopub.execute_input": "2024-08-07T23:27:15.939765Z",
     "iopub.status.busy": "2024-08-07T23:27:15.939499Z",
     "iopub.status.idle": "2024-08-07T23:27:15.943263Z",
     "shell.execute_reply": "2024-08-07T23:27:15.942501Z"
    },
    "id": "W-QH_6Pa-dua",
    "papermill": {
     "duration": 0.019015,
     "end_time": "2024-08-07T23:27:15.945170",
     "exception": false,
     "start_time": "2024-08-07T23:27:15.926155",
     "status": "completed"
    },
    "tags": []
   },
   "outputs": [],
   "source": [
    "# Element-wise check if they are equal\n",
    "z = torch.eq(x,y)"
   ]
  },
  {
   "cell_type": "code",
   "execution_count": 21,
   "id": "8e9374f7",
   "metadata": {
    "execution": {
     "iopub.execute_input": "2024-08-07T23:27:15.971632Z",
     "iopub.status.busy": "2024-08-07T23:27:15.971047Z",
     "iopub.status.idle": "2024-08-07T23:27:15.978718Z",
     "shell.execute_reply": "2024-08-07T23:27:15.978065Z"
    },
    "id": "MT0m8GLXAkPQ",
    "papermill": {
     "duration": 0.023015,
     "end_time": "2024-08-07T23:27:15.980601",
     "exception": false,
     "start_time": "2024-08-07T23:27:15.957586",
     "status": "completed"
    },
    "tags": []
   },
   "outputs": [],
   "source": [
    "# Sort\n",
    "sorted_y, indices = torch.sort(y, dim=0, descending=False)"
   ]
  },
  {
   "cell_type": "code",
   "execution_count": 22,
   "id": "13331ca9",
   "metadata": {
    "execution": {
     "iopub.execute_input": "2024-08-07T23:27:16.006604Z",
     "iopub.status.busy": "2024-08-07T23:27:16.006321Z",
     "iopub.status.idle": "2024-08-07T23:27:16.012262Z",
     "shell.execute_reply": "2024-08-07T23:27:16.011601Z"
    },
    "id": "DANr34eYBLBR",
    "papermill": {
     "duration": 0.021002,
     "end_time": "2024-08-07T23:27:16.014119",
     "exception": false,
     "start_time": "2024-08-07T23:27:15.993117",
     "status": "completed"
    },
    "tags": []
   },
   "outputs": [],
   "source": [
    "# Limit the values of the tensor [0, 10]\n",
    "z = torch.clamp(x, min=-5, max=5)\n",
    "ReLU = torch.clamp(x, min=0)"
   ]
  },
  {
   "cell_type": "code",
   "execution_count": 23,
   "id": "0737c30b",
   "metadata": {
    "execution": {
     "iopub.execute_input": "2024-08-07T23:27:16.040357Z",
     "iopub.status.busy": "2024-08-07T23:27:16.039711Z",
     "iopub.status.idle": "2024-08-07T23:27:16.047583Z",
     "shell.execute_reply": "2024-08-07T23:27:16.046548Z"
    },
    "id": "c3tbPmQkByCX",
    "outputId": "7760e5d5-cdfa-48bd-9f53-ee8ed78bd44b",
    "papermill": {
     "duration": 0.02286,
     "end_time": "2024-08-07T23:27:16.049393",
     "exception": false,
     "start_time": "2024-08-07T23:27:16.026533",
     "status": "completed"
    },
    "tags": []
   },
   "outputs": [
    {
     "name": "stdout",
     "output_type": "stream",
     "text": [
      "tensor(True)\n",
      "tensor(False)\n"
     ]
    }
   ],
   "source": [
    "# Check for True values\n",
    "x = torch.tensor([1,0,1,1,1,0], dtype=bool)\n",
    "z = torch.any(x)  # at least one True\n",
    "print(z)\n",
    "z = torch.all(x)  # all True\n",
    "print(z)"
   ]
  },
  {
   "cell_type": "markdown",
   "id": "63aa8a61",
   "metadata": {
    "id": "Yy73PnbeC4Vh",
    "papermill": {
     "duration": 0.012215,
     "end_time": "2024-08-07T23:27:16.074066",
     "exception": false,
     "start_time": "2024-08-07T23:27:16.061851",
     "status": "completed"
    },
    "tags": []
   },
   "source": [
    "# Tensor Indexing"
   ]
  },
  {
   "cell_type": "code",
   "execution_count": 24,
   "id": "e38fb5ad",
   "metadata": {
    "execution": {
     "iopub.execute_input": "2024-08-07T23:27:16.099990Z",
     "iopub.status.busy": "2024-08-07T23:27:16.099705Z",
     "iopub.status.idle": "2024-08-07T23:27:16.106607Z",
     "shell.execute_reply": "2024-08-07T23:27:16.105724Z"
    },
    "id": "g8iO_4V_CJsy",
    "outputId": "2550c7d6-c39f-4c69-c7cb-35d4dbbc0236",
    "papermill": {
     "duration": 0.022151,
     "end_time": "2024-08-07T23:27:16.108761",
     "exception": false,
     "start_time": "2024-08-07T23:27:16.086610",
     "status": "completed"
    },
    "tags": []
   },
   "outputs": [
    {
     "name": "stdout",
     "output_type": "stream",
     "text": [
      "torch.Size([25])\n",
      "torch.Size([10])\n",
      "torch.Size([8])\n"
     ]
    }
   ],
   "source": [
    "batch_size = 10 # number of examples in a batch\n",
    "features = 25\n",
    "x = torch.rand((batch_size, features))\n",
    "\n",
    "# Get the features of the first example\n",
    "print(x[0].shape) #x[0] is equivalent to x[0,:]\n",
    "\n",
    "# Get the first features of all of the example\n",
    "print(x[:,0].shape)\n",
    "\n",
    "# Get the first eight features of the third example in the batch\n",
    "print(x[2, 0:8].shape)"
   ]
  },
  {
   "cell_type": "code",
   "execution_count": 25,
   "id": "133acd85",
   "metadata": {
    "execution": {
     "iopub.execute_input": "2024-08-07T23:27:16.135407Z",
     "iopub.status.busy": "2024-08-07T23:27:16.135127Z",
     "iopub.status.idle": "2024-08-07T23:27:16.142163Z",
     "shell.execute_reply": "2024-08-07T23:27:16.141266Z"
    },
    "id": "6AJMh6hLIAHS",
    "outputId": "19042cb6-22c7-4fd3-cee6-6e799e9e2876",
    "papermill": {
     "duration": 0.022708,
     "end_time": "2024-08-07T23:27:16.144197",
     "exception": false,
     "start_time": "2024-08-07T23:27:16.121489",
     "status": "completed"
    },
    "tags": []
   },
   "outputs": [
    {
     "name": "stdout",
     "output_type": "stream",
     "text": [
      "tensor([0, 1, 2, 3, 4, 5, 6, 7, 8, 9])\n",
      "tensor([2, 5, 8])\n"
     ]
    }
   ],
   "source": [
    "# Select values in a one-dimensional tensor\n",
    "x = torch.arange(10)\n",
    "indices = [2, 5, 8]\n",
    "print(x)\n",
    "print(x[indices])"
   ]
  },
  {
   "cell_type": "code",
   "execution_count": 26,
   "id": "57d9fba4",
   "metadata": {
    "execution": {
     "iopub.execute_input": "2024-08-07T23:27:16.170866Z",
     "iopub.status.busy": "2024-08-07T23:27:16.170531Z",
     "iopub.status.idle": "2024-08-07T23:27:16.177593Z",
     "shell.execute_reply": "2024-08-07T23:27:16.176618Z"
    },
    "id": "s2avpFEOJ-UO",
    "outputId": "7dc7d5e0-59ba-4821-d373-cfddd225e87e",
    "papermill": {
     "duration": 0.022646,
     "end_time": "2024-08-07T23:27:16.179525",
     "exception": false,
     "start_time": "2024-08-07T23:27:16.156879",
     "status": "completed"
    },
    "tags": []
   },
   "outputs": [
    {
     "name": "stdout",
     "output_type": "stream",
     "text": [
      "tensor([[0.1695, 0.4747, 0.4911, 0.5119, 0.5867],\n",
      "        [0.8372, 0.9097, 0.6816, 0.5251, 0.1676],\n",
      "        [0.4239, 0.1626, 0.3359, 0.0735, 0.7946]])\n",
      "tensor([0.1676, 0.1695])\n"
     ]
    }
   ],
   "source": [
    "# Select values in a two-dimensional tensor\n",
    "x = torch.rand((3,5))\n",
    "rows = torch.tensor([1,0])\n",
    "cols = torch.tensor([4,0])\n",
    "\n",
    "print(x)\n",
    "print(x[rows, cols])  # This picks the second row and the fifth column, and then the first row and first colum"
   ]
  },
  {
   "cell_type": "code",
   "execution_count": 27,
   "id": "998d0603",
   "metadata": {
    "execution": {
     "iopub.execute_input": "2024-08-07T23:27:16.249546Z",
     "iopub.status.busy": "2024-08-07T23:27:16.248740Z",
     "iopub.status.idle": "2024-08-07T23:27:16.257307Z",
     "shell.execute_reply": "2024-08-07T23:27:16.256372Z"
    },
    "id": "VGBA4HZtKmww",
    "outputId": "828ea597-acc8-4d31-c2f5-1143e3860442",
    "papermill": {
     "duration": 0.066872,
     "end_time": "2024-08-07T23:27:16.259150",
     "exception": false,
     "start_time": "2024-08-07T23:27:16.192278",
     "status": "completed"
    },
    "tags": []
   },
   "outputs": [
    {
     "name": "stdout",
     "output_type": "stream",
     "text": [
      "tensor([0, 1, 2, 3, 4, 5, 6, 7, 8, 9])\n",
      "tensor([0, 1, 9])\n",
      "tensor([4, 5])\n",
      "tensor([0, 2, 4, 6, 8])\n"
     ]
    }
   ],
   "source": [
    "# Conditional indexing\n",
    "x = torch.arange(10)\n",
    "print(x)\n",
    "\n",
    "print(x[(x<2)|(x>8)])\n",
    "print(x[(x<6)&(x>3)])\n",
    "\n",
    "print(x[x.remainder(2) == 0]) # Even numbers"
   ]
  },
  {
   "cell_type": "markdown",
   "id": "20716a65",
   "metadata": {
    "id": "jTxA4mAnOCVn",
    "papermill": {
     "duration": 0.013021,
     "end_time": "2024-08-07T23:27:16.285255",
     "exception": false,
     "start_time": "2024-08-07T23:27:16.272234",
     "status": "completed"
    },
    "tags": []
   },
   "source": [
    "## Useful Operations"
   ]
  },
  {
   "cell_type": "code",
   "execution_count": 28,
   "id": "14ce3b83",
   "metadata": {
    "execution": {
     "iopub.execute_input": "2024-08-07T23:27:16.313725Z",
     "iopub.status.busy": "2024-08-07T23:27:16.313206Z",
     "iopub.status.idle": "2024-08-07T23:27:16.319992Z",
     "shell.execute_reply": "2024-08-07T23:27:16.319040Z"
    },
    "id": "wZLGVfFJL1C2",
    "outputId": "a11126b0-2e41-4e36-c240-36b6e3c03410",
    "papermill": {
     "duration": 0.022779,
     "end_time": "2024-08-07T23:27:16.321932",
     "exception": false,
     "start_time": "2024-08-07T23:27:16.299153",
     "status": "completed"
    },
    "tags": []
   },
   "outputs": [
    {
     "name": "stdout",
     "output_type": "stream",
     "text": [
      "tensor([0, 0, 0, 0, 0, 0, 6, 7, 8, 9])\n"
     ]
    }
   ],
   "source": [
    "# Change the values of the tensor\n",
    "print(torch.where(x > 5, x*1, x*0)) # when x > 5 -> x, when x =< 5 -> 0"
   ]
  },
  {
   "cell_type": "code",
   "execution_count": 29,
   "id": "6c6c2d1d",
   "metadata": {
    "execution": {
     "iopub.execute_input": "2024-08-07T23:27:16.349125Z",
     "iopub.status.busy": "2024-08-07T23:27:16.348620Z",
     "iopub.status.idle": "2024-08-07T23:27:16.357118Z",
     "shell.execute_reply": "2024-08-07T23:27:16.356128Z"
    },
    "id": "HpZqb8sMM_p0",
    "outputId": "03054efc-2648-47d9-d131-5fe5d18b6754",
    "papermill": {
     "duration": 0.024153,
     "end_time": "2024-08-07T23:27:16.359013",
     "exception": false,
     "start_time": "2024-08-07T23:27:16.334860",
     "status": "completed"
    },
    "tags": []
   },
   "outputs": [
    {
     "name": "stdout",
     "output_type": "stream",
     "text": [
      "tensor([0, 1, 2, 3, 4])\n"
     ]
    }
   ],
   "source": [
    "# Check for unique values\n",
    "x = torch.tensor([0,0,1,2,2,3,4])\n",
    "print(x.unique())"
   ]
  },
  {
   "cell_type": "code",
   "execution_count": 30,
   "id": "36997182",
   "metadata": {
    "execution": {
     "iopub.execute_input": "2024-08-07T23:27:16.387690Z",
     "iopub.status.busy": "2024-08-07T23:27:16.387381Z",
     "iopub.status.idle": "2024-08-07T23:27:16.393954Z",
     "shell.execute_reply": "2024-08-07T23:27:16.392987Z"
    },
    "id": "C-W0Si6KN0pu",
    "outputId": "e6324d07-8377-4b2f-81fc-49b44e918bf2",
    "papermill": {
     "duration": 0.023564,
     "end_time": "2024-08-07T23:27:16.395952",
     "exception": false,
     "start_time": "2024-08-07T23:27:16.372388",
     "status": "completed"
    },
    "tags": []
   },
   "outputs": [
    {
     "name": "stdout",
     "output_type": "stream",
     "text": [
      "1\n",
      "2\n",
      "3\n"
     ]
    }
   ],
   "source": [
    "# Number of dimentions of a tensor\n",
    "x1 = torch.tensor([0,0,0])\n",
    "x2 = torch.tensor([[0,0,0],[0,0,0]])\n",
    "x3 = torch.tensor([[[0,0,0],[0,0,0],[0,0,0]]])\n",
    "print(x1.ndimension())\n",
    "print(x2.ndimension())\n",
    "print(x3.ndimension())"
   ]
  },
  {
   "cell_type": "code",
   "execution_count": 31,
   "id": "a007d4a3",
   "metadata": {
    "execution": {
     "iopub.execute_input": "2024-08-07T23:27:16.423466Z",
     "iopub.status.busy": "2024-08-07T23:27:16.423183Z",
     "iopub.status.idle": "2024-08-07T23:27:16.427874Z",
     "shell.execute_reply": "2024-08-07T23:27:16.427066Z"
    },
    "id": "j8B_0tyNOIiv",
    "outputId": "793591ed-1ac1-4bef-e62d-465cecce3080",
    "papermill": {
     "duration": 0.020837,
     "end_time": "2024-08-07T23:27:16.429885",
     "exception": false,
     "start_time": "2024-08-07T23:27:16.409048",
     "status": "completed"
    },
    "tags": []
   },
   "outputs": [
    {
     "name": "stdout",
     "output_type": "stream",
     "text": [
      "3\n",
      "6\n",
      "9\n"
     ]
    }
   ],
   "source": [
    "# Count the number of elements in a tensor\n",
    "print(x1.numel())\n",
    "print(x2.numel())\n",
    "print(x3.numel())"
   ]
  },
  {
   "cell_type": "markdown",
   "id": "a52f008b",
   "metadata": {
    "id": "qMpq3xb-OswX",
    "papermill": {
     "duration": 0.013521,
     "end_time": "2024-08-07T23:27:16.456921",
     "exception": false,
     "start_time": "2024-08-07T23:27:16.443400",
     "status": "completed"
    },
    "tags": []
   },
   "source": [
    "# Tensor Reshaping Dimensions"
   ]
  },
  {
   "cell_type": "code",
   "execution_count": 32,
   "id": "aabe8714",
   "metadata": {
    "execution": {
     "iopub.execute_input": "2024-08-07T23:27:16.484470Z",
     "iopub.status.busy": "2024-08-07T23:27:16.483952Z",
     "iopub.status.idle": "2024-08-07T23:27:16.489153Z",
     "shell.execute_reply": "2024-08-07T23:27:16.488321Z"
    },
    "id": "jx_d_nDDOh_b",
    "outputId": "0432c9b8-678a-44c0-9137-ca8ffbd9ac88",
    "papermill": {
     "duration": 0.021133,
     "end_time": "2024-08-07T23:27:16.491235",
     "exception": false,
     "start_time": "2024-08-07T23:27:16.470102",
     "status": "completed"
    },
    "tags": []
   },
   "outputs": [
    {
     "name": "stdout",
     "output_type": "stream",
     "text": [
      "torch.Size([9])\n",
      "torch.Size([3, 3])\n",
      "torch.Size([3, 3])\n"
     ]
    }
   ],
   "source": [
    "# Change a 9 element vector to a 3x3 matrix\n",
    "x = torch.arange(9)\n",
    "print(x.shape)\n",
    "\n",
    "x_3x3_1 = x.view(3,3)\n",
    "x_3x3_2 = x.reshape(3,3)  # Reshape is the prefered choice\n",
    "\n",
    "print(x_3x3_1.shape)\n",
    "print(x_3x3_2.shape)"
   ]
  },
  {
   "cell_type": "code",
   "execution_count": 33,
   "id": "1e672529",
   "metadata": {
    "execution": {
     "iopub.execute_input": "2024-08-07T23:27:16.519638Z",
     "iopub.status.busy": "2024-08-07T23:27:16.519359Z",
     "iopub.status.idle": "2024-08-07T23:27:16.526166Z",
     "shell.execute_reply": "2024-08-07T23:27:16.525287Z"
    },
    "id": "I7TLECOjOyT2",
    "outputId": "da015913-6b23-4eeb-9b85-97d6410d5bed",
    "papermill": {
     "duration": 0.023612,
     "end_time": "2024-08-07T23:27:16.528061",
     "exception": false,
     "start_time": "2024-08-07T23:27:16.504449",
     "status": "completed"
    },
    "tags": []
   },
   "outputs": [
    {
     "name": "stdout",
     "output_type": "stream",
     "text": [
      "torch.Size([4, 5])\n"
     ]
    }
   ],
   "source": [
    "# Concatenate tensors\n",
    "x1 = torch.rand((2,5))\n",
    "x2 = torch.rand((2,5))\n",
    "z = torch.cat((x1,x2), dim=0)\n",
    "print(z.shape)"
   ]
  },
  {
   "cell_type": "code",
   "execution_count": 34,
   "id": "64899a90",
   "metadata": {
    "execution": {
     "iopub.execute_input": "2024-08-07T23:27:16.557233Z",
     "iopub.status.busy": "2024-08-07T23:27:16.556951Z",
     "iopub.status.idle": "2024-08-07T23:27:16.561729Z",
     "shell.execute_reply": "2024-08-07T23:27:16.560864Z"
    },
    "id": "-2gdXVEMQHli",
    "outputId": "1c8f71de-be19-41cd-ee41-cbe12fe8279d",
    "papermill": {
     "duration": 0.021578,
     "end_time": "2024-08-07T23:27:16.563892",
     "exception": false,
     "start_time": "2024-08-07T23:27:16.542314",
     "status": "completed"
    },
    "tags": []
   },
   "outputs": [
    {
     "name": "stdout",
     "output_type": "stream",
     "text": [
      "torch.Size([10])\n",
      "torch.Size([10])\n"
     ]
    }
   ],
   "source": [
    "# Matrix to vector\n",
    "z = x1.view(-1)\n",
    "print(z.shape)\n",
    "z = x1.reshape(-1)\n",
    "print(z.shape)"
   ]
  },
  {
   "cell_type": "code",
   "execution_count": 35,
   "id": "86c5bc02",
   "metadata": {
    "execution": {
     "iopub.execute_input": "2024-08-07T23:27:16.592189Z",
     "iopub.status.busy": "2024-08-07T23:27:16.591911Z",
     "iopub.status.idle": "2024-08-07T23:27:16.598148Z",
     "shell.execute_reply": "2024-08-07T23:27:16.597039Z"
    },
    "id": "uaUi5GlWRNTJ",
    "outputId": "ae32fe04-5c7a-4097-b58b-10794c4777a0",
    "papermill": {
     "duration": 0.022792,
     "end_time": "2024-08-07T23:27:16.600142",
     "exception": false,
     "start_time": "2024-08-07T23:27:16.577350",
     "status": "completed"
    },
    "tags": []
   },
   "outputs": [
    {
     "name": "stdout",
     "output_type": "stream",
     "text": [
      "tensor([[0, 1, 2],\n",
      "        [3, 4, 5],\n",
      "        [6, 7, 8]])\n",
      "tensor([[0, 3, 6],\n",
      "        [1, 4, 7],\n",
      "        [2, 5, 8]])\n"
     ]
    }
   ],
   "source": [
    "# Transpose\n",
    "x = torch.arange(9)\n",
    "x = x.reshape((3,3))\n",
    "print(x)\n",
    "print(x.t())"
   ]
  },
  {
   "cell_type": "code",
   "execution_count": 36,
   "id": "c0f4a6a8",
   "metadata": {
    "execution": {
     "iopub.execute_input": "2024-08-07T23:27:16.628751Z",
     "iopub.status.busy": "2024-08-07T23:27:16.628476Z",
     "iopub.status.idle": "2024-08-07T23:27:16.634469Z",
     "shell.execute_reply": "2024-08-07T23:27:16.633631Z"
    },
    "id": "znMOB7HIRpdK",
    "outputId": "b37745eb-ee09-465b-bc04-44c880ee83fa",
    "papermill": {
     "duration": 0.022388,
     "end_time": "2024-08-07T23:27:16.636322",
     "exception": false,
     "start_time": "2024-08-07T23:27:16.613934",
     "status": "completed"
    },
    "tags": []
   },
   "outputs": [
    {
     "name": "stdout",
     "output_type": "stream",
     "text": [
      "torch.Size([64, 2, 5])\n",
      "torch.Size([64, 10])\n",
      "torch.Size([64, 5, 2])\n"
     ]
    }
   ],
   "source": [
    "# Permute (Similar to transpose, but used for more dimensions)\n",
    "batch = 64\n",
    "x = torch.rand((batch, 2, 5))\n",
    "print(x.shape)\n",
    "\n",
    "z1 = x.view(batch, -1) # adjust automatically the rest of the dimentions\n",
    "print(z1.shape)\n",
    "\n",
    "z2 = x.permute(0, 2, 1) # the ordering of the dimentions is (first, third, second), so batch stays the same\n",
    "print(z2.shape)"
   ]
  },
  {
   "cell_type": "code",
   "execution_count": 37,
   "id": "a3fcb61e",
   "metadata": {
    "execution": {
     "iopub.execute_input": "2024-08-07T23:27:16.664764Z",
     "iopub.status.busy": "2024-08-07T23:27:16.664471Z",
     "iopub.status.idle": "2024-08-07T23:27:16.670791Z",
     "shell.execute_reply": "2024-08-07T23:27:16.669764Z"
    },
    "id": "GvsmJ0bJSkdp",
    "outputId": "ede87830-c319-4397-95f9-2ddbd0d92312",
    "papermill": {
     "duration": 0.022879,
     "end_time": "2024-08-07T23:27:16.672887",
     "exception": false,
     "start_time": "2024-08-07T23:27:16.650008",
     "status": "completed"
    },
    "tags": []
   },
   "outputs": [
    {
     "name": "stdout",
     "output_type": "stream",
     "text": [
      "torch.Size([10])\n",
      "torch.Size([1, 10])\n",
      "torch.Size([10, 1])\n",
      "torch.Size([1, 1, 10])\n"
     ]
    }
   ],
   "source": [
    "# Row-Column vector transformation\n",
    "x = torch.arange(10)\n",
    "print(x.shape)\n",
    "\n",
    "row = x.unsqueeze(0)\n",
    "print(row.shape)\n",
    "\n",
    "col = x.unsqueeze(1)\n",
    "print(col.shape)\n",
    "\n",
    "z = x.unsqueeze(0).unsqueeze(1)\n",
    "print(z.shape)"
   ]
  }
 ],
 "metadata": {
  "accelerator": "GPU",
  "colab": {
   "authorship_tag": "ABX9TyNPFsfoC+s/QP5VUYOEE44f",
   "gpuType": "T4",
   "include_colab_link": true,
   "provenance": [],
   "toc_visible": true
  },
  "kaggle": {
   "accelerator": "nvidiaTeslaT4",
   "dataSources": [],
   "dockerImageVersionId": 30747,
   "isGpuEnabled": true,
   "isInternetEnabled": true,
   "language": "python",
   "sourceType": "notebook"
  },
  "kernelspec": {
   "display_name": "Python 3",
   "language": "python",
   "name": "python3"
  },
  "language_info": {
   "codemirror_mode": {
    "name": "ipython",
    "version": 3
   },
   "file_extension": ".py",
   "mimetype": "text/x-python",
   "name": "python",
   "nbconvert_exporter": "python",
   "pygments_lexer": "ipython3",
   "version": "3.10.13"
  },
  "papermill": {
   "default_parameters": {},
   "duration": 10.746487,
   "end_time": "2024-08-07T23:27:17.808048",
   "environment_variables": {},
   "exception": null,
   "input_path": "__notebook__.ipynb",
   "output_path": "__notebook__.ipynb",
   "parameters": {},
   "start_time": "2024-08-07T23:27:07.061561",
   "version": "2.5.0"
  }
 },
 "nbformat": 4,
 "nbformat_minor": 5
}
