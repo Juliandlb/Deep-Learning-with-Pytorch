{
 "cells": [
  {
   "cell_type": "markdown",
   "id": "c99f1b61",
   "metadata": {
    "id": "uKfDnDv5kfus",
    "papermill": {
     "duration": 0.011837,
     "end_time": "2024-08-07T23:22:39.299648",
     "exception": false,
     "start_time": "2024-08-07T23:22:39.287811",
     "status": "completed"
    },
    "tags": []
   },
   "source": [
    "# Setup\n",
    "Import torch and check if there is a GPU available"
   ]
  },
  {
   "cell_type": "code",
   "execution_count": 1,
   "id": "df58c432",
   "metadata": {
    "execution": {
     "iopub.execute_input": "2024-08-07T23:22:39.324342Z",
     "iopub.status.busy": "2024-08-07T23:22:39.323640Z",
     "iopub.status.idle": "2024-08-07T23:22:43.615611Z",
     "shell.execute_reply": "2024-08-07T23:22:43.614360Z"
    },
    "id": "ngAV5o4Df1-W",
    "outputId": "4d260b49-1788-4d42-de67-a90e8669d4e0",
    "papermill": {
     "duration": 4.307006,
     "end_time": "2024-08-07T23:22:43.618058",
     "exception": false,
     "start_time": "2024-08-07T23:22:39.311052",
     "status": "completed"
    },
    "tags": []
   },
   "outputs": [
    {
     "name": "stdout",
     "output_type": "stream",
     "text": [
      "2.1.2\n",
      "GPU is available\n"
     ]
    }
   ],
   "source": [
    "import torch\n",
    "print(torch.__version__)\n",
    "# Check if GPU is available\n",
    "if torch.cuda.is_available():\n",
    "    device = torch.device('cuda')\n",
    "    print(\"GPU is available\")\n",
    "else:\n",
    "    device = torch.device('cpu')\n",
    "    print(\"GPU is not available\")"
   ]
  },
  {
   "cell_type": "markdown",
   "id": "6eb1fce1",
   "metadata": {
    "id": "vxuakNEgknyT",
    "papermill": {
     "duration": 0.011283,
     "end_time": "2024-08-07T23:22:43.641072",
     "exception": false,
     "start_time": "2024-08-07T23:22:43.629789",
     "status": "completed"
    },
    "tags": []
   },
   "source": [
    "# Tensor Initialization"
   ]
  },
  {
   "cell_type": "code",
   "execution_count": 2,
   "id": "709b818b",
   "metadata": {
    "execution": {
     "iopub.execute_input": "2024-08-07T23:22:43.666190Z",
     "iopub.status.busy": "2024-08-07T23:22:43.665677Z",
     "iopub.status.idle": "2024-08-07T23:22:43.898137Z",
     "shell.execute_reply": "2024-08-07T23:22:43.897081Z"
    },
    "id": "tzfoMflWkGVX",
    "outputId": "2a32d64e-53f7-4f3f-9543-693ec4e8650d",
    "papermill": {
     "duration": 0.247743,
     "end_time": "2024-08-07T23:22:43.900182",
     "exception": false,
     "start_time": "2024-08-07T23:22:43.652439",
     "status": "completed"
    },
    "tags": []
   },
   "outputs": [
    {
     "name": "stdout",
     "output_type": "stream",
     "text": [
      "tensor([[1, 2, 3],\n",
      "        [4, 5, 6]])\n",
      "torch.int64\n",
      "torch.float32\n",
      "cuda:0\n"
     ]
    }
   ],
   "source": [
    "# Create a tensor\n",
    "my_tensor = torch.tensor([[1,2,3],[4,5,6]])\n",
    "print(my_tensor)\n",
    "print(my_tensor.dtype)\n",
    "# Specify the type of the tensor\n",
    "my_tensor = torch.tensor([[1,2,3],[4,5,6]], dtype=torch.float32)\n",
    "print(my_tensor.dtype)\n",
    "# Specify the device of the tensor\n",
    "my_tensor = torch.tensor([[1,2,3],[4,5,6]], dtype=torch.float32, device = device)\n",
    "print(my_tensor.device)\n",
    "# Specify if the tensor requires gadient\n",
    "my_tensor = torch.tensor([[1,2,3],[4,5,6]], dtype=torch.float32, device = device, requires_grad=True)"
   ]
  },
  {
   "cell_type": "code",
   "execution_count": 3,
   "id": "855edc97",
   "metadata": {
    "execution": {
     "iopub.execute_input": "2024-08-07T23:22:43.924922Z",
     "iopub.status.busy": "2024-08-07T23:22:43.924631Z",
     "iopub.status.idle": "2024-08-07T23:22:44.009485Z",
     "shell.execute_reply": "2024-08-07T23:22:44.008347Z"
    },
    "id": "lwbh1D11l5Dr",
    "outputId": "30933f79-6b1d-4c1d-abf0-22e68b8d6c01",
    "papermill": {
     "duration": 0.099569,
     "end_time": "2024-08-07T23:22:44.011522",
     "exception": false,
     "start_time": "2024-08-07T23:22:43.911953",
     "status": "completed"
    },
    "tags": []
   },
   "outputs": [
    {
     "name": "stdout",
     "output_type": "stream",
     "text": [
      "tensor([[-3.2724e+30,  4.3132e-41, -4.8461e+35],\n",
      "        [ 3.1560e-41,  1.4013e-45,  0.0000e+00],\n",
      "        [ 1.3593e-43,  0.0000e+00,  5.3651e-38]])\n",
      "tensor([[0., 0., 0.],\n",
      "        [0., 0., 0.],\n",
      "        [0., 0., 0.]])\n",
      "tensor([[0.0371, 0.1913, 0.0790],\n",
      "        [0.1616, 0.0068, 0.2673],\n",
      "        [0.6791, 0.6592, 0.1888]])\n",
      "tensor([[1., 1., 1.],\n",
      "        [1., 1., 1.],\n",
      "        [1., 1., 1.]])\n",
      "tensor([[1., 0., 0.],\n",
      "        [0., 1., 0.],\n",
      "        [0., 0., 1.]])\n",
      "tensor([0, 1, 2, 3, 4])\n",
      "tensor([0.1000, 0.2000, 0.3000, 0.4000, 0.5000, 0.6000, 0.7000, 0.8000, 0.9000,\n",
      "        1.0000])\n",
      "tensor([[ 1.5822, -0.4738,  0.0803,  0.8946,  0.6806]])\n",
      "tensor([[0.8486, 0.7209, 0.8824, 0.8341, 0.3586]])\n",
      "tensor([[1., 0., 0.],\n",
      "        [0., 1., 0.],\n",
      "        [0., 0., 1.]])\n"
     ]
    }
   ],
   "source": [
    "# Other initialization methods\n",
    "x = torch.empty(size = (3,3)) # The values will be random\n",
    "print(x)\n",
    "x = torch.zeros(size = (3,3))\n",
    "print(x)\n",
    "x = torch.rand(size = (3,3))\n",
    "print(x)\n",
    "x = torch.ones(size = (3,3))\n",
    "print(x)\n",
    "x = torch.eye(3,3) # Identity matrix\n",
    "print(x)\n",
    "x = torch.arange(start=0, end=5, step=1)\n",
    "print(x)\n",
    "x = torch.linspace(start=0.1, end=1, steps=10)\n",
    "print(x)\n",
    "x = torch.empty(size = (1,5)).normal_(mean=0, std=1)\n",
    "print(x)\n",
    "x = torch.empty(size = (1,5)).uniform_(0,1)\n",
    "print(x)\n",
    "x = torch.diag(torch.ones(3)) # This will create a diagonal matrix of 3x3\n",
    "print(x)"
   ]
  },
  {
   "cell_type": "code",
   "execution_count": 4,
   "id": "ea4d3e43",
   "metadata": {
    "execution": {
     "iopub.execute_input": "2024-08-07T23:22:44.036096Z",
     "iopub.status.busy": "2024-08-07T23:22:44.035803Z",
     "iopub.status.idle": "2024-08-07T23:22:44.050930Z",
     "shell.execute_reply": "2024-08-07T23:22:44.050189Z"
    },
    "id": "Vyw7sSY_oc8P",
    "outputId": "84d221b7-f4b9-478b-9f4f-614413318660",
    "papermill": {
     "duration": 0.029411,
     "end_time": "2024-08-07T23:22:44.052845",
     "exception": false,
     "start_time": "2024-08-07T23:22:44.023434",
     "status": "completed"
    },
    "tags": []
   },
   "outputs": [
    {
     "name": "stdout",
     "output_type": "stream",
     "text": [
      "tensor([0, 1, 2, 3])\n",
      "torch.int64\n",
      "tensor([False,  True,  True,  True])\n",
      "tensor([0, 1, 2, 3], dtype=torch.int16)\n",
      "tensor([0, 1, 2, 3])\n",
      "tensor([0., 1., 2., 3.], dtype=torch.float16)\n",
      "tensor([0., 1., 2., 3.])\n",
      "tensor([0., 1., 2., 3.], dtype=torch.float64)\n"
     ]
    }
   ],
   "source": [
    " # How to initialize and convert tensors to other types (int, float, double)\n",
    "tensor = torch.arange(4)\n",
    "print(tensor)\n",
    "print(tensor.dtype)\n",
    "# Convert it to Bool\n",
    "print(tensor.bool())\n",
    "# Convert it to int16\n",
    "print(tensor.short())\n",
    "# Convert it to int64 **\n",
    "print(tensor.long())\n",
    "# Convert it to float16\n",
    "print(tensor.half())\n",
    "# Convert it to float32 **\n",
    "print(tensor.float())\n",
    "# Convert it to float64\n",
    "print(tensor.double())"
   ]
  },
  {
   "cell_type": "markdown",
   "id": "5d921ee9",
   "metadata": {
    "id": "Gg_fOUL3tR4s",
    "papermill": {
     "duration": 0.011661,
     "end_time": "2024-08-07T23:22:44.076448",
     "exception": false,
     "start_time": "2024-08-07T23:22:44.064787",
     "status": "completed"
    },
    "tags": []
   },
   "source": [
    "# Array-Tensor conversion"
   ]
  },
  {
   "cell_type": "code",
   "execution_count": 5,
   "id": "91485594",
   "metadata": {
    "execution": {
     "iopub.execute_input": "2024-08-07T23:22:44.101322Z",
     "iopub.status.busy": "2024-08-07T23:22:44.101076Z",
     "iopub.status.idle": "2024-08-07T23:22:44.107385Z",
     "shell.execute_reply": "2024-08-07T23:22:44.106470Z"
    },
    "id": "Z0l5MXoPq_9b",
    "outputId": "7659b9af-3681-49e7-f942-179d39b3deed",
    "papermill": {
     "duration": 0.021318,
     "end_time": "2024-08-07T23:22:44.109355",
     "exception": false,
     "start_time": "2024-08-07T23:22:44.088037",
     "status": "completed"
    },
    "tags": []
   },
   "outputs": [
    {
     "name": "stdout",
     "output_type": "stream",
     "text": [
      "tensor([[0., 0., 0., 0., 0.],\n",
      "        [0., 0., 0., 0., 0.],\n",
      "        [0., 0., 0., 0., 0.],\n",
      "        [0., 0., 0., 0., 0.],\n",
      "        [0., 0., 0., 0., 0.]], dtype=torch.float64)\n",
      "[[0. 0. 0. 0. 0.]\n",
      " [0. 0. 0. 0. 0.]\n",
      " [0. 0. 0. 0. 0.]\n",
      " [0. 0. 0. 0. 0.]\n",
      " [0. 0. 0. 0. 0.]]\n"
     ]
    }
   ],
   "source": [
    "# Array to Tensor conversion\n",
    "import numpy as np\n",
    "np_array = np.zeros((5,5))\n",
    "converted_tensor = torch.from_numpy(np_array)\n",
    "print(converted_tensor)\n",
    "\n",
    "# Tensor to Array conversion\n",
    "converted_np_array = converted_tensor.numpy()\n",
    "print(converted_np_array)"
   ]
  },
  {
   "cell_type": "markdown",
   "id": "72316d3c",
   "metadata": {
    "id": "XcQbKGcWtViC",
    "papermill": {
     "duration": 0.011678,
     "end_time": "2024-08-07T23:22:44.133370",
     "exception": false,
     "start_time": "2024-08-07T23:22:44.121692",
     "status": "completed"
    },
    "tags": []
   },
   "source": [
    "# Tensor Math"
   ]
  },
  {
   "cell_type": "code",
   "execution_count": 6,
   "id": "284c177c",
   "metadata": {
    "execution": {
     "iopub.execute_input": "2024-08-07T23:22:44.157894Z",
     "iopub.status.busy": "2024-08-07T23:22:44.157388Z",
     "iopub.status.idle": "2024-08-07T23:22:44.174075Z",
     "shell.execute_reply": "2024-08-07T23:22:44.173189Z"
    },
    "id": "MJRCIEwTsXH8",
    "outputId": "9803441c-67b8-499c-9ce5-7f52c1bb7d4e",
    "papermill": {
     "duration": 0.030994,
     "end_time": "2024-08-07T23:22:44.175974",
     "exception": false,
     "start_time": "2024-08-07T23:22:44.144980",
     "status": "completed"
    },
    "tags": []
   },
   "outputs": [
    {
     "name": "stdout",
     "output_type": "stream",
     "text": [
      "sum1: tensor([10., 10., 10.])\n",
      "sum2: tensor([10, 10, 10])\n",
      "sum3: tensor([10, 10, 10])\n",
      "sub: tensor([-8, -6, -4])\n",
      "div1: tensor([0.1111, 0.2500, 0.4286])\n",
      "div2: tensor([0.5000, 1.0000, 1.5000])\n"
     ]
    }
   ],
   "source": [
    "x = torch.tensor([1,2,3])\n",
    "y = torch.tensor([9,8,7])\n",
    "\n",
    "# Addition\n",
    "sum1 = torch.empty(3)\n",
    "torch.add(x, y, out=sum1)\n",
    "print('sum1:', sum1)\n",
    "sum2 = torch.add(x,y)\n",
    "print('sum2:', sum2)\n",
    "sum3 = x + y\n",
    "print('sum3:', sum3)\n",
    "\n",
    "# Subtraction\n",
    "sub = x - y\n",
    "print('sub:', sub)\n",
    "\n",
    "# Division\n",
    "# element-wise\n",
    "div1 = torch.true_divide(x, y)\n",
    "print('div1:', div1)\n",
    "# divide to an integer\n",
    "div2 = torch.true_divide(x, 2)\n",
    "print('div2:', div2)"
   ]
  },
  {
   "cell_type": "code",
   "execution_count": 7,
   "id": "8a1dcdfa",
   "metadata": {
    "execution": {
     "iopub.execute_input": "2024-08-07T23:22:44.200917Z",
     "iopub.status.busy": "2024-08-07T23:22:44.200673Z",
     "iopub.status.idle": "2024-08-07T23:22:44.208459Z",
     "shell.execute_reply": "2024-08-07T23:22:44.207628Z"
    },
    "id": "9_2aoLMC46Ji",
    "outputId": "c1693f55-29a8-4cb9-ae2e-592e40126388",
    "papermill": {
     "duration": 0.022466,
     "end_time": "2024-08-07T23:22:44.210286",
     "exception": false,
     "start_time": "2024-08-07T23:22:44.187820",
     "status": "completed"
    },
    "tags": []
   },
   "outputs": [
    {
     "name": "stdout",
     "output_type": "stream",
     "text": [
      "tensor([0., 0., 0.])\n",
      "tensor([1., 2., 3.])\n",
      "tensor([2., 4., 6.])\n"
     ]
    }
   ],
   "source": [
    "# Inplace Operations\n",
    "t = torch.zeros(3)\n",
    "print(t)\n",
    "t.add_(x) # The \"_\" means that it is done inplace, so you dont need to do a copy of the tensor\n",
    "print(t)\n",
    "t += x\n",
    "print(t)"
   ]
  },
  {
   "cell_type": "code",
   "execution_count": 8,
   "id": "f45f3c57",
   "metadata": {
    "execution": {
     "iopub.execute_input": "2024-08-07T23:22:44.235488Z",
     "iopub.status.busy": "2024-08-07T23:22:44.234823Z",
     "iopub.status.idle": "2024-08-07T23:22:44.240981Z",
     "shell.execute_reply": "2024-08-07T23:22:44.239946Z"
    },
    "id": "ZfIkRuZr5jea",
    "outputId": "64bea43b-2ec5-4edc-9c74-4c8323dcff75",
    "papermill": {
     "duration": 0.020679,
     "end_time": "2024-08-07T23:22:44.242866",
     "exception": false,
     "start_time": "2024-08-07T23:22:44.222187",
     "status": "completed"
    },
    "tags": []
   },
   "outputs": [
    {
     "name": "stdout",
     "output_type": "stream",
     "text": [
      "tensor([1, 2, 3])\n",
      "tensor([1, 4, 9])\n",
      "tensor([1, 4, 9])\n"
     ]
    }
   ],
   "source": [
    "# Element-wise exponentiation\n",
    "print(x)\n",
    "z = x.pow(2)\n",
    "y = x ** 2\n",
    "print(z)\n",
    "print(y)"
   ]
  },
  {
   "cell_type": "code",
   "execution_count": 9,
   "id": "f77da512",
   "metadata": {
    "execution": {
     "iopub.execute_input": "2024-08-07T23:22:44.268090Z",
     "iopub.status.busy": "2024-08-07T23:22:44.267430Z",
     "iopub.status.idle": "2024-08-07T23:22:44.319424Z",
     "shell.execute_reply": "2024-08-07T23:22:44.318556Z"
    },
    "id": "g8PLtngJ8KaN",
    "outputId": "1ed2cf54-d47c-49a7-b6a5-52fb5f2643c9",
    "papermill": {
     "duration": 0.066588,
     "end_time": "2024-08-07T23:22:44.321400",
     "exception": false,
     "start_time": "2024-08-07T23:22:44.254812",
     "status": "completed"
    },
    "tags": []
   },
   "outputs": [
    {
     "data": {
      "text/plain": [
       "tensor([[1.2857, 1.2313, 1.0499, 0.7959, 0.4646],\n",
       "        [1.4106, 1.3564, 0.8815, 0.5999, 1.5455],\n",
       "        [0.9655, 1.1693, 1.3052, 0.7440, 0.6919],\n",
       "        [1.2108, 1.6545, 0.8081, 0.4979, 0.8240],\n",
       "        [0.7161, 0.8731, 0.9497, 0.8142, 0.6605]])"
      ]
     },
     "execution_count": 9,
     "metadata": {},
     "output_type": "execute_result"
    }
   ],
   "source": [
    "# Matrix exponentiation\n",
    "matrix_exp = torch.rand((5,5))\n",
    "matrix_exp.matrix_power(2)"
   ]
  },
  {
   "cell_type": "code",
   "execution_count": 10,
   "id": "21b63970",
   "metadata": {
    "execution": {
     "iopub.execute_input": "2024-08-07T23:22:44.347165Z",
     "iopub.status.busy": "2024-08-07T23:22:44.346896Z",
     "iopub.status.idle": "2024-08-07T23:22:44.352484Z",
     "shell.execute_reply": "2024-08-07T23:22:44.351669Z"
    },
    "id": "imP0MIcr54uT",
    "outputId": "260a450e-12b3-4513-b23b-b44d05bc992c",
    "papermill": {
     "duration": 0.020648,
     "end_time": "2024-08-07T23:22:44.354371",
     "exception": false,
     "start_time": "2024-08-07T23:22:44.333723",
     "status": "completed"
    },
    "tags": []
   },
   "outputs": [
    {
     "name": "stdout",
     "output_type": "stream",
     "text": [
      "tensor([True, True, True])\n",
      "tensor([False, False, False])\n"
     ]
    }
   ],
   "source": [
    "# Simple Comparison\n",
    "z = x > 0\n",
    "print(z)\n",
    "z = x < 0\n",
    "print(z)"
   ]
  },
  {
   "cell_type": "code",
   "execution_count": 11,
   "id": "c00d127a",
   "metadata": {
    "execution": {
     "iopub.execute_input": "2024-08-07T23:22:44.379892Z",
     "iopub.status.busy": "2024-08-07T23:22:44.379640Z",
     "iopub.status.idle": "2024-08-07T23:22:44.386164Z",
     "shell.execute_reply": "2024-08-07T23:22:44.385297Z"
    },
    "id": "G-OjJXJj6P6u",
    "outputId": "7ad5c894-2a7c-41ef-ce15-31b92558fbfc",
    "papermill": {
     "duration": 0.021337,
     "end_time": "2024-08-07T23:22:44.387971",
     "exception": false,
     "start_time": "2024-08-07T23:22:44.366634",
     "status": "completed"
    },
    "tags": []
   },
   "outputs": [
    {
     "name": "stdout",
     "output_type": "stream",
     "text": [
      "tensor([1, 2, 3])\n",
      "tensor([1, 4, 9])\n",
      "tensor([ 1,  8, 27])\n"
     ]
    }
   ],
   "source": [
    "# Element-wise multiplication\n",
    "print(x)\n",
    "print(y)\n",
    "z = x * y\n",
    "print(z)"
   ]
  },
  {
   "cell_type": "code",
   "execution_count": 12,
   "id": "15b88746",
   "metadata": {
    "execution": {
     "iopub.execute_input": "2024-08-07T23:22:44.413460Z",
     "iopub.status.busy": "2024-08-07T23:22:44.413216Z",
     "iopub.status.idle": "2024-08-07T23:22:44.421281Z",
     "shell.execute_reply": "2024-08-07T23:22:44.420384Z"
    },
    "id": "SqGXczar8ODP",
    "outputId": "7b106917-84d5-4fab-f150-df0297c6a3ee",
    "papermill": {
     "duration": 0.022835,
     "end_time": "2024-08-07T23:22:44.423121",
     "exception": false,
     "start_time": "2024-08-07T23:22:44.400286",
     "status": "completed"
    },
    "tags": []
   },
   "outputs": [
    {
     "name": "stdout",
     "output_type": "stream",
     "text": [
      "tensor([[0.8605, 0.9288, 1.3533],\n",
      "        [0.7057, 0.3858, 0.5022]])\n",
      "tensor([[0.8605, 0.9288, 1.3533],\n",
      "        [0.7057, 0.3858, 0.5022]])\n"
     ]
    }
   ],
   "source": [
    "# Matrix multiplication\n",
    "x1 = torch.rand((2,5))\n",
    "x2 = torch.rand((5,3))\n",
    "\n",
    "x3 = torch.mm(x1,x2)  # 2x3\n",
    "x4 = x1.mm(x2) # This is common to all pytorch functions\n",
    "print(x3)\n",
    "print(x4)"
   ]
  },
  {
   "cell_type": "code",
   "execution_count": 13,
   "id": "4845549e",
   "metadata": {
    "execution": {
     "iopub.execute_input": "2024-08-07T23:22:44.449157Z",
     "iopub.status.busy": "2024-08-07T23:22:44.448562Z",
     "iopub.status.idle": "2024-08-07T23:22:44.453749Z",
     "shell.execute_reply": "2024-08-07T23:22:44.452869Z"
    },
    "id": "n3Y0-Yiq6cqY",
    "outputId": "25e916d6-ab1b-4342-cc20-12e9d1df3ecd",
    "papermill": {
     "duration": 0.020165,
     "end_time": "2024-08-07T23:22:44.455619",
     "exception": false,
     "start_time": "2024-08-07T23:22:44.435454",
     "status": "completed"
    },
    "tags": []
   },
   "outputs": [
    {
     "name": "stdout",
     "output_type": "stream",
     "text": [
      "tensor(36)\n"
     ]
    }
   ],
   "source": [
    "# dot product\n",
    "z = torch.dot(x,y)\n",
    "print(z)"
   ]
  },
  {
   "cell_type": "code",
   "execution_count": 14,
   "id": "5830541c",
   "metadata": {
    "execution": {
     "iopub.execute_input": "2024-08-07T23:22:44.481144Z",
     "iopub.status.busy": "2024-08-07T23:22:44.480903Z",
     "iopub.status.idle": "2024-08-07T23:22:44.489437Z",
     "shell.execute_reply": "2024-08-07T23:22:44.488548Z"
    },
    "id": "Luh_n8Oe8EzF",
    "papermill": {
     "duration": 0.023687,
     "end_time": "2024-08-07T23:22:44.491630",
     "exception": false,
     "start_time": "2024-08-07T23:22:44.467943",
     "status": "completed"
    },
    "tags": []
   },
   "outputs": [],
   "source": [
    "# Batch matrix multiplication\n",
    "batch = 32\n",
    "n = 10\n",
    "m = 20\n",
    "p = 30\n",
    "tensor1 = torch.rand((batch, n, m))\n",
    "tensor2 = torch.rand((batch, m, p))\n",
    "out_bmm = torch.bmm(tensor1, tensor2) # (batch, n, p)"
   ]
  },
  {
   "cell_type": "code",
   "execution_count": 15,
   "id": "1cbec369",
   "metadata": {
    "execution": {
     "iopub.execute_input": "2024-08-07T23:22:44.518761Z",
     "iopub.status.busy": "2024-08-07T23:22:44.518491Z",
     "iopub.status.idle": "2024-08-07T23:22:44.523074Z",
     "shell.execute_reply": "2024-08-07T23:22:44.522251Z"
    },
    "id": "BS9r3KTF8HCr",
    "papermill": {
     "duration": 0.019429,
     "end_time": "2024-08-07T23:22:44.524958",
     "exception": false,
     "start_time": "2024-08-07T23:22:44.505529",
     "status": "completed"
    },
    "tags": []
   },
   "outputs": [],
   "source": [
    "# Example of Broadcasting\n",
    "x1 = torch.rand((5,5))\n",
    "x2 = torch.rand((1,5))  # will be expanded to 5x5\n",
    "z1 = x1 - x2\n",
    "z2 = x1 ** x2"
   ]
  },
  {
   "cell_type": "markdown",
   "id": "386f7876",
   "metadata": {
    "id": "swoKNcMQ9vIZ",
    "papermill": {
     "duration": 0.012168,
     "end_time": "2024-08-07T23:22:44.549518",
     "exception": false,
     "start_time": "2024-08-07T23:22:44.537350",
     "status": "completed"
    },
    "tags": []
   },
   "source": [
    "# Useful Tensor Math Operations"
   ]
  },
  {
   "cell_type": "code",
   "execution_count": 16,
   "id": "626084aa",
   "metadata": {
    "execution": {
     "iopub.execute_input": "2024-08-07T23:22:44.575279Z",
     "iopub.status.busy": "2024-08-07T23:22:44.575035Z",
     "iopub.status.idle": "2024-08-07T23:22:44.578978Z",
     "shell.execute_reply": "2024-08-07T23:22:44.578288Z"
    },
    "id": "yCyuDS_f9aGE",
    "papermill": {
     "duration": 0.018841,
     "end_time": "2024-08-07T23:22:44.580771",
     "exception": false,
     "start_time": "2024-08-07T23:22:44.561930",
     "status": "completed"
    },
    "tags": []
   },
   "outputs": [],
   "source": [
    "# Sum columns (dim=0) or rows (dim=1)\n",
    "sum_x = torch.sum(x, dim=0)"
   ]
  },
  {
   "cell_type": "code",
   "execution_count": 17,
   "id": "87cb19e0",
   "metadata": {
    "execution": {
     "iopub.execute_input": "2024-08-07T23:22:44.606306Z",
     "iopub.status.busy": "2024-08-07T23:22:44.606073Z",
     "iopub.status.idle": "2024-08-07T23:22:44.617529Z",
     "shell.execute_reply": "2024-08-07T23:22:44.616702Z"
    },
    "id": "AYEiwCCT-C9t",
    "papermill": {
     "duration": 0.026293,
     "end_time": "2024-08-07T23:22:44.619425",
     "exception": false,
     "start_time": "2024-08-07T23:22:44.593132",
     "status": "completed"
    },
    "tags": []
   },
   "outputs": [],
   "source": [
    "# Max and min values\n",
    "values, indices = torch.max(x, dim=0)\n",
    "values, indices = torch.min(x, dim=0)\n",
    "z1 = torch.argmax(x, dim=0) # does the same as torch.max, but only returns the index\n",
    "z2 = torch.argmin(x, dim=0)"
   ]
  },
  {
   "cell_type": "code",
   "execution_count": 18,
   "id": "250e59fa",
   "metadata": {
    "execution": {
     "iopub.execute_input": "2024-08-07T23:22:44.645607Z",
     "iopub.status.busy": "2024-08-07T23:22:44.645138Z",
     "iopub.status.idle": "2024-08-07T23:22:44.648860Z",
     "shell.execute_reply": "2024-08-07T23:22:44.648051Z"
    },
    "id": "NzvmTeUM-SwC",
    "papermill": {
     "duration": 0.018893,
     "end_time": "2024-08-07T23:22:44.650677",
     "exception": false,
     "start_time": "2024-08-07T23:22:44.631784",
     "status": "completed"
    },
    "tags": []
   },
   "outputs": [],
   "source": [
    "# Absolute value\n",
    "abs_x = torch.abs(x)"
   ]
  },
  {
   "cell_type": "code",
   "execution_count": 19,
   "id": "e64370d9",
   "metadata": {
    "execution": {
     "iopub.execute_input": "2024-08-07T23:22:44.676376Z",
     "iopub.status.busy": "2024-08-07T23:22:44.676121Z",
     "iopub.status.idle": "2024-08-07T23:22:44.680828Z",
     "shell.execute_reply": "2024-08-07T23:22:44.680153Z"
    },
    "id": "7XEPdz8F-YRe",
    "papermill": {
     "duration": 0.01947,
     "end_time": "2024-08-07T23:22:44.682599",
     "exception": false,
     "start_time": "2024-08-07T23:22:44.663129",
     "status": "completed"
    },
    "tags": []
   },
   "outputs": [],
   "source": [
    "# Mean (the tensor needs to be float)\n",
    "mean = torch.mean(x.float(), dim=0)"
   ]
  },
  {
   "cell_type": "code",
   "execution_count": 20,
   "id": "118cf555",
   "metadata": {
    "execution": {
     "iopub.execute_input": "2024-08-07T23:22:44.708544Z",
     "iopub.status.busy": "2024-08-07T23:22:44.707975Z",
     "iopub.status.idle": "2024-08-07T23:22:44.711660Z",
     "shell.execute_reply": "2024-08-07T23:22:44.710836Z"
    },
    "id": "W-QH_6Pa-dua",
    "papermill": {
     "duration": 0.018446,
     "end_time": "2024-08-07T23:22:44.713484",
     "exception": false,
     "start_time": "2024-08-07T23:22:44.695038",
     "status": "completed"
    },
    "tags": []
   },
   "outputs": [],
   "source": [
    "# Element-wise check if they are equal\n",
    "z = torch.eq(x,y)"
   ]
  },
  {
   "cell_type": "code",
   "execution_count": 21,
   "id": "286dda9b",
   "metadata": {
    "execution": {
     "iopub.execute_input": "2024-08-07T23:22:44.739119Z",
     "iopub.status.busy": "2024-08-07T23:22:44.738876Z",
     "iopub.status.idle": "2024-08-07T23:22:44.746130Z",
     "shell.execute_reply": "2024-08-07T23:22:44.745284Z"
    },
    "id": "MT0m8GLXAkPQ",
    "papermill": {
     "duration": 0.022249,
     "end_time": "2024-08-07T23:22:44.748055",
     "exception": false,
     "start_time": "2024-08-07T23:22:44.725806",
     "status": "completed"
    },
    "tags": []
   },
   "outputs": [],
   "source": [
    "# Sort\n",
    "sorted_y, indices = torch.sort(y, dim=0, descending=False)"
   ]
  },
  {
   "cell_type": "code",
   "execution_count": 22,
   "id": "b703768d",
   "metadata": {
    "execution": {
     "iopub.execute_input": "2024-08-07T23:22:44.774169Z",
     "iopub.status.busy": "2024-08-07T23:22:44.773643Z",
     "iopub.status.idle": "2024-08-07T23:22:44.779177Z",
     "shell.execute_reply": "2024-08-07T23:22:44.778534Z"
    },
    "id": "DANr34eYBLBR",
    "papermill": {
     "duration": 0.020192,
     "end_time": "2024-08-07T23:22:44.780901",
     "exception": false,
     "start_time": "2024-08-07T23:22:44.760709",
     "status": "completed"
    },
    "tags": []
   },
   "outputs": [],
   "source": [
    "# Limit the values of the tensor [0, 10]\n",
    "z = torch.clamp(x, min=-5, max=5)\n",
    "ReLU = torch.clamp(x, min=0)"
   ]
  },
  {
   "cell_type": "code",
   "execution_count": 23,
   "id": "b1950a9d",
   "metadata": {
    "execution": {
     "iopub.execute_input": "2024-08-07T23:22:44.806782Z",
     "iopub.status.busy": "2024-08-07T23:22:44.806537Z",
     "iopub.status.idle": "2024-08-07T23:22:44.813443Z",
     "shell.execute_reply": "2024-08-07T23:22:44.812542Z"
    },
    "id": "c3tbPmQkByCX",
    "outputId": "7760e5d5-cdfa-48bd-9f53-ee8ed78bd44b",
    "papermill": {
     "duration": 0.021885,
     "end_time": "2024-08-07T23:22:44.815339",
     "exception": false,
     "start_time": "2024-08-07T23:22:44.793454",
     "status": "completed"
    },
    "tags": []
   },
   "outputs": [
    {
     "name": "stdout",
     "output_type": "stream",
     "text": [
      "tensor(True)\n",
      "tensor(False)\n"
     ]
    }
   ],
   "source": [
    "# Check for True values\n",
    "x = torch.tensor([1,0,1,1,1,0], dtype=bool)\n",
    "z = torch.any(x)  # at least one True\n",
    "print(z)\n",
    "z = torch.all(x)  # all True\n",
    "print(z)"
   ]
  },
  {
   "cell_type": "markdown",
   "id": "301662fa",
   "metadata": {
    "id": "Yy73PnbeC4Vh",
    "papermill": {
     "duration": 0.012249,
     "end_time": "2024-08-07T23:22:44.840002",
     "exception": false,
     "start_time": "2024-08-07T23:22:44.827753",
     "status": "completed"
    },
    "tags": []
   },
   "source": [
    "# Tensor Indexing"
   ]
  },
  {
   "cell_type": "code",
   "execution_count": 24,
   "id": "64bee72d",
   "metadata": {
    "execution": {
     "iopub.execute_input": "2024-08-07T23:22:44.865781Z",
     "iopub.status.busy": "2024-08-07T23:22:44.865534Z",
     "iopub.status.idle": "2024-08-07T23:22:44.872604Z",
     "shell.execute_reply": "2024-08-07T23:22:44.871847Z"
    },
    "id": "g8iO_4V_CJsy",
    "outputId": "2550c7d6-c39f-4c69-c7cb-35d4dbbc0236",
    "papermill": {
     "duration": 0.022061,
     "end_time": "2024-08-07T23:22:44.874531",
     "exception": false,
     "start_time": "2024-08-07T23:22:44.852470",
     "status": "completed"
    },
    "tags": []
   },
   "outputs": [
    {
     "name": "stdout",
     "output_type": "stream",
     "text": [
      "torch.Size([25])\n",
      "torch.Size([10])\n",
      "torch.Size([8])\n"
     ]
    }
   ],
   "source": [
    "batch_size = 10 # number of examples in a batch\n",
    "features = 25\n",
    "x = torch.rand((batch_size, features))\n",
    "\n",
    "# Get the features of the first example\n",
    "print(x[0].shape) #x[0] is equivalent to x[0,:]\n",
    "\n",
    "# Get the first features of all of the example\n",
    "print(x[:,0].shape)\n",
    "\n",
    "# Get the first eight features of the third example in the batch\n",
    "print(x[2, 0:8].shape)"
   ]
  },
  {
   "cell_type": "code",
   "execution_count": 25,
   "id": "696e64f0",
   "metadata": {
    "execution": {
     "iopub.execute_input": "2024-08-07T23:22:44.900475Z",
     "iopub.status.busy": "2024-08-07T23:22:44.900234Z",
     "iopub.status.idle": "2024-08-07T23:22:44.907033Z",
     "shell.execute_reply": "2024-08-07T23:22:44.906077Z"
    },
    "id": "6AJMh6hLIAHS",
    "outputId": "19042cb6-22c7-4fd3-cee6-6e799e9e2876",
    "papermill": {
     "duration": 0.021782,
     "end_time": "2024-08-07T23:22:44.908918",
     "exception": false,
     "start_time": "2024-08-07T23:22:44.887136",
     "status": "completed"
    },
    "tags": []
   },
   "outputs": [
    {
     "name": "stdout",
     "output_type": "stream",
     "text": [
      "tensor([0, 1, 2, 3, 4, 5, 6, 7, 8, 9])\n",
      "tensor([2, 5, 8])\n"
     ]
    }
   ],
   "source": [
    "# Select values in a one-dimensional tensor\n",
    "x = torch.arange(10)\n",
    "indices = [2, 5, 8]\n",
    "print(x)\n",
    "print(x[indices])"
   ]
  },
  {
   "cell_type": "code",
   "execution_count": 26,
   "id": "3591e1d0",
   "metadata": {
    "execution": {
     "iopub.execute_input": "2024-08-07T23:22:44.935399Z",
     "iopub.status.busy": "2024-08-07T23:22:44.935158Z",
     "iopub.status.idle": "2024-08-07T23:22:44.941747Z",
     "shell.execute_reply": "2024-08-07T23:22:44.940820Z"
    },
    "id": "s2avpFEOJ-UO",
    "outputId": "7dc7d5e0-59ba-4821-d373-cfddd225e87e",
    "papermill": {
     "duration": 0.02196,
     "end_time": "2024-08-07T23:22:44.943665",
     "exception": false,
     "start_time": "2024-08-07T23:22:44.921705",
     "status": "completed"
    },
    "tags": []
   },
   "outputs": [
    {
     "name": "stdout",
     "output_type": "stream",
     "text": [
      "tensor([[0.2389, 0.4962, 0.2719, 0.3248, 0.2164],\n",
      "        [0.2585, 0.4446, 0.0413, 0.9984, 0.6875],\n",
      "        [0.8816, 0.6336, 0.1428, 0.1341, 0.2106]])\n",
      "tensor([0.6875, 0.2389])\n"
     ]
    }
   ],
   "source": [
    "# Select values in a two-dimensional tensor\n",
    "x = torch.rand((3,5))\n",
    "rows = torch.tensor([1,0])\n",
    "cols = torch.tensor([4,0])\n",
    "\n",
    "print(x)\n",
    "print(x[rows, cols])  # This picks the second row and the fifth column, and then the first row and first colum"
   ]
  },
  {
   "cell_type": "code",
   "execution_count": 27,
   "id": "ed5c539b",
   "metadata": {
    "execution": {
     "iopub.execute_input": "2024-08-07T23:22:44.971554Z",
     "iopub.status.busy": "2024-08-07T23:22:44.971300Z",
     "iopub.status.idle": "2024-08-07T23:22:44.978997Z",
     "shell.execute_reply": "2024-08-07T23:22:44.978019Z"
    },
    "id": "VGBA4HZtKmww",
    "outputId": "828ea597-acc8-4d31-c2f5-1143e3860442",
    "papermill": {
     "duration": 0.023053,
     "end_time": "2024-08-07T23:22:44.980856",
     "exception": false,
     "start_time": "2024-08-07T23:22:44.957803",
     "status": "completed"
    },
    "tags": []
   },
   "outputs": [
    {
     "name": "stdout",
     "output_type": "stream",
     "text": [
      "tensor([0, 1, 2, 3, 4, 5, 6, 7, 8, 9])\n",
      "tensor([0, 1, 9])\n",
      "tensor([4, 5])\n",
      "tensor([0, 2, 4, 6, 8])\n"
     ]
    }
   ],
   "source": [
    "# Conditional indexing\n",
    "x = torch.arange(10)\n",
    "print(x)\n",
    "\n",
    "print(x[(x<2)|(x>8)])\n",
    "print(x[(x<6)&(x>3)])\n",
    "\n",
    "print(x[x.remainder(2) == 0]) # Even numbers"
   ]
  },
  {
   "cell_type": "markdown",
   "id": "f505dc5c",
   "metadata": {
    "id": "jTxA4mAnOCVn",
    "papermill": {
     "duration": 0.012842,
     "end_time": "2024-08-07T23:22:45.047734",
     "exception": false,
     "start_time": "2024-08-07T23:22:45.034892",
     "status": "completed"
    },
    "tags": []
   },
   "source": [
    "## Useful Operations"
   ]
  },
  {
   "cell_type": "code",
   "execution_count": 28,
   "id": "58acae9a",
   "metadata": {
    "execution": {
     "iopub.execute_input": "2024-08-07T23:22:45.075350Z",
     "iopub.status.busy": "2024-08-07T23:22:45.074537Z",
     "iopub.status.idle": "2024-08-07T23:22:45.081591Z",
     "shell.execute_reply": "2024-08-07T23:22:45.080645Z"
    },
    "id": "wZLGVfFJL1C2",
    "outputId": "a11126b0-2e41-4e36-c240-36b6e3c03410",
    "papermill": {
     "duration": 0.022827,
     "end_time": "2024-08-07T23:22:45.083473",
     "exception": false,
     "start_time": "2024-08-07T23:22:45.060646",
     "status": "completed"
    },
    "tags": []
   },
   "outputs": [
    {
     "name": "stdout",
     "output_type": "stream",
     "text": [
      "tensor([0, 0, 0, 0, 0, 0, 6, 7, 8, 9])\n"
     ]
    }
   ],
   "source": [
    "# Change the values of the tensor\n",
    "print(torch.where(x > 5, x*1, x*0)) # when x > 5 -> x, when x =< 5 -> 0"
   ]
  },
  {
   "cell_type": "code",
   "execution_count": 29,
   "id": "1a3e3a2d",
   "metadata": {
    "execution": {
     "iopub.execute_input": "2024-08-07T23:22:45.110594Z",
     "iopub.status.busy": "2024-08-07T23:22:45.110102Z",
     "iopub.status.idle": "2024-08-07T23:22:45.118430Z",
     "shell.execute_reply": "2024-08-07T23:22:45.117539Z"
    },
    "id": "HpZqb8sMM_p0",
    "outputId": "03054efc-2648-47d9-d131-5fe5d18b6754",
    "papermill": {
     "duration": 0.024107,
     "end_time": "2024-08-07T23:22:45.120442",
     "exception": false,
     "start_time": "2024-08-07T23:22:45.096335",
     "status": "completed"
    },
    "tags": []
   },
   "outputs": [
    {
     "name": "stdout",
     "output_type": "stream",
     "text": [
      "tensor([0, 1, 2, 3, 4])\n"
     ]
    }
   ],
   "source": [
    "# Check for unique values\n",
    "x = torch.tensor([0,0,1,2,2,3,4])\n",
    "print(x.unique())"
   ]
  },
  {
   "cell_type": "code",
   "execution_count": 30,
   "id": "307d63a8",
   "metadata": {
    "execution": {
     "iopub.execute_input": "2024-08-07T23:22:45.147464Z",
     "iopub.status.busy": "2024-08-07T23:22:45.147196Z",
     "iopub.status.idle": "2024-08-07T23:22:45.153513Z",
     "shell.execute_reply": "2024-08-07T23:22:45.152697Z"
    },
    "id": "C-W0Si6KN0pu",
    "outputId": "e6324d07-8377-4b2f-81fc-49b44e918bf2",
    "papermill": {
     "duration": 0.022422,
     "end_time": "2024-08-07T23:22:45.155783",
     "exception": false,
     "start_time": "2024-08-07T23:22:45.133361",
     "status": "completed"
    },
    "tags": []
   },
   "outputs": [
    {
     "name": "stdout",
     "output_type": "stream",
     "text": [
      "1\n",
      "2\n",
      "3\n"
     ]
    }
   ],
   "source": [
    "# Number of dimentions of a tensor\n",
    "x1 = torch.tensor([0,0,0])\n",
    "x2 = torch.tensor([[0,0,0],[0,0,0]])\n",
    "x3 = torch.tensor([[[0,0,0],[0,0,0],[0,0,0]]])\n",
    "print(x1.ndimension())\n",
    "print(x2.ndimension())\n",
    "print(x3.ndimension())"
   ]
  },
  {
   "cell_type": "code",
   "execution_count": 31,
   "id": "6e9ed89b",
   "metadata": {
    "execution": {
     "iopub.execute_input": "2024-08-07T23:22:45.182726Z",
     "iopub.status.busy": "2024-08-07T23:22:45.182417Z",
     "iopub.status.idle": "2024-08-07T23:22:45.186721Z",
     "shell.execute_reply": "2024-08-07T23:22:45.185941Z"
    },
    "id": "j8B_0tyNOIiv",
    "outputId": "793591ed-1ac1-4bef-e62d-465cecce3080",
    "papermill": {
     "duration": 0.020289,
     "end_time": "2024-08-07T23:22:45.189009",
     "exception": false,
     "start_time": "2024-08-07T23:22:45.168720",
     "status": "completed"
    },
    "tags": []
   },
   "outputs": [
    {
     "name": "stdout",
     "output_type": "stream",
     "text": [
      "3\n",
      "6\n",
      "9\n"
     ]
    }
   ],
   "source": [
    "# Count the number of elements in a tensor\n",
    "print(x1.numel())\n",
    "print(x2.numel())\n",
    "print(x3.numel())"
   ]
  },
  {
   "cell_type": "markdown",
   "id": "24c37e3a",
   "metadata": {
    "id": "qMpq3xb-OswX",
    "papermill": {
     "duration": 0.012891,
     "end_time": "2024-08-07T23:22:45.215097",
     "exception": false,
     "start_time": "2024-08-07T23:22:45.202206",
     "status": "completed"
    },
    "tags": []
   },
   "source": [
    "# Tensor Reshaping Dimensions"
   ]
  },
  {
   "cell_type": "code",
   "execution_count": 32,
   "id": "f6867c7b",
   "metadata": {
    "execution": {
     "iopub.execute_input": "2024-08-07T23:22:45.242154Z",
     "iopub.status.busy": "2024-08-07T23:22:45.241897Z",
     "iopub.status.idle": "2024-08-07T23:22:45.247140Z",
     "shell.execute_reply": "2024-08-07T23:22:45.246322Z"
    },
    "id": "jx_d_nDDOh_b",
    "outputId": "0432c9b8-678a-44c0-9137-ca8ffbd9ac88",
    "papermill": {
     "duration": 0.02108,
     "end_time": "2024-08-07T23:22:45.249167",
     "exception": false,
     "start_time": "2024-08-07T23:22:45.228087",
     "status": "completed"
    },
    "tags": []
   },
   "outputs": [
    {
     "name": "stdout",
     "output_type": "stream",
     "text": [
      "torch.Size([9])\n",
      "torch.Size([3, 3])\n",
      "torch.Size([3, 3])\n"
     ]
    }
   ],
   "source": [
    "# Change a 9 element vector to a 3x3 matrix\n",
    "x = torch.arange(9)\n",
    "print(x.shape)\n",
    "\n",
    "x_3x3_1 = x.view(3,3)\n",
    "x_3x3_2 = x.reshape(3,3)  # Reshape is the prefered choice\n",
    "\n",
    "print(x_3x3_1.shape)\n",
    "print(x_3x3_2.shape)"
   ]
  },
  {
   "cell_type": "code",
   "execution_count": 33,
   "id": "ac139aa7",
   "metadata": {
    "execution": {
     "iopub.execute_input": "2024-08-07T23:22:45.276725Z",
     "iopub.status.busy": "2024-08-07T23:22:45.276170Z",
     "iopub.status.idle": "2024-08-07T23:22:45.282349Z",
     "shell.execute_reply": "2024-08-07T23:22:45.281533Z"
    },
    "id": "I7TLECOjOyT2",
    "outputId": "da015913-6b23-4eeb-9b85-97d6410d5bed",
    "papermill": {
     "duration": 0.021892,
     "end_time": "2024-08-07T23:22:45.284197",
     "exception": false,
     "start_time": "2024-08-07T23:22:45.262305",
     "status": "completed"
    },
    "tags": []
   },
   "outputs": [
    {
     "name": "stdout",
     "output_type": "stream",
     "text": [
      "torch.Size([4, 5])\n"
     ]
    }
   ],
   "source": [
    "# Concatenate tensors\n",
    "x1 = torch.rand((2,5))\n",
    "x2 = torch.rand((2,5))\n",
    "z = torch.cat((x1,x2), dim=0)\n",
    "print(z.shape)"
   ]
  },
  {
   "cell_type": "code",
   "execution_count": 34,
   "id": "76401b29",
   "metadata": {
    "execution": {
     "iopub.execute_input": "2024-08-07T23:22:45.312406Z",
     "iopub.status.busy": "2024-08-07T23:22:45.311757Z",
     "iopub.status.idle": "2024-08-07T23:22:45.316254Z",
     "shell.execute_reply": "2024-08-07T23:22:45.315456Z"
    },
    "id": "-2gdXVEMQHli",
    "outputId": "1c8f71de-be19-41cd-ee41-cbe12fe8279d",
    "papermill": {
     "duration": 0.020601,
     "end_time": "2024-08-07T23:22:45.318426",
     "exception": false,
     "start_time": "2024-08-07T23:22:45.297825",
     "status": "completed"
    },
    "tags": []
   },
   "outputs": [
    {
     "name": "stdout",
     "output_type": "stream",
     "text": [
      "torch.Size([10])\n",
      "torch.Size([10])\n"
     ]
    }
   ],
   "source": [
    "# Matrix to vector\n",
    "z = x1.view(-1)\n",
    "print(z.shape)\n",
    "z = x1.reshape(-1)\n",
    "print(z.shape)"
   ]
  },
  {
   "cell_type": "code",
   "execution_count": 35,
   "id": "5ec3a3c2",
   "metadata": {
    "execution": {
     "iopub.execute_input": "2024-08-07T23:22:45.346284Z",
     "iopub.status.busy": "2024-08-07T23:22:45.346040Z",
     "iopub.status.idle": "2024-08-07T23:22:45.352082Z",
     "shell.execute_reply": "2024-08-07T23:22:45.351127Z"
    },
    "id": "uaUi5GlWRNTJ",
    "outputId": "ae32fe04-5c7a-4097-b58b-10794c4777a0",
    "papermill": {
     "duration": 0.021928,
     "end_time": "2024-08-07T23:22:45.353902",
     "exception": false,
     "start_time": "2024-08-07T23:22:45.331974",
     "status": "completed"
    },
    "tags": []
   },
   "outputs": [
    {
     "name": "stdout",
     "output_type": "stream",
     "text": [
      "tensor([[0, 1, 2],\n",
      "        [3, 4, 5],\n",
      "        [6, 7, 8]])\n",
      "tensor([[0, 3, 6],\n",
      "        [1, 4, 7],\n",
      "        [2, 5, 8]])\n"
     ]
    }
   ],
   "source": [
    "# Transpose\n",
    "x = torch.arange(9)\n",
    "x = x.reshape((3,3))\n",
    "print(x)\n",
    "print(x.t())"
   ]
  },
  {
   "cell_type": "code",
   "execution_count": 36,
   "id": "ec731185",
   "metadata": {
    "execution": {
     "iopub.execute_input": "2024-08-07T23:22:45.382038Z",
     "iopub.status.busy": "2024-08-07T23:22:45.381315Z",
     "iopub.status.idle": "2024-08-07T23:22:45.388245Z",
     "shell.execute_reply": "2024-08-07T23:22:45.387396Z"
    },
    "id": "znMOB7HIRpdK",
    "outputId": "b37745eb-ee09-465b-bc04-44c880ee83fa",
    "papermill": {
     "duration": 0.023013,
     "end_time": "2024-08-07T23:22:45.390223",
     "exception": false,
     "start_time": "2024-08-07T23:22:45.367210",
     "status": "completed"
    },
    "tags": []
   },
   "outputs": [
    {
     "name": "stdout",
     "output_type": "stream",
     "text": [
      "torch.Size([64, 2, 5])\n",
      "torch.Size([64, 10])\n",
      "torch.Size([64, 5, 2])\n"
     ]
    }
   ],
   "source": [
    "# Permute (Similar to transpose, but used for more dimensions)\n",
    "batch = 64\n",
    "x = torch.rand((batch, 2, 5))\n",
    "print(x.shape)\n",
    "\n",
    "z1 = x.view(batch, -1) # adjust automatically the rest of the dimentions\n",
    "print(z1.shape)\n",
    "\n",
    "z2 = x.permute(0, 2, 1) # the ordering of the dimentions is (first, third, second), so batch stays the same\n",
    "print(z2.shape)"
   ]
  },
  {
   "cell_type": "code",
   "execution_count": 37,
   "id": "d164f724",
   "metadata": {
    "execution": {
     "iopub.execute_input": "2024-08-07T23:22:45.418320Z",
     "iopub.status.busy": "2024-08-07T23:22:45.418049Z",
     "iopub.status.idle": "2024-08-07T23:22:45.424085Z",
     "shell.execute_reply": "2024-08-07T23:22:45.423192Z"
    },
    "id": "GvsmJ0bJSkdp",
    "outputId": "ede87830-c319-4397-95f9-2ddbd0d92312",
    "papermill": {
     "duration": 0.022351,
     "end_time": "2024-08-07T23:22:45.426082",
     "exception": false,
     "start_time": "2024-08-07T23:22:45.403731",
     "status": "completed"
    },
    "tags": []
   },
   "outputs": [
    {
     "name": "stdout",
     "output_type": "stream",
     "text": [
      "torch.Size([10])\n",
      "torch.Size([1, 10])\n",
      "torch.Size([10, 1])\n",
      "torch.Size([1, 1, 10])\n"
     ]
    }
   ],
   "source": [
    "# Row-Column vector transformation\n",
    "x = torch.arange(10)\n",
    "print(x.shape)\n",
    "\n",
    "row = x.unsqueeze(0)\n",
    "print(row.shape)\n",
    "\n",
    "col = x.unsqueeze(1)\n",
    "print(col.shape)\n",
    "\n",
    "z = x.unsqueeze(0).unsqueeze(1)\n",
    "print(z.shape)"
   ]
  }
 ],
 "metadata": {
  "accelerator": "GPU",
  "colab": {
   "authorship_tag": "ABX9TyNPFsfoC+s/QP5VUYOEE44f",
   "gpuType": "T4",
   "include_colab_link": true,
   "provenance": [],
   "toc_visible": true
  },
  "kaggle": {
   "accelerator": "nvidiaTeslaT4",
   "dataSources": [],
   "dockerImageVersionId": 30747,
   "isGpuEnabled": true,
   "isInternetEnabled": true,
   "language": "python",
   "sourceType": "notebook"
  },
  "kernelspec": {
   "display_name": "Python 3",
   "language": "python",
   "name": "python3"
  },
  "language_info": {
   "codemirror_mode": {
    "name": "ipython",
    "version": 3
   },
   "file_extension": ".py",
   "mimetype": "text/x-python",
   "name": "python",
   "nbconvert_exporter": "python",
   "pygments_lexer": "ipython3",
   "version": "3.10.13"
  },
  "papermill": {
   "default_parameters": {},
   "duration": 10.137666,
   "end_time": "2024-08-07T23:22:46.559895",
   "environment_variables": {},
   "exception": null,
   "input_path": "__notebook__.ipynb",
   "output_path": "__notebook__.ipynb",
   "parameters": {},
   "start_time": "2024-08-07T23:22:36.422229",
   "version": "2.5.0"
  }
 },
 "nbformat": 4,
 "nbformat_minor": 5
}
