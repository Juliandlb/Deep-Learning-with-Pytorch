{
 "cells": [
  {
   "cell_type": "markdown",
   "id": "6de340c1",
   "metadata": {
    "id": "IDQ0ZQJoeq6v",
    "papermill": {
     "duration": 0.005615,
     "end_time": "2024-08-08T00:11:02.920125",
     "exception": false,
     "start_time": "2024-08-08T00:11:02.914510",
     "status": "completed"
    },
    "tags": []
   },
   "source": [
    "# Imports"
   ]
  },
  {
   "cell_type": "code",
   "execution_count": 1,
   "id": "30894b47",
   "metadata": {
    "execution": {
     "iopub.execute_input": "2024-08-08T00:11:02.931356Z",
     "iopub.status.busy": "2024-08-08T00:11:02.930945Z",
     "iopub.status.idle": "2024-08-08T00:11:08.824794Z",
     "shell.execute_reply": "2024-08-08T00:11:08.823459Z"
    },
    "id": "2rnQ7hvOeNhh",
    "papermill": {
     "duration": 5.90255,
     "end_time": "2024-08-08T00:11:08.827610",
     "exception": false,
     "start_time": "2024-08-08T00:11:02.925060",
     "status": "completed"
    },
    "tags": []
   },
   "outputs": [],
   "source": [
    "import torch\n",
    "import torch.nn as nn\n",
    "import torch.optim as optim\n",
    "import torch.nn.functional as F\n",
    "from torch.utils.data import DataLoader\n",
    "import torchvision.datasets as datasets\n",
    "import torchvision.transforms as transforms"
   ]
  },
  {
   "cell_type": "markdown",
   "id": "85c2ad94",
   "metadata": {
    "id": "tVIhuFdHevrr",
    "papermill": {
     "duration": 0.004341,
     "end_time": "2024-08-08T00:11:08.837124",
     "exception": false,
     "start_time": "2024-08-08T00:11:08.832783",
     "status": "completed"
    },
    "tags": []
   },
   "source": [
    "# Model"
   ]
  },
  {
   "cell_type": "code",
   "execution_count": 2,
   "id": "90e6d412",
   "metadata": {
    "execution": {
     "iopub.execute_input": "2024-08-08T00:11:08.848535Z",
     "iopub.status.busy": "2024-08-08T00:11:08.848035Z",
     "iopub.status.idle": "2024-08-08T00:11:09.015441Z",
     "shell.execute_reply": "2024-08-08T00:11:09.014272Z"
    },
    "id": "De4IB4j9ezAX",
    "outputId": "f5ec245b-3d21-47dd-d37a-0859b37e2273",
    "papermill": {
     "duration": 0.176413,
     "end_time": "2024-08-08T00:11:09.018362",
     "exception": false,
     "start_time": "2024-08-08T00:11:08.841949",
     "status": "completed"
    },
    "tags": []
   },
   "outputs": [
    {
     "name": "stdout",
     "output_type": "stream",
     "text": [
      "torch.Size([64, 10])\n",
      "cpu\n"
     ]
    }
   ],
   "source": [
    "# Create the model\n",
    "class CNN(nn.Module):\n",
    "  def __init__(self, in_channels = 1, num_classes = 10):  # 28x28 = 784\n",
    "    super(CNN, self).__init__()\n",
    "    self.conv1 = nn.Conv2d(in_channels=1, out_channels=8, kernel_size=(3,3), stride=(1,1), padding=(1,1)) # 28x28\n",
    "    self.pool = nn.MaxPool2d(kernel_size=(2,2), stride=(2,2)) # 14x14\n",
    "    self.conv2 = nn.Conv2d(in_channels=8, out_channels=16, kernel_size=(3,3), stride=(1,1), padding=(1,1))\n",
    "    self.fc1 = nn.Linear(16*7*7, num_classes)\n",
    "\n",
    "  def forward(self, x):\n",
    "    x = F.relu(self.conv1(x))\n",
    "    x = self.pool(x)\n",
    "    x = F.relu(self.conv2(x))\n",
    "    x = self.pool(x)\n",
    "    x = x.reshape(x.shape[0], -1)\n",
    "    x = self.fc1(x)\n",
    "    return x\n",
    "\n",
    "# Check if it gives the correct shapes for some random data\n",
    "model = CNN()\n",
    "x = torch.rand(64, 1, 28, 28) # mini batch size x features\n",
    "print(model(x).shape) # he hope to have the number of examples x the number of classes (64x10)\n",
    "\n",
    "# Device\n",
    "device = torch.device('cuda' if torch.cuda.is_available() else 'cpu')\n",
    "print(device)\n",
    "\n",
    "# Hyperparameter\n",
    "input_size = 784\n",
    "num_classes = 10\n",
    "learning_rate = 0.001\n",
    "batch_size = 64\n",
    "num_epochs = 5"
   ]
  },
  {
   "cell_type": "markdown",
   "id": "2ce935ba",
   "metadata": {
    "id": "ceXpgQ9Uyewa",
    "papermill": {
     "duration": 0.004823,
     "end_time": "2024-08-08T00:11:09.028508",
     "exception": false,
     "start_time": "2024-08-08T00:11:09.023685",
     "status": "completed"
    },
    "tags": []
   },
   "source": [
    "$$n_{out}=\n",
    "\\lfloor\n",
    "\\frac{n_{in}+2p-k}{s}+1\n",
    "\\rfloor\n",
    "=\n",
    "\\lfloor\n",
    "\\frac{28+2-3}{1}+1\n",
    "\\rfloor\n",
    "=\n",
    "28\n",
    "$$\n",
    "where:\n",
    "\n",
    "$n_{in}$ : number of input features\n",
    "\n",
    "$n_{out}$ : number of output features\n",
    "\n",
    "$k$ : convolution kernel size\n",
    "\n",
    "$p$ : convolution padding size\n",
    "\n",
    "$s$ : convolution stride size"
   ]
  },
  {
   "cell_type": "markdown",
   "id": "ea8ded6e",
   "metadata": {
    "id": "NivC79aefIGV",
    "papermill": {
     "duration": 0.00436,
     "end_time": "2024-08-08T00:11:09.037540",
     "exception": false,
     "start_time": "2024-08-08T00:11:09.033180",
     "status": "completed"
    },
    "tags": []
   },
   "source": [
    "# Load Data"
   ]
  },
  {
   "cell_type": "code",
   "execution_count": 3,
   "id": "e2b90d5f",
   "metadata": {
    "execution": {
     "iopub.execute_input": "2024-08-08T00:11:09.048700Z",
     "iopub.status.busy": "2024-08-08T00:11:09.048272Z",
     "iopub.status.idle": "2024-08-08T00:11:11.974912Z",
     "shell.execute_reply": "2024-08-08T00:11:11.973948Z"
    },
    "id": "27vHygWwfKiU",
    "outputId": "5cc9f5ad-68e5-484f-dc39-93eb6ea13208",
    "papermill": {
     "duration": 2.936403,
     "end_time": "2024-08-08T00:11:11.978683",
     "exception": false,
     "start_time": "2024-08-08T00:11:09.042280",
     "status": "completed"
    },
    "tags": []
   },
   "outputs": [
    {
     "name": "stdout",
     "output_type": "stream",
     "text": [
      "Downloading http://yann.lecun.com/exdb/mnist/train-images-idx3-ubyte.gz\n",
      "Failed to download (trying next):\n",
      "HTTP Error 403: Forbidden\n",
      "\n",
      "Downloading https://ossci-datasets.s3.amazonaws.com/mnist/train-images-idx3-ubyte.gz\n",
      "Downloading https://ossci-datasets.s3.amazonaws.com/mnist/train-images-idx3-ubyte.gz to dataset/MNIST/raw/train-images-idx3-ubyte.gz\n"
     ]
    },
    {
     "name": "stderr",
     "output_type": "stream",
     "text": [
      "100%|██████████| 9912422/9912422 [00:00<00:00, 37666562.40it/s]\n"
     ]
    },
    {
     "name": "stdout",
     "output_type": "stream",
     "text": [
      "Extracting dataset/MNIST/raw/train-images-idx3-ubyte.gz to dataset/MNIST/raw\n",
      "\n",
      "Downloading http://yann.lecun.com/exdb/mnist/train-labels-idx1-ubyte.gz\n",
      "Failed to download (trying next):\n",
      "HTTP Error 403: Forbidden\n",
      "\n",
      "Downloading https://ossci-datasets.s3.amazonaws.com/mnist/train-labels-idx1-ubyte.gz\n",
      "Downloading https://ossci-datasets.s3.amazonaws.com/mnist/train-labels-idx1-ubyte.gz to dataset/MNIST/raw/train-labels-idx1-ubyte.gz\n"
     ]
    },
    {
     "name": "stderr",
     "output_type": "stream",
     "text": [
      "100%|██████████| 28881/28881 [00:00<00:00, 1040774.07it/s]\n"
     ]
    },
    {
     "name": "stdout",
     "output_type": "stream",
     "text": [
      "Extracting dataset/MNIST/raw/train-labels-idx1-ubyte.gz to dataset/MNIST/raw\n",
      "\n",
      "Downloading http://yann.lecun.com/exdb/mnist/t10k-images-idx3-ubyte.gz\n",
      "Failed to download (trying next):\n",
      "HTTP Error 403: Forbidden\n",
      "\n",
      "Downloading https://ossci-datasets.s3.amazonaws.com/mnist/t10k-images-idx3-ubyte.gz\n",
      "Downloading https://ossci-datasets.s3.amazonaws.com/mnist/t10k-images-idx3-ubyte.gz to dataset/MNIST/raw/t10k-images-idx3-ubyte.gz\n"
     ]
    },
    {
     "name": "stderr",
     "output_type": "stream",
     "text": [
      "100%|██████████| 1648877/1648877 [00:00<00:00, 9675593.08it/s]\n"
     ]
    },
    {
     "name": "stdout",
     "output_type": "stream",
     "text": [
      "Extracting dataset/MNIST/raw/t10k-images-idx3-ubyte.gz to dataset/MNIST/raw\n",
      "\n",
      "Downloading http://yann.lecun.com/exdb/mnist/t10k-labels-idx1-ubyte.gz\n",
      "Failed to download (trying next):\n",
      "HTTP Error 403: Forbidden\n",
      "\n",
      "Downloading https://ossci-datasets.s3.amazonaws.com/mnist/t10k-labels-idx1-ubyte.gz\n",
      "Downloading https://ossci-datasets.s3.amazonaws.com/mnist/t10k-labels-idx1-ubyte.gz to dataset/MNIST/raw/t10k-labels-idx1-ubyte.gz\n"
     ]
    },
    {
     "name": "stderr",
     "output_type": "stream",
     "text": [
      "100%|██████████| 4542/4542 [00:00<00:00, 1671538.89it/s]"
     ]
    },
    {
     "name": "stdout",
     "output_type": "stream",
     "text": [
      "Extracting dataset/MNIST/raw/t10k-labels-idx1-ubyte.gz to dataset/MNIST/raw\n",
      "\n"
     ]
    },
    {
     "name": "stderr",
     "output_type": "stream",
     "text": [
      "\n"
     ]
    }
   ],
   "source": [
    "train_dataset = datasets.MNIST(root='dataset/', train=True, transform=transforms.ToTensor(), download=True)\n",
    "train_loader = DataLoader(dataset=train_dataset, batch_size=batch_size, shuffle=True)\n",
    "test_dataset = datasets.MNIST(root='dataset/', train=False, transform=transforms.ToTensor(), download=True)\n",
    "test_loader = DataLoader(dataset=test_dataset, batch_size=batch_size, shuffle=True)"
   ]
  },
  {
   "cell_type": "markdown",
   "id": "c01b4b7d",
   "metadata": {
    "id": "PohFFebhe2K7",
    "papermill": {
     "duration": 0.006835,
     "end_time": "2024-08-08T00:11:11.992747",
     "exception": false,
     "start_time": "2024-08-08T00:11:11.985912",
     "status": "completed"
    },
    "tags": []
   },
   "source": [
    "# Training"
   ]
  },
  {
   "cell_type": "code",
   "execution_count": 4,
   "id": "e86ad0d9",
   "metadata": {
    "execution": {
     "iopub.execute_input": "2024-08-08T00:11:12.009699Z",
     "iopub.status.busy": "2024-08-08T00:11:12.009279Z",
     "iopub.status.idle": "2024-08-08T00:12:33.477916Z",
     "shell.execute_reply": "2024-08-08T00:12:33.476672Z"
    },
    "id": "Xucyzc8Ge8RH",
    "papermill": {
     "duration": 81.480894,
     "end_time": "2024-08-08T00:12:33.480892",
     "exception": false,
     "start_time": "2024-08-08T00:11:11.999998",
     "status": "completed"
    },
    "tags": []
   },
   "outputs": [],
   "source": [
    "# Intialize NN\n",
    "# model = CNN(input_size=input_size, num_classes=num_classes).to(device)\n",
    "model = CNN().to(device)\n",
    "\n",
    "# Loss and optimizer\n",
    "criterion = nn.CrossEntropyLoss()\n",
    "optimizer = optim.Adam(model.parameters(), lr=learning_rate)\n",
    "\n",
    "# Train the NN\n",
    "for epoch in range(num_epochs):\n",
    "  for batch_idx, (data, targets) in enumerate(train_loader):\n",
    "    # Get data to device\n",
    "    data = data.to(device=device)\n",
    "    targets = targets.to(device=device)\n",
    "\n",
    "    # Forward propagation\n",
    "    scores = model(data)\n",
    "    loss = criterion(scores, targets)\n",
    "\n",
    "    # Backward propagation\n",
    "    optimizer.zero_grad() # initialize all gradients to zero for each batch\n",
    "    loss.backward()\n",
    "\n",
    "    # Gradient descent or Adam step\n",
    "    optimizer.step()"
   ]
  },
  {
   "cell_type": "markdown",
   "id": "fd077335",
   "metadata": {
    "id": "UvS7Go0de-yH",
    "papermill": {
     "duration": 0.006881,
     "end_time": "2024-08-08T00:12:33.496163",
     "exception": false,
     "start_time": "2024-08-08T00:12:33.489282",
     "status": "completed"
    },
    "tags": []
   },
   "source": [
    "# Performance"
   ]
  },
  {
   "cell_type": "code",
   "execution_count": 5,
   "id": "5b7f4ab8",
   "metadata": {
    "execution": {
     "iopub.execute_input": "2024-08-08T00:12:33.513068Z",
     "iopub.status.busy": "2024-08-08T00:12:33.512587Z",
     "iopub.status.idle": "2024-08-08T00:12:33.522424Z",
     "shell.execute_reply": "2024-08-08T00:12:33.521172Z"
    },
    "id": "w9ZXp1PCfADg",
    "papermill": {
     "duration": 0.022237,
     "end_time": "2024-08-08T00:12:33.525506",
     "exception": false,
     "start_time": "2024-08-08T00:12:33.503269",
     "status": "completed"
    },
    "tags": []
   },
   "outputs": [],
   "source": [
    "# Check accuracy on training and test sets\n",
    "def check_accuracy(loader, model):\n",
    "  if loader.dataset.train:\n",
    "    print(\"Checking accuracy on training data\")\n",
    "  else:\n",
    "    print(\"Checking accuracy on test data\")\n",
    "  num_correct = 0\n",
    "  num_samples = 0\n",
    "  model.eval()\n",
    "\n",
    "  with torch.no_grad():\n",
    "    for x, y in loader:\n",
    "      x = x.to(device=device)\n",
    "      y = y.to(device=device)\n",
    "\n",
    "      scores = model(x)\n",
    "      _, predictions = scores.max(1)  # scores is 64x10 and we want to know which one of those the is the maximum value, so in max: dim=1\n",
    "      num_correct += (predictions == y).sum()\n",
    "      num_samples += predictions.size(0)\n",
    "\n",
    "    print(f'got {num_correct} / {num_samples} with accuracy {float(num_correct)/float(num_samples)*100:.2f}')\n",
    "\n",
    "  model.train()"
   ]
  },
  {
   "cell_type": "code",
   "execution_count": 6,
   "id": "8909e8f8",
   "metadata": {
    "execution": {
     "iopub.execute_input": "2024-08-08T00:12:33.542307Z",
     "iopub.status.busy": "2024-08-08T00:12:33.541926Z",
     "iopub.status.idle": "2024-08-08T00:12:47.293229Z",
     "shell.execute_reply": "2024-08-08T00:12:47.291508Z"
    },
    "id": "hLDIDqEPrWhk",
    "outputId": "94a9d564-477f-43db-88ca-477c4af08078",
    "papermill": {
     "duration": 13.762927,
     "end_time": "2024-08-08T00:12:47.295930",
     "exception": false,
     "start_time": "2024-08-08T00:12:33.533003",
     "status": "completed"
    },
    "tags": []
   },
   "outputs": [
    {
     "name": "stdout",
     "output_type": "stream",
     "text": [
      "Checking accuracy on training data\n",
      "got 59118 / 60000 with accuracy 98.53\n",
      "Checking accuracy on test data\n",
      "got 9835 / 10000 with accuracy 98.35\n"
     ]
    }
   ],
   "source": [
    "check_accuracy(train_loader, model)\n",
    "check_accuracy(test_loader, model)"
   ]
  }
 ],
 "metadata": {
  "accelerator": "GPU",
  "colab": {
   "authorship_tag": "ABX9TyObrvh6X37pU5sz9wyubq+G",
   "gpuType": "T4",
   "include_colab_link": true,
   "provenance": []
  },
  "kaggle": {
   "accelerator": "none",
   "dataSources": [],
   "dockerImageVersionId": 30746,
   "isGpuEnabled": false,
   "isInternetEnabled": true,
   "language": "python",
   "sourceType": "notebook"
  },
  "kernelspec": {
   "display_name": "Python 3",
   "language": "python",
   "name": "python3"
  },
  "language_info": {
   "codemirror_mode": {
    "name": "ipython",
    "version": 3
   },
   "file_extension": ".py",
   "mimetype": "text/x-python",
   "name": "python",
   "nbconvert_exporter": "python",
   "pygments_lexer": "ipython3",
   "version": "3.10.13"
  },
  "papermill": {
   "default_parameters": {},
   "duration": 108.7677,
   "end_time": "2024-08-08T00:12:48.532699",
   "environment_variables": {},
   "exception": null,
   "input_path": "__notebook__.ipynb",
   "output_path": "__notebook__.ipynb",
   "parameters": {},
   "start_time": "2024-08-08T00:10:59.764999",
   "version": "2.5.0"
  }
 },
 "nbformat": 4,
 "nbformat_minor": 5
}
